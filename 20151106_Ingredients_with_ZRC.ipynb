{
 "cells": [
  {
   "cell_type": "code",
   "execution_count": 1,
   "metadata": {
    "collapsed": true
   },
   "outputs": [],
   "source": [
    "import pandas as pd"
   ]
  },
  {
   "cell_type": "code",
   "execution_count": 2,
   "metadata": {
    "collapsed": false
   },
   "outputs": [],
   "source": [
    "df = pd.read_json('train.json')"
   ]
  },
  {
   "cell_type": "code",
   "execution_count": 3,
   "metadata": {
    "collapsed": false
   },
   "outputs": [
    {
     "data": {
      "text/html": [
       "<div>\n",
       "<table border=\"1\" class=\"dataframe\">\n",
       "  <thead>\n",
       "    <tr style=\"text-align: right;\">\n",
       "      <th></th>\n",
       "      <th>cuisine</th>\n",
       "      <th>id</th>\n",
       "      <th>ingredients</th>\n",
       "    </tr>\n",
       "  </thead>\n",
       "  <tbody>\n",
       "    <tr>\n",
       "      <th>0</th>\n",
       "      <td>greek</td>\n",
       "      <td>10259</td>\n",
       "      <td>[romaine lettuce, black olives, grape tomatoes...</td>\n",
       "    </tr>\n",
       "    <tr>\n",
       "      <th>1</th>\n",
       "      <td>southern_us</td>\n",
       "      <td>25693</td>\n",
       "      <td>[plain flour, ground pepper, salt, tomatoes, g...</td>\n",
       "    </tr>\n",
       "    <tr>\n",
       "      <th>2</th>\n",
       "      <td>filipino</td>\n",
       "      <td>20130</td>\n",
       "      <td>[eggs, pepper, salt, mayonaise, cooking oil, g...</td>\n",
       "    </tr>\n",
       "    <tr>\n",
       "      <th>3</th>\n",
       "      <td>indian</td>\n",
       "      <td>22213</td>\n",
       "      <td>[water, vegetable oil, wheat, salt]</td>\n",
       "    </tr>\n",
       "    <tr>\n",
       "      <th>4</th>\n",
       "      <td>indian</td>\n",
       "      <td>13162</td>\n",
       "      <td>[black pepper, shallots, cornflour, cayenne pe...</td>\n",
       "    </tr>\n",
       "  </tbody>\n",
       "</table>\n",
       "</div>"
      ],
      "text/plain": [
       "       cuisine     id                                        ingredients\n",
       "0        greek  10259  [romaine lettuce, black olives, grape tomatoes...\n",
       "1  southern_us  25693  [plain flour, ground pepper, salt, tomatoes, g...\n",
       "2     filipino  20130  [eggs, pepper, salt, mayonaise, cooking oil, g...\n",
       "3       indian  22213                [water, vegetable oil, wheat, salt]\n",
       "4       indian  13162  [black pepper, shallots, cornflour, cayenne pe..."
      ]
     },
     "execution_count": 3,
     "metadata": {},
     "output_type": "execute_result"
    }
   ],
   "source": [
    "df.head()"
   ]
  },
  {
   "cell_type": "code",
   "execution_count": 4,
   "metadata": {
    "collapsed": false
   },
   "outputs": [
    {
     "data": {
      "text/plain": [
       "cuisine\n",
       "brazilian        467\n",
       "british          804\n",
       "cajun_creole    1546\n",
       "chinese         2673\n",
       "filipino         755\n",
       "french          2646\n",
       "greek           1175\n",
       "indian          3003\n",
       "irish            667\n",
       "italian         7838\n",
       "jamaican         526\n",
       "japanese        1423\n",
       "korean           830\n",
       "mexican         6438\n",
       "moroccan         821\n",
       "russian          489\n",
       "southern_us     4320\n",
       "spanish          989\n",
       "thai            1539\n",
       "vietnamese       825\n",
       "Name: id, dtype: int64"
      ]
     },
     "execution_count": 4,
     "metadata": {},
     "output_type": "execute_result"
    }
   ],
   "source": [
    "total = df.groupby('cuisine').count()['id']\n",
    "total"
   ]
  },
  {
   "cell_type": "code",
   "execution_count": 5,
   "metadata": {
    "collapsed": false
   },
   "outputs": [
    {
     "data": {
      "text/plain": [
       "cuisine\n",
       "brazilian        467\n",
       "russian          489\n",
       "jamaican         526\n",
       "irish            667\n",
       "filipino         755\n",
       "british          804\n",
       "moroccan         821\n",
       "vietnamese       825\n",
       "korean           830\n",
       "spanish          989\n",
       "greek           1175\n",
       "japanese        1423\n",
       "thai            1539\n",
       "cajun_creole    1546\n",
       "french          2646\n",
       "chinese         2673\n",
       "indian          3003\n",
       "southern_us     4320\n",
       "mexican         6438\n",
       "italian         7838\n",
       "Name: id, dtype: int64"
      ]
     },
     "execution_count": 5,
     "metadata": {},
     "output_type": "execute_result"
    }
   ],
   "source": [
    "total.sort_values(inplace=False)"
   ]
  },
  {
   "cell_type": "code",
   "execution_count": 6,
   "metadata": {
    "collapsed": false
   },
   "outputs": [
    {
     "data": {
      "text/plain": [
       "['romaine lettuce',\n",
       " 'black olives',\n",
       " 'grape tomatoes',\n",
       " 'garlic',\n",
       " 'pepper',\n",
       " 'purple onion',\n",
       " 'seasoning',\n",
       " 'garbanzo beans',\n",
       " 'feta cheese crumbles']"
      ]
     },
     "execution_count": 6,
     "metadata": {},
     "output_type": "execute_result"
    }
   ],
   "source": [
    "df.loc[0]['ingredients']"
   ]
  },
  {
   "cell_type": "code",
   "execution_count": 7,
   "metadata": {
    "collapsed": false
   },
   "outputs": [],
   "source": [
    "df['ingredient_string'] = pd.Series([\";\".join(ingr) for ingr in df['ingredients']])"
   ]
  },
  {
   "cell_type": "code",
   "execution_count": 8,
   "metadata": {
    "collapsed": false
   },
   "outputs": [
    {
     "data": {
      "text/plain": [
       "'romaine lettuce;black olives;grape tomatoes;garlic;pepper;purple onion;seasoning;garbanzo beans;feta cheese crumbles'"
      ]
     },
     "execution_count": 8,
     "metadata": {},
     "output_type": "execute_result"
    }
   ],
   "source": [
    "df.loc[0]['ingredient_string']"
   ]
  },
  {
   "cell_type": "code",
   "execution_count": 9,
   "metadata": {
    "collapsed": false
   },
   "outputs": [
    {
     "data": {
      "text/plain": [
       "cuisine\n",
       "french          0.002646\n",
       "italian         0.003445\n",
       "spanish         0.004044\n",
       "moroccan        0.004872\n",
       "greek           0.005106\n",
       "russian         0.006135\n",
       "british         0.006219\n",
       "brazilian       0.006424\n",
       "southern_us     0.008102\n",
       "cajun_creole    0.009056\n",
       "mexican         0.009941\n",
       "irish           0.010495\n",
       "indian          0.011988\n",
       "jamaican        0.155894\n",
       "vietnamese      0.281212\n",
       "thai            0.319038\n",
       "filipino        0.378808\n",
       "japanese        0.533380\n",
       "korean          0.661446\n",
       "chinese         0.760569\n",
       "Name: id, dtype: float64"
      ]
     },
     "execution_count": 9,
     "metadata": {},
     "output_type": "execute_result"
    }
   ],
   "source": [
    "(df[df['ingredient_string'].str.contains('soy')].groupby('cuisine').count()['id'] / total).sort_values(inplace=False)"
   ]
  },
  {
   "cell_type": "code",
   "execution_count": 10,
   "metadata": {
    "collapsed": false
   },
   "outputs": [
    {
     "data": {
      "text/plain": [
       "0        romaine lettuce;black olives;grape tomatoes;ga...\n",
       "1        plain flour;ground pepper;salt;tomatoes;ground...\n",
       "2        eggs;pepper;salt;mayonaise;cooking oil;green c...\n",
       "3                           water;vegetable oil;wheat;salt\n",
       "4        black pepper;shallots;cornflour;cayenne pepper...\n",
       "5        plain flour;sugar;butter;eggs;fresh ginger roo...\n",
       "6        olive oil;salt;medium shrimp;pepper;garlic;cho...\n",
       "7        sugar;pistachio nuts;white almond bark;flour;v...\n",
       "8        olive oil;purple onion;fresh pineapple;pork;po...\n",
       "9        chopped tomatoes;fresh basil;garlic;extra-virg...\n",
       "10       pimentos;sweet pepper;dried oregano;olive oil;...\n",
       "11       low sodium soy sauce;fresh ginger;dry mustard;...\n",
       "12       Italian parsley leaves;walnuts;hot red pepper ...\n",
       "13       ground cinnamon;fresh cilantro;chili powder;gr...\n",
       "14       fresh parmesan cheese;butter;all-purpose flour...\n",
       "15       tumeric;vegetable stock;tomatoes;garam masala;...\n",
       "16       greek yogurt;lemon curd;confectioners sugar;ra...\n",
       "17       italian seasoning;broiler-fryer chicken;mayona...\n",
       "18             sugar;hot chili;asian fish sauce;lime juice\n",
       "19       soy sauce;vegetable oil;red bell pepper;chicke...\n",
       "20       pork loin;roasted peanuts;chopped cilantro fre...\n",
       "21       roma tomatoes;kosher salt;purple onion;jalapen...\n",
       "22       low-fat mayonnaise;pepper;salt;baking potatoes...\n",
       "23       sesame seeds;red pepper;yellow peppers;water;e...\n",
       "24       marinara sauce;flat leaf parsley;olive oil;lin...\n",
       "25       sugar;lo mein noodles;salt;chicken broth;light...\n",
       "26       herbs;lemon juice;fresh tomatoes;paprika;mango...\n",
       "27       ground black pepper;butter;sliced mushrooms;sh...\n",
       "28       green bell pepper;egg roll wrappers;sweet and ...\n",
       "29       flour tortillas;cheese;breakfast sausages;larg...\n",
       "                               ...                        \n",
       "39744    extra-virgin olive oil;oregano;potatoes;garlic...\n",
       "39745    quinoa;extra-virgin olive oil;fresh thyme leav...\n",
       "39746    clove;bay leaves;ginger;chopped cilantro;groun...\n",
       "39747    water;sugar;grated lemon zest;butter;pitted da...\n",
       "39748    sea salt;pizza doughs;all-purpose flour;cornme...\n",
       "39749    kosher salt;minced onion;tortilla chips;sugar;...\n",
       "39750    ground black pepper;chicken breasts;salsa;ched...\n",
       "39751    olive oil;cayenne pepper;chopped cilantro fres...\n",
       "39752    self rising flour;milk;white sugar;butter;peac...\n",
       "39753    rosemary sprigs;lemon zest;garlic cloves;groun...\n",
       "39754    jasmine rice;bay leaves;sticky rice;rotisserie...\n",
       "39755    mint leaves;cilantro leaves;ghee;tomatoes;cinn...\n",
       "39756    vegetable oil;cinnamon sticks;water;all-purpos...\n",
       "39757    red bell pepper;garlic cloves;extra-virgin oli...\n",
       "39758    milk;salt;ground cayenne pepper;ground lamb;gr...\n",
       "39759    red chili peppers;sea salt;onions;water;chilli...\n",
       "39760    butter;large eggs;cornmeal;baking powder;boili...\n",
       "39761    honey;chicken breast halves;cilantro leaves;ca...\n",
       "39762    curry powder;salt;chicken;water;vegetable oil;...\n",
       "39763    fettuccine pasta;low-fat cream cheese;garlic;n...\n",
       "39764    chili powder;worcestershire sauce;celery;red k...\n",
       "39765    coconut;unsweetened coconut milk;mint leaves;p...\n",
       "39766    rutabaga;ham;thick-cut bacon;potatoes;fresh pa...\n",
       "39767    low-fat sour cream;grated parmesan cheese;salt...\n",
       "39768    shredded cheddar cheese;crushed cheese cracker...\n",
       "39769    light brown sugar;granulated sugar;butter;warm...\n",
       "39770    KRAFT Zesty Italian Dressing;purple onion;broc...\n",
       "39771    eggs;citrus fruit;raisins;sourdough starter;fl...\n",
       "39772    boneless chicken skinless thigh;minced garlic;...\n",
       "39773    green chile;jalapeno chilies;onions;ground bla...\n",
       "Name: ingredient_string, dtype: object"
      ]
     },
     "execution_count": 10,
     "metadata": {},
     "output_type": "execute_result"
    }
   ],
   "source": [
    "df['ingredient_string']"
   ]
  },
  {
   "cell_type": "markdown",
   "metadata": {},
   "source": [
    "# La matrice des poids "
   ]
  },
  {
   "cell_type": "code",
   "execution_count": 11,
   "metadata": {
    "collapsed": false
   },
   "outputs": [
    {
     "data": {
      "text/plain": [
       "LogisticRegression(C=1.0, class_weight=None, dual=False, fit_intercept=True,\n",
       "          intercept_scaling=1, max_iter=100, multi_class='ovr', n_jobs=1,\n",
       "          penalty='l2', random_state=None, solver='liblinear', tol=0.0001,\n",
       "          verbose=0, warm_start=False)"
      ]
     },
     "execution_count": 11,
     "metadata": {},
     "output_type": "execute_result"
    }
   ],
   "source": [
    "df_train = pd.read_json('train.json')\n",
    "from sklearn.feature_extraction.text import CountVectorizer\n",
    "cv = CountVectorizer(token_pattern=r\"(?u)\\b\\w[\\w\\s]+\\b\")\n",
    "X = cv.fit_transform([\";\".join(_) for _ in df_train.ingredients])\n",
    "from sklearn.preprocessing import LabelEncoder\n",
    "enc = LabelEncoder()\n",
    "y = enc.fit_transform(df_train.cuisine)\n",
    "from sklearn.cross_validation import train_test_split\n",
    "X_train, X_test, y_train, y_test = train_test_split(X, y, test_size=0.2)\n",
    "from sklearn.linear_model import LogisticRegression\n",
    "logistic = LogisticRegression()\n",
    "logistic.fit(X_train, y_train)"
   ]
  },
  {
   "cell_type": "code",
   "execution_count": 12,
   "metadata": {
    "collapsed": true
   },
   "outputs": [],
   "source": [
    "import numpy as np\n",
    "import matplotlib.pyplot as plt\n",
    "%matplotlib inline"
   ]
  },
  {
   "cell_type": "code",
   "execution_count": 13,
   "metadata": {
    "collapsed": false
   },
   "outputs": [
    {
     "data": {
      "text/plain": [
       "([<matplotlib.axis.XTick at 0x11038a048>,\n",
       "  <matplotlib.axis.XTick at 0x110309f98>,\n",
       "  <matplotlib.axis.XTick at 0x1103348d0>,\n",
       "  <matplotlib.axis.XTick at 0x11080d240>,\n",
       "  <matplotlib.axis.XTick at 0x110879908>,\n",
       "  <matplotlib.axis.XTick at 0x11088b7b8>,\n",
       "  <matplotlib.axis.XTick at 0x11089b390>,\n",
       "  <matplotlib.axis.XTick at 0x110867710>,\n",
       "  <matplotlib.axis.XTick at 0x1108b6a58>,\n",
       "  <matplotlib.axis.XTick at 0x1108c9780>,\n",
       "  <matplotlib.axis.XTick at 0x1108da588>,\n",
       "  <matplotlib.axis.XTick at 0x1108ec7b8>,\n",
       "  <matplotlib.axis.XTick at 0x1108fe0f0>,\n",
       "  <matplotlib.axis.XTick at 0x110a0e1d0>,\n",
       "  <matplotlib.axis.XTick at 0x110a201d0>,\n",
       "  <matplotlib.axis.XTick at 0x110a31a90>,\n",
       "  <matplotlib.axis.XTick at 0x110281748>,\n",
       "  <matplotlib.axis.XTick at 0x110295320>,\n",
       "  <matplotlib.axis.XTick at 0x1102a0fd0>,\n",
       "  <matplotlib.axis.XTick at 0x1102afba8>],\n",
       " <a list of 20 Text xticklabel objects>)"
      ]
     },
     "execution_count": 13,
     "metadata": {},
     "output_type": "execute_result"
    },
    {
     "name": "stderr",
     "output_type": "stream",
     "text": [
      "/Users/kappamaki/anaconda/lib/python3.4/site-packages/matplotlib/collections.py:590: FutureWarning: elementwise comparison failed; returning scalar instead, but in the future will perform elementwise comparison\n",
      "  if self._edgecolors == str('face'):\n"
     ]
    },
    {
     "data": {
      "image/png": "[encoded data removed]",
      "text/plain": [
       "<matplotlib.figure.Figure at 0x1102d94a8>"
      ]
     },
     "metadata": {},
     "output_type": "display_data"
    }
   ],
   "source": [
    "plt.figure(figsize=(15, 6))\n",
    "plt.imshow(-np.abs(logistic.coef_.T), aspect='auto', cmap='gray', interpolation='nearest')\n",
    "plt.colorbar()\n",
    "plt.xticks(np.arange(20), enc.inverse_transform(np.arange(20)), rotation='90')"
   ]
  },
  {
   "cell_type": "code",
   "execution_count": 14,
   "metadata": {
    "collapsed": false
   },
   "outputs": [
    {
     "data": {
      "text/plain": [
       "(20, 6815)"
      ]
     },
     "execution_count": 14,
     "metadata": {},
     "output_type": "execute_result"
    }
   ],
   "source": [
    "logistic.coef_.shape"
   ]
  },
  {
   "cell_type": "markdown",
   "metadata": {},
   "source": [
    "Et si on regardait ligne par ligne (ingrédient donné) ?"
   ]
  },
  {
   "cell_type": "code",
   "execution_count": 15,
   "metadata": {
    "collapsed": false
   },
   "outputs": [
    {
     "name": "stderr",
     "output_type": "stream",
     "text": [
      ":0: FutureWarning: IPython widgets are experimental and may change in the future.\n"
     ]
    }
   ],
   "source": [
    "from IPython.html.widgets import interact"
   ]
  },
  {
   "cell_type": "code",
   "execution_count": 16,
   "metadata": {
    "collapsed": false
   },
   "outputs": [
    {
     "data": {
      "image/png": "[encoded data removed]",
      "text/plain": [
       "<matplotlib.figure.Figure at 0x110bcf278>"
      ]
     },
     "metadata": {},
     "output_type": "display_data"
    }
   ],
   "source": [
    "@interact\n",
    "def plot_ingredient_histogram(ing=(0, logistic.coef_.shape[1] - 1)):\n",
    "    hist = logistic.coef_[:, ing]\n",
    "    plt.title(cv.get_feature_names()[ing] + \" std: {:.2f}\".format(np.std(hist)))\n",
    "    plt.bar(np.arange(20), hist)\n",
    "    plt.xticks(np.arange(20) + 0.5, enc.inverse_transform(np.arange(20)), rotation='90')\n",
    "    plt.ylim(-2, 2)"
   ]
  },
  {
   "cell_type": "code",
   "execution_count": 17,
   "metadata": {
    "collapsed": false
   },
   "outputs": [
    {
     "data": {
      "text/plain": [
       "775"
      ]
     },
     "execution_count": 17,
     "metadata": {},
     "output_type": "execute_result"
    }
   ],
   "source": [
    "cv.get_feature_names().index('butter')"
   ]
  },
  {
   "cell_type": "code",
   "execution_count": 18,
   "metadata": {
    "collapsed": false
   },
   "outputs": [
    {
     "data": {
      "image/png": "[encoded data removed]",
      "text/plain": [
       "<matplotlib.figure.Figure at 0x110b852b0>"
      ]
     },
     "metadata": {},
     "output_type": "display_data"
    }
   ],
   "source": [
    "plot_ingredient_histogram(5311)"
   ]
  },
  {
   "cell_type": "code",
   "execution_count": 19,
   "metadata": {
    "collapsed": false
   },
   "outputs": [
    {
     "data": {
      "image/png": "[encoded data removed]",
      "text/plain": [
       "<matplotlib.figure.Figure at 0x10ba1c7f0>"
      ]
     },
     "metadata": {},
     "output_type": "display_data"
    }
   ],
   "source": [
    "plot_ingredient_histogram(4254)"
   ]
  },
  {
   "cell_type": "code",
   "execution_count": 20,
   "metadata": {
    "collapsed": false
   },
   "outputs": [
    {
     "data": {
      "image/png": "[encoded data removed]",
      "text/plain": [
       "<matplotlib.figure.Figure at 0x10bc62358>"
      ]
     },
     "metadata": {},
     "output_type": "display_data"
    }
   ],
   "source": [
    "plot_ingredient_histogram(775)"
   ]
  },
  {
   "cell_type": "markdown",
   "metadata": {},
   "source": [
    "# Mauvaise classification "
   ]
  },
  {
   "cell_type": "code",
   "execution_count": 21,
   "metadata": {
    "collapsed": true
   },
   "outputs": [],
   "source": [
    "y_test_predict = logistic.predict(X_test)"
   ]
  },
  {
   "cell_type": "code",
   "execution_count": 22,
   "metadata": {
    "collapsed": false
   },
   "outputs": [
    {
     "data": {
      "text/plain": [
       "array([   0,    5,    7, ..., 7949, 7950, 7952])"
      ]
     },
     "execution_count": 22,
     "metadata": {},
     "output_type": "execute_result"
    }
   ],
   "source": [
    "miss = np.where(y_test_predict != y_test)[0]\n",
    "miss"
   ]
  },
  {
   "cell_type": "code",
   "execution_count": null,
   "metadata": {
    "collapsed": true
   },
   "outputs": [],
   "source": []
  },
  {
   "cell_type": "code",
   "execution_count": 23,
   "metadata": {
    "collapsed": false
   },
   "outputs": [
    {
     "data": {
      "text/plain": [
       "<1x6815 sparse matrix of type '<class 'numpy.int64'>'\n",
       "\twith 4 stored elements in Compressed Sparse Row format>"
      ]
     },
     "execution_count": 23,
     "metadata": {},
     "output_type": "execute_result"
    }
   ],
   "source": [
    "row = X_test[miss[0], :]\n",
    "row"
   ]
  },
  {
   "cell_type": "code",
   "execution_count": 24,
   "metadata": {
    "collapsed": false
   },
   "outputs": [
    {
     "data": {
      "text/plain": [
       "array([5663, 4609, 5508, 6530], dtype=int32)"
      ]
     },
     "execution_count": 24,
     "metadata": {},
     "output_type": "execute_result"
    }
   ],
   "source": [
    "np.nonzero(row)[1]"
   ]
  },
  {
   "cell_type": "code",
   "execution_count": 25,
   "metadata": {
    "collapsed": false
   },
   "outputs": [
    {
     "data": {
      "text/plain": [
       "['smoked pork neck bones', 'pinto beans', 'shortening', 'water']"
      ]
     },
     "execution_count": 25,
     "metadata": {},
     "output_type": "execute_result"
    }
   ],
   "source": [
    "[cv.get_feature_names()[i] for i in np.nonzero(row)[1]]"
   ]
  },
  {
   "cell_type": "code",
   "execution_count": 26,
   "metadata": {
    "collapsed": false
   },
   "outputs": [
    {
     "data": {
      "text/plain": [
       "(1, 20)"
      ]
     },
     "execution_count": 26,
     "metadata": {},
     "output_type": "execute_result"
    }
   ],
   "source": [
    "logistic.predict_proba(row).shape"
   ]
  },
  {
   "cell_type": "code",
   "execution_count": 27,
   "metadata": {
    "collapsed": false
   },
   "outputs": [
    {
     "data": {
      "text/plain": [
       "(1777,)"
      ]
     },
     "execution_count": 27,
     "metadata": {},
     "output_type": "execute_result"
    }
   ],
   "source": [
    "miss.shape"
   ]
  },
  {
   "cell_type": "code",
   "execution_count": 28,
   "metadata": {
    "collapsed": false
   },
   "outputs": [
    {
     "name": "stdout",
     "output_type": "stream",
     "text": [
      "rice powder;rock sugar;on shrimp;shell;lard;egg whites;granulated sugar;ground black pepper;garlic\n"
     ]
    },
    {
     "data": {
      "image/png": "[encoded data removed]",
      "text/plain": [
       "<matplotlib.figure.Figure at 0x10bf802e8>"
      ]
     },
     "metadata": {},
     "output_type": "display_data"
    }
   ],
   "source": [
    "@interact\n",
    "def plot_miss(idx=(0, miss.size - 1)):\n",
    "    row = X_test[miss[idx], :] \n",
    "    ingr = [cv.get_feature_names()[i] for i in np.nonzero(row)[1]]\n",
    "    print(\";\".join(ingr))\n",
    "    plt.bar(np.arange(20), logistic.predict_proba(row).ravel())\n",
    "    plt.xticks(np.arange(20) + 0.5, enc.inverse_transform(np.arange(20)), rotation='90');\n",
    "    plt.title(\"predicted = {}, true = {}\".format(enc.inverse_transform(y_test_predict[miss[idx]]), \n",
    "                                                 enc.inverse_transform(y_test[miss[idx]])))"
   ]
  },
  {
   "cell_type": "markdown",
   "metadata": {},
   "source": [
    "On compte les cas où il y a interversion des deux premiers."
   ]
  },
  {
   "cell_type": "code",
   "execution_count": 29,
   "metadata": {
    "collapsed": false
   },
   "outputs": [],
   "source": [
    "count = 0\n",
    "mixed_up_top_2 = []\n",
    "for idx in miss:\n",
    "    row = X_test[idx, :] \n",
    "    proba = [(p, cuisine) for p, cuisine in zip(logistic.predict_proba(row)[0, :], enc.classes_)]\n",
    "    proba.sort(key=lambda s: s[0], reverse=True)\n",
    "    true_label = y_test[idx]\n",
    "    predicted = enc.transform(proba[0][1])\n",
    "    second_predicted = enc.transform(proba[1][1])\n",
    "    if second_predicted == true_label:\n",
    "        count += 1\n",
    "        mixed_up_top_2.append(idx)"
   ]
  },
  {
   "cell_type": "code",
   "execution_count": 30,
   "metadata": {
    "collapsed": false
   },
   "outputs": [
    {
     "data": {
      "text/plain": [
       "854"
      ]
     },
     "execution_count": 30,
     "metadata": {},
     "output_type": "execute_result"
    }
   ],
   "source": [
    "len(mixed_up_top_2)"
   ]
  },
  {
   "cell_type": "code",
   "execution_count": 31,
   "metadata": {
    "collapsed": false
   },
   "outputs": [
    {
     "data": {
      "text/plain": [
       "1777"
      ]
     },
     "execution_count": 31,
     "metadata": {},
     "output_type": "execute_result"
    }
   ],
   "source": [
    "len(miss)"
   ]
  },
  {
   "cell_type": "markdown",
   "metadata": {
    "collapsed": true
   },
   "source": [
    "On explore graphiquement les cas où il y a interversion du top 2:"
   ]
  },
  {
   "cell_type": "code",
   "execution_count": 32,
   "metadata": {
    "collapsed": false
   },
   "outputs": [
    {
     "name": "stdout",
     "output_type": "stream",
     "text": [
      "seafood stock;bottled clam juice;dry vermouth;jumbo shrimp;puff pastry;red potato;heavy whipping cream;dried thyme;leeks;large garlic cloves;andouille sausage;purpose flour;all;butter\n"
     ]
    },
    {
     "data": {
      "image/png": "[encoded data removed]",
      "text/plain": [
       "<matplotlib.figure.Figure at 0x10b9f8f28>"
      ]
     },
     "metadata": {},
     "output_type": "display_data"
    }
   ],
   "source": [
    "@interact\n",
    "def plot_miss_mixed_up(idx=(0, len(mixed_up_top_2) - 1)):\n",
    "    new_idx = miss.tolist().index(mixed_up_top_2[idx])\n",
    "    plot_miss(new_idx)"
   ]
  },
  {
   "cell_type": "markdown",
   "metadata": {},
   "source": [
    "Prochaine chose à faire : entraîner des classifieurs pour les duels et voir dans combien de cas ces classifieurs arrivent à gagner le duel!"
   ]
  },
  {
   "cell_type": "markdown",
   "metadata": {},
   "source": [
    "La documentation pour le one-vs-one est ici : [http://scikit-learn.org/stable/modules/multiclass.html#one-vs-one](http://scikit-learn.org/stable/modules/multiclass.html#one-vs-one)."
   ]
  },
  {
   "cell_type": "code",
   "execution_count": 33,
   "metadata": {
    "collapsed": true
   },
   "outputs": [],
   "source": [
    "from sklearn.multiclass import OneVsOneClassifier"
   ]
  },
  {
   "cell_type": "code",
   "execution_count": 34,
   "metadata": {
    "collapsed": true
   },
   "outputs": [],
   "source": [
    "ovo = OneVsOneClassifier(LogisticRegression())"
   ]
  },
  {
   "cell_type": "code",
   "execution_count": 35,
   "metadata": {
    "collapsed": false
   },
   "outputs": [
    {
     "data": {
      "text/plain": [
       "OneVsOneClassifier(estimator=LogisticRegression(C=1.0, class_weight=None, dual=False, fit_intercept=True,\n",
       "          intercept_scaling=1, max_iter=100, multi_class='ovr', n_jobs=1,\n",
       "          penalty='l2', random_state=None, solver='liblinear', tol=0.0001,\n",
       "          verbose=0, warm_start=False),\n",
       "          n_jobs=1)"
      ]
     },
     "execution_count": 35,
     "metadata": {},
     "output_type": "execute_result"
    }
   ],
   "source": [
    "ovo.fit(X_train, y_train)"
   ]
  },
  {
   "cell_type": "code",
   "execution_count": 36,
   "metadata": {
    "collapsed": false
   },
   "outputs": [
    {
     "name": "stdout",
     "output_type": "stream",
     "text": [
      "dried red chile peppers;gingerroot;chinese cabbage;green onions;salt;garlic\n"
     ]
    },
    {
     "data": {
      "image/png": "[encoded data removed]",
      "text/plain": [
       "<matplotlib.figure.Figure at 0x10b9943c8>"
      ]
     },
     "metadata": {},
     "output_type": "display_data"
    }
   ],
   "source": [
    "idx = 10\n",
    "new_idx = miss.tolist().index(mixed_up_top_2[idx])\n",
    "plot_miss(new_idx)"
   ]
  },
  {
   "cell_type": "code",
   "execution_count": 37,
   "metadata": {
    "collapsed": false
   },
   "outputs": [
    {
     "data": {
      "text/plain": [
       "19"
      ]
     },
     "execution_count": 37,
     "metadata": {},
     "output_type": "execute_result"
    }
   ],
   "source": [
    "new_idx"
   ]
  },
  {
   "cell_type": "code",
   "execution_count": 38,
   "metadata": {
    "collapsed": false
   },
   "outputs": [
    {
     "data": {
      "text/plain": [
       "array([3])"
      ]
     },
     "execution_count": 38,
     "metadata": {},
     "output_type": "execute_result"
    }
   ],
   "source": [
    "ovo.predict(X_test[new_idx, :])"
   ]
  },
  {
   "cell_type": "code",
   "execution_count": 39,
   "metadata": {
    "collapsed": false
   },
   "outputs": [
    {
     "data": {
      "image/png": "[encoded data removed]",
      "text/plain": [
       "<matplotlib.figure.Figure at 0x10bd95eb8>"
      ]
     },
     "metadata": {},
     "output_type": "display_data"
    }
   ],
   "source": [
    "plt.bar(ovo.classes_, ovo.decision_function(X_test[new_idx, :]).T)\n",
    "plt.xticks(ovo.classes_, enc.inverse_transform(ovo.classes_), rotation=90);"
   ]
  },
  {
   "cell_type": "raw",
   "metadata": {},
   "source": [
    "self.estimators_ = Parallel(n_jobs=self.n_jobs)(\n",
    "            delayed(_fit_ovo_binary)(\n",
    "                self.estimator, X, y, self.classes_[i], self.classes_[j])\n",
    "            for i in range(n_classes) for j in range(i + 1, n_classes))"
   ]
  },
  {
   "cell_type": "code",
   "execution_count": 40,
   "metadata": {
    "collapsed": false
   },
   "outputs": [
    {
     "name": "stdout",
     "output_type": "stream",
     "text": [
      "[(0, 1), (0, 2), (0, 3), (0, 4), (0, 5), (0, 6), (0, 7), (0, 8), (0, 9), (0, 10), (0, 11), (0, 12), (0, 13), (0, 14), (0, 15), (0, 16), (0, 17), (0, 18), (0, 19), (1, 2), (1, 3), (1, 4), (1, 5), (1, 6), (1, 7), (1, 8), (1, 9), (1, 10), (1, 11), (1, 12), (1, 13), (1, 14), (1, 15), (1, 16), (1, 17), (1, 18), (1, 19), (2, 3), (2, 4), (2, 5), (2, 6), (2, 7), (2, 8), (2, 9), (2, 10), (2, 11), (2, 12), (2, 13), (2, 14), (2, 15), (2, 16), (2, 17), (2, 18), (2, 19), (3, 4), (3, 5), (3, 6), (3, 7), (3, 8), (3, 9), (3, 10), (3, 11), (3, 12), (3, 13), (3, 14), (3, 15), (3, 16), (3, 17), (3, 18), (3, 19), (4, 5), (4, 6), (4, 7), (4, 8), (4, 9), (4, 10), (4, 11), (4, 12), (4, 13), (4, 14), (4, 15), (4, 16), (4, 17), (4, 18), (4, 19), (5, 6), (5, 7), (5, 8), (5, 9), (5, 10), (5, 11), (5, 12), (5, 13), (5, 14), (5, 15), (5, 16), (5, 17), (5, 18), (5, 19), (6, 7), (6, 8), (6, 9), (6, 10), (6, 11), (6, 12), (6, 13), (6, 14), (6, 15), (6, 16), (6, 17), (6, 18), (6, 19), (7, 8), (7, 9), (7, 10), (7, 11), (7, 12), (7, 13), (7, 14), (7, 15), (7, 16), (7, 17), (7, 18), (7, 19), (8, 9), (8, 10), (8, 11), (8, 12), (8, 13), (8, 14), (8, 15), (8, 16), (8, 17), (8, 18), (8, 19), (9, 10), (9, 11), (9, 12), (9, 13), (9, 14), (9, 15), (9, 16), (9, 17), (9, 18), (9, 19), (10, 11), (10, 12), (10, 13), (10, 14), (10, 15), (10, 16), (10, 17), (10, 18), (10, 19), (11, 12), (11, 13), (11, 14), (11, 15), (11, 16), (11, 17), (11, 18), (11, 19), (12, 13), (12, 14), (12, 15), (12, 16), (12, 17), (12, 18), (12, 19), (13, 14), (13, 15), (13, 16), (13, 17), (13, 18), (13, 19), (14, 15), (14, 16), (14, 17), (14, 18), (14, 19), (15, 16), (15, 17), (15, 18), (15, 19), (16, 17), (16, 18), (16, 19), (17, 18), (17, 19), (18, 19)]\n"
     ]
    }
   ],
   "source": [
    "binary_estimators = []\n",
    "n_classes = ovo.classes_.shape[0]\n",
    "for i in range(n_classes): \n",
    "    for j in range(i + 1, n_classes):\n",
    "        binary_estimators.append((ovo.classes_[i], ovo.classes_[j]))\n",
    "print(binary_estimators)"
   ]
  },
  {
   "cell_type": "markdown",
   "metadata": {},
   "source": [
    "On peut maintenant revenir aux classes initiales."
   ]
  },
  {
   "cell_type": "code",
   "execution_count": 41,
   "metadata": {
    "collapsed": false
   },
   "outputs": [
    {
     "name": "stdout",
     "output_type": "stream",
     "text": [
      "seafood stock;bottled clam juice;dry vermouth;jumbo shrimp;puff pastry;red potato;heavy whipping cream;dried thyme;leeks;large garlic cloves;andouille sausage;purpose flour;all;butter\n"
     ]
    },
    {
     "data": {
      "image/png": "[encoded data removed]",
      "text/plain": [
       "<matplotlib.figure.Figure at 0x10be78cc0>"
      ]
     },
     "metadata": {},
     "output_type": "display_data"
    }
   ],
   "source": [
    "@interact\n",
    "def two_step_strategy(idx=(0, len(mixed_up_top_2) - 1)):\n",
    "    # find index in test set\n",
    "    new_idx = miss.tolist().index(mixed_up_top_2[idx])\n",
    "    # compute probas\n",
    "    row = X_test[miss[new_idx], :] \n",
    "    proba = [(p, cuisine) for p, cuisine in zip(logistic.predict_proba(row)[0, :], \n",
    "                                               enc.transform(enc.classes_))]\n",
    "    proba.sort(key=lambda s: s[0], reverse=True)\n",
    "    # extract predictions\n",
    "    true_label = y_test[new_idx]\n",
    "    predicted = proba[0][1]\n",
    "    second_predicted = proba[1][1]\n",
    "    # showdown\n",
    "    pair = (min(predicted, second_predicted),\n",
    "            max(predicted, second_predicted))\n",
    "    binary_classifier = ovo.estimators_[binary_estimators.index(pair)]\n",
    "    binary_proba = binary_classifier.predict_proba(row)\n",
    "    # output\n",
    "    ingr = [cv.get_feature_names()[i] for i in np.nonzero(row)[1]]\n",
    "    print(\";\".join(ingr))\n",
    "    plt.subplot(121)\n",
    "    plt.bar(np.arange(20), logistic.predict_proba(row).ravel())\n",
    "    plt.xticks(np.arange(20) + 0.5, enc.inverse_transform(np.arange(20)), rotation='90');\n",
    "    plt.title(\"predicted = {}, true = {}\".format(enc.inverse_transform(y_test_predict[miss[new_idx]]), \n",
    "                                                 enc.inverse_transform(y_test[miss[new_idx]])))\n",
    "\n",
    "    plt.subplot(122)\n",
    "    plt.bar(np.arange(2), binary_proba.ravel())\n",
    "    plt.xticks(np.arange(2) + 0.4, enc.inverse_transform(np.array(pair)), rotation=90)"
   ]
  },
  {
   "cell_type": "code",
   "execution_count": 42,
   "metadata": {
    "collapsed": false
   },
   "outputs": [
    {
     "data": {
      "text/plain": [
       "5"
      ]
     },
     "execution_count": 42,
     "metadata": {},
     "output_type": "execute_result"
    }
   ],
   "source": [
    "predicted"
   ]
  },
  {
   "cell_type": "code",
   "execution_count": 43,
   "metadata": {
    "collapsed": false
   },
   "outputs": [
    {
     "data": {
      "text/plain": [
       "16"
      ]
     },
     "execution_count": 43,
     "metadata": {},
     "output_type": "execute_result"
    }
   ],
   "source": [
    "second_predicted"
   ]
  },
  {
   "cell_type": "code",
   "execution_count": 44,
   "metadata": {
    "collapsed": false
   },
   "outputs": [
    {
     "ename": "ValueError",
     "evalue": "(16, 5) is not in list",
     "output_type": "error",
     "traceback": [
      "\u001b[0;31m---------------------------------------------------------------------------\u001b[0m",
      "\u001b[0;31mValueError\u001b[0m                                Traceback (most recent call last)",
      "\u001b[0;32m<ipython-input-44-6b14cf76da7f>\u001b[0m in \u001b[0;36m<module>\u001b[0;34m()\u001b[0m\n\u001b[0;32m----> 1\u001b[0;31m \u001b[0movo\u001b[0m\u001b[0;34m.\u001b[0m\u001b[0mestimators_\u001b[0m\u001b[0;34m[\u001b[0m\u001b[0mbinary_estimators\u001b[0m\u001b[0;34m.\u001b[0m\u001b[0mindex\u001b[0m\u001b[0;34m(\u001b[0m\u001b[0;34m(\u001b[0m\u001b[0msecond_predicted\u001b[0m\u001b[0;34m,\u001b[0m \u001b[0mpredicted\u001b[0m\u001b[0;34m)\u001b[0m\u001b[0;34m)\u001b[0m\u001b[0;34m]\u001b[0m\u001b[0;34m.\u001b[0m\u001b[0mpredict\u001b[0m\u001b[0;34m(\u001b[0m\u001b[0mrow\u001b[0m\u001b[0;34m)\u001b[0m\u001b[0;34m\u001b[0m\u001b[0m\n\u001b[0m",
      "\u001b[0;31mValueError\u001b[0m: (16, 5) is not in list"
     ]
    }
   ],
   "source": [
    "ovo.estimators_[binary_estimators.index((second_predicted, predicted))].predict(row)"
   ]
  },
  {
   "cell_type": "markdown",
   "metadata": {},
   "source": [
    "On peut essayer de quantifier le gain possible."
   ]
  },
  {
   "cell_type": "code",
   "execution_count": null,
   "metadata": {
    "collapsed": true
   },
   "outputs": [],
   "source": [
    "class TwoStageClassifier():\n",
    "    def __init__(self):\n",
    "        self.logistic = LogisticRegression()\n",
    "        self.ovo = OneVsOneClassifier(LogisticRegression())\n",
    "    \n",
    "    def fit(self, X_train, y_train):\n",
    "        self.logistic.fit(X_train, y_train)\n",
    "        self.ovo.fit(X_train, y_train)\n",
    "        \n",
    "    def bookkeeping(self):\n",
    "        binary_estimators = []\n",
    "        n_classes = self.ovo.classes_.shape[0]\n",
    "        for i in range(n_classes): \n",
    "            for j in range(i + 1, n_classes):\n",
    "                binary_estimators.append((ovo.classes_[i], ovo.classes_[j]))\n",
    "        self.binary_estimators = binary_estimators\n",
    "        \n",
    "    def predict(self, row, thresh):\n",
    "        \"\"\"two stage prediction: logistic first, then binary classifiers between top 2\"\"\"\n",
    "        proba = [(p, cuisine) for p, cuisine in zip(self.logistic.predict_proba(row)[0, :], \n",
    "                                               enc.transform(enc.classes_))]\n",
    "        proba.sort(key=lambda s: s[0], reverse=True)\n",
    "        # extract predictions\n",
    "\n",
    "        predicted_label = proba[0][1]\n",
    "        predicted_label_prob = proba[0][0]\n",
    "        second_predicted_label = proba[1][1]\n",
    "        second_predicted_prob = proba[1][0]\n",
    "        # showdown\n",
    "        pair = (min(predicted_label, second_predicted_label),\n",
    "                max(predicted_label, second_predicted_label))\n",
    "        binary_classifier = self.ovo.estimators_[self.binary_estimators.index(pair)]\n",
    "        #binary_proba = binary_classifier.predict_proba(row)\n",
    "        if predicted_label_prob > thresh:\n",
    "            return np.array(predicted_label)\n",
    "        else:\n",
    "            return np.array(pair[binary_classifier.predict(row)])"
   ]
  },
  {
   "cell_type": "code",
   "execution_count": null,
   "metadata": {
    "collapsed": true
   },
   "outputs": [],
   "source": [
    "tsc = TwoStageClassifier()\n",
    "tsc.fit(X_train, y_train)\n",
    "tsc.bookkeeping()"
   ]
  },
  {
   "cell_type": "code",
   "execution_count": null,
   "metadata": {
    "collapsed": true
   },
   "outputs": [],
   "source": [
    "from sklearn.metrics import classification_report"
   ]
  },
  {
   "cell_type": "code",
   "execution_count": null,
   "metadata": {
    "collapsed": false,
    "scrolled": false
   },
   "outputs": [],
   "source": [
    "for thresh in [0.3, 0.4, 0.5, 0.6, 0.7, 0.8]:\n",
    "    y_pred = np.array([])\n",
    "    for row, true_label in zip(X_test, y_test):\n",
    "        y_pred = np.append(y_pred, tsc.predict(row, thresh))\n",
    "    print('========= thresh {} =========='.format(thresh))\n",
    "    print(classification_report(y_test, y_pred, target_names=enc.classes_))"
   ]
  },
  {
   "cell_type": "markdown",
   "metadata": {},
   "source": [
    "On peut regarder les vraies probas:"
   ]
  },
  {
   "cell_type": "code",
   "execution_count": null,
   "metadata": {
    "collapsed": false
   },
   "outputs": [],
   "source": [
    "probs = np.zeros((y_test.size, 2))\n",
    "for ind, row, true_label in zip(np.arange(X_test.size), X_test, y_test):\n",
    "    proba = [(p, cuisine) for p, cuisine in zip(tsc.logistic.predict_proba(row)[0, :], \n",
    "                                           enc.transform(enc.classes_))]\n",
    "    proba.sort(key=lambda s: s[0], reverse=True)\n",
    "    # extract predictions\n",
    "    predicted = proba[0][0]\n",
    "    second_predicted = proba[1][0]\n",
    "    probs[ind, :] = np.array([predicted, second_predicted])"
   ]
  },
  {
   "cell_type": "code",
   "execution_count": null,
   "metadata": {
    "collapsed": true
   },
   "outputs": [],
   "source": [
    "import pandas as pd"
   ]
  },
  {
   "cell_type": "code",
   "execution_count": null,
   "metadata": {
    "collapsed": false
   },
   "outputs": [],
   "source": [
    "probs.shape"
   ]
  },
  {
   "cell_type": "code",
   "execution_count": null,
   "metadata": {
    "collapsed": false
   },
   "outputs": [],
   "source": [
    "df = pd.DataFrame(probs, columns=['first_prob', 'second_prob'])\n"
   ]
  },
  {
   "cell_type": "code",
   "execution_count": null,
   "metadata": {
    "collapsed": false
   },
   "outputs": [],
   "source": [
    "plt.figure(figsize=(10, 4))\n",
    "plt.subplot(121)\n",
    "df.first_prob.hist(bins=50)\n",
    "plt.subplot(122)\n",
    "df.second_prob.hist(bins=50)"
   ]
  },
  {
   "cell_type": "markdown",
   "metadata": {},
   "source": [
    "Et si on regardait plutôt le delta entre les deux probas ?"
   ]
  },
  {
   "cell_type": "code",
   "execution_count": null,
   "metadata": {
    "collapsed": false
   },
   "outputs": [],
   "source": [
    "plt.figure(figsize=(10, 4))\n",
    "(df.first_prob - df.second_prob).hist(bins=50)"
   ]
  },
  {
   "cell_type": "code",
   "execution_count": null,
   "metadata": {
    "collapsed": false
   },
   "outputs": [],
   "source": [
    "6 * 44100 / 300"
   ]
  },
  {
   "cell_type": "code",
   "execution_count": null,
   "metadata": {
    "collapsed": false
   },
   "outputs": [],
   "source": [
    "6 * 44100 / 100"
   ]
  },
  {
   "cell_type": "code",
   "execution_count": null,
   "metadata": {
    "collapsed": false
   },
   "outputs": [],
   "source": [
    "44100 / 100"
   ]
  },
  {
   "cell_type": "code",
   "execution_count": null,
   "metadata": {
    "collapsed": false
   },
   "outputs": [],
   "source": [
    "4 * 44100 / 300"
   ]
  },
  {
   "cell_type": "code",
   "execution_count": null,
   "metadata": {
    "collapsed": false
   },
   "outputs": [],
   "source": [
    "4 * 44100 / 100"
   ]
  },
  {
   "cell_type": "code",
   "execution_count": null,
   "metadata": {
    "collapsed": false
   },
   "outputs": [],
   "source": [
    "4 * 44100 / 1601"
   ]
  },
  {
   "cell_type": "code",
   "execution_count": null,
   "metadata": {
    "collapsed": false
   },
   "outputs": [],
   "source": [
    "4 * 44100 / 2001"
   ]
  },
  {
   "cell_type": "code",
   "execution_count": null,
   "metadata": {
    "collapsed": true
   },
   "outputs": [],
   "source": []
  }
 ],
 "metadata": {
  "kernelspec": {
   "display_name": "Python 3",
   "language": "python",
   "name": "python3"
  },
  "language_info": {
   "codemirror_mode": {
    "name": "ipython",
    "version": 3
   },
   "file_extension": ".py",
   "mimetype": "text/x-python",
   "name": "python",
   "nbconvert_exporter": "python",
   "pygments_lexer": "ipython3",
   "version": "3.4.3"
  }
 },
 "nbformat": 4,
 "nbformat_minor": 0
}
