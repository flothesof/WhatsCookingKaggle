{
 "cells": [
  {
   "cell_type": "code",
   "execution_count": 1,
   "metadata": {
    "collapsed": true
   },
   "outputs": [],
   "source": [
    "import pandas as pd"
   ]
  },
  {
   "cell_type": "code",
   "execution_count": 2,
   "metadata": {
    "collapsed": false
   },
   "outputs": [],
   "source": [
    "df = pd.read_json(\"train.json\")"
   ]
  },
  {
   "cell_type": "code",
   "execution_count": 3,
   "metadata": {
    "collapsed": false
   },
   "outputs": [
    {
     "data": {
      "text/plain": [
       "Index([u'cuisine', u'id', u'ingredients'], dtype='object')"
      ]
     },
     "execution_count": 3,
     "metadata": {},
     "output_type": "execute_result"
    }
   ],
   "source": [
    "df.columns"
   ]
  },
  {
   "cell_type": "code",
   "execution_count": 4,
   "metadata": {
    "collapsed": false
   },
   "outputs": [
    {
     "data": {
      "text/plain": [
       "italian         7838\n",
       "mexican         6438\n",
       "southern_us     4320\n",
       "indian          3003\n",
       "chinese         2673\n",
       "french          2646\n",
       "cajun_creole    1546\n",
       "thai            1539\n",
       "japanese        1423\n",
       "greek           1175\n",
       "spanish          989\n",
       "korean           830\n",
       "vietnamese       825\n",
       "moroccan         821\n",
       "british          804\n",
       "filipino         755\n",
       "irish            667\n",
       "jamaican         526\n",
       "russian          489\n",
       "brazilian        467\n",
       "dtype: int64"
      ]
     },
     "execution_count": 4,
     "metadata": {},
     "output_type": "execute_result"
    }
   ],
   "source": [
    "df.cuisine.value_counts()"
   ]
  },
  {
   "cell_type": "code",
   "execution_count": 5,
   "metadata": {
    "collapsed": false
   },
   "outputs": [
    {
     "data": {
      "text/html": [
       "<div style=\"max-height:1000px;max-width:1500px;overflow:auto;\">\n",
       "<table border=\"1\" class=\"dataframe\">\n",
       "  <thead>\n",
       "    <tr style=\"text-align: right;\">\n",
       "      <th></th>\n",
       "      <th>cuisine</th>\n",
       "      <th>id</th>\n",
       "      <th>ingredients</th>\n",
       "    </tr>\n",
       "  </thead>\n",
       "  <tbody>\n",
       "    <tr>\n",
       "      <th>46   </th>\n",
       "      <td> french</td>\n",
       "      <td> 18515</td>\n",
       "      <td> [sugar, salt, fennel bulb, water, lemon olive ...</td>\n",
       "    </tr>\n",
       "    <tr>\n",
       "      <th>67   </th>\n",
       "      <td> french</td>\n",
       "      <td>   275</td>\n",
       "      <td> [vanilla, milk, large egg yolks, sugar, corn s...</td>\n",
       "    </tr>\n",
       "    <tr>\n",
       "      <th>68   </th>\n",
       "      <td> french</td>\n",
       "      <td> 43769</td>\n",
       "      <td> [orange juice concentrate, pumpkin purée, mars...</td>\n",
       "    </tr>\n",
       "    <tr>\n",
       "      <th>82   </th>\n",
       "      <td> french</td>\n",
       "      <td>  6886</td>\n",
       "      <td> [Madeira, foie gras, demi-glace, sherry vinega...</td>\n",
       "    </tr>\n",
       "    <tr>\n",
       "      <th>134  </th>\n",
       "      <td> french</td>\n",
       "      <td> 39471</td>\n",
       "      <td> [grated parmesan cheese, asparagus, bacon slic...</td>\n",
       "    </tr>\n",
       "    <tr>\n",
       "      <th>145  </th>\n",
       "      <td> french</td>\n",
       "      <td>  9069</td>\n",
       "      <td> [fennel seeds, kalamata, capers, dried oregano...</td>\n",
       "    </tr>\n",
       "    <tr>\n",
       "      <th>164  </th>\n",
       "      <td> french</td>\n",
       "      <td>  7501</td>\n",
       "      <td> [tomatoes, olive oil, chopped fresh thyme, sal...</td>\n",
       "    </tr>\n",
       "    <tr>\n",
       "      <th>171  </th>\n",
       "      <td> french</td>\n",
       "      <td> 40064</td>\n",
       "      <td> [pepper, grated Gruyère cheese, heavy cream, s...</td>\n",
       "    </tr>\n",
       "    <tr>\n",
       "      <th>208  </th>\n",
       "      <td> french</td>\n",
       "      <td> 36862</td>\n",
       "      <td> [eau de vie, leaves, cane sugar, pinenuts, gol...</td>\n",
       "    </tr>\n",
       "    <tr>\n",
       "      <th>222  </th>\n",
       "      <td> french</td>\n",
       "      <td> 18643</td>\n",
       "      <td> [2% reduced-fat milk, corn starch, eggs, maple...</td>\n",
       "    </tr>\n",
       "    <tr>\n",
       "      <th>224  </th>\n",
       "      <td> french</td>\n",
       "      <td> 46893</td>\n",
       "      <td> [heavy cream, pears, unsalted butter, sour cre...</td>\n",
       "    </tr>\n",
       "    <tr>\n",
       "      <th>261  </th>\n",
       "      <td> french</td>\n",
       "      <td>   636</td>\n",
       "      <td> [golden brown sugar, eggs, whole milk ricotta ...</td>\n",
       "    </tr>\n",
       "    <tr>\n",
       "      <th>313  </th>\n",
       "      <td> french</td>\n",
       "      <td> 38706</td>\n",
       "      <td> [saffron threads, red wine vinegar, large shri...</td>\n",
       "    </tr>\n",
       "    <tr>\n",
       "      <th>340  </th>\n",
       "      <td> french</td>\n",
       "      <td> 10003</td>\n",
       "      <td> [jumbo shrimp, baguette, extra-virgin olive oi...</td>\n",
       "    </tr>\n",
       "    <tr>\n",
       "      <th>344  </th>\n",
       "      <td> french</td>\n",
       "      <td> 45711</td>\n",
       "      <td> [sugar, large egg yolks, grated lemon peel, rh...</td>\n",
       "    </tr>\n",
       "    <tr>\n",
       "      <th>348  </th>\n",
       "      <td> french</td>\n",
       "      <td> 15882</td>\n",
       "      <td> [dark rum, crème fraîche, unsalted butter, cak...</td>\n",
       "    </tr>\n",
       "    <tr>\n",
       "      <th>351  </th>\n",
       "      <td> french</td>\n",
       "      <td> 40509</td>\n",
       "      <td> [kalamata, flat leaf parsley, tomatoes, Califo...</td>\n",
       "    </tr>\n",
       "    <tr>\n",
       "      <th>356  </th>\n",
       "      <td> french</td>\n",
       "      <td>  1764</td>\n",
       "      <td> [clove, potatoes, extra-virgin olive oil, turn...</td>\n",
       "    </tr>\n",
       "    <tr>\n",
       "      <th>377  </th>\n",
       "      <td> french</td>\n",
       "      <td> 18190</td>\n",
       "      <td> [ground cinnamon, baking potatoes, bay leaf, l...</td>\n",
       "    </tr>\n",
       "    <tr>\n",
       "      <th>390  </th>\n",
       "      <td> french</td>\n",
       "      <td> 37109</td>\n",
       "      <td> [dijon mustard, extra-virgin olive oil, flat l...</td>\n",
       "    </tr>\n",
       "    <tr>\n",
       "      <th>395  </th>\n",
       "      <td> french</td>\n",
       "      <td> 22581</td>\n",
       "      <td> [granulated sugar, vanilla, chocolate sauce, m...</td>\n",
       "    </tr>\n",
       "    <tr>\n",
       "      <th>427  </th>\n",
       "      <td> french</td>\n",
       "      <td> 23336</td>\n",
       "      <td> [leeks, soft fresh goat cheese, olive oil, cho...</td>\n",
       "    </tr>\n",
       "    <tr>\n",
       "      <th>441  </th>\n",
       "      <td> french</td>\n",
       "      <td> 33085</td>\n",
       "      <td> [sheep’s milk cheese, champagne vinegar, dijon...</td>\n",
       "    </tr>\n",
       "    <tr>\n",
       "      <th>466  </th>\n",
       "      <td> french</td>\n",
       "      <td> 20757</td>\n",
       "      <td> [fresh rosemary, yellow bell pepper, anchovy f...</td>\n",
       "    </tr>\n",
       "    <tr>\n",
       "      <th>474  </th>\n",
       "      <td> french</td>\n",
       "      <td> 16520</td>\n",
       "      <td> [water, salt, ground cinnamon, golden deliciou...</td>\n",
       "    </tr>\n",
       "    <tr>\n",
       "      <th>500  </th>\n",
       "      <td> french</td>\n",
       "      <td> 35010</td>\n",
       "      <td> [olive oil, zinfandel, boiling onions, fresh m...</td>\n",
       "    </tr>\n",
       "    <tr>\n",
       "      <th>525  </th>\n",
       "      <td> french</td>\n",
       "      <td> 23449</td>\n",
       "      <td> [pearl onions, chives, light margarine, bonele...</td>\n",
       "    </tr>\n",
       "    <tr>\n",
       "      <th>528  </th>\n",
       "      <td> french</td>\n",
       "      <td> 36636</td>\n",
       "      <td> [vidalia onion, ground black pepper, extra-vir...</td>\n",
       "    </tr>\n",
       "    <tr>\n",
       "      <th>533  </th>\n",
       "      <td> french</td>\n",
       "      <td>  5901</td>\n",
       "      <td> [leeks, crème fraîche, chicken, red potato, sh...</td>\n",
       "    </tr>\n",
       "    <tr>\n",
       "      <th>554  </th>\n",
       "      <td> french</td>\n",
       "      <td> 33161</td>\n",
       "      <td> [anchovy fillets, capers, light tuna, extra-vi...</td>\n",
       "    </tr>\n",
       "    <tr>\n",
       "      <th>...</th>\n",
       "      <td>...</td>\n",
       "      <td>...</td>\n",
       "      <td>...</td>\n",
       "    </tr>\n",
       "    <tr>\n",
       "      <th>39306</th>\n",
       "      <td> french</td>\n",
       "      <td> 37826</td>\n",
       "      <td> [clove, bread crumb fresh, duck fat, sea salt,...</td>\n",
       "    </tr>\n",
       "    <tr>\n",
       "      <th>39326</th>\n",
       "      <td> french</td>\n",
       "      <td> 12851</td>\n",
       "      <td> [water, large eggs, all-purpose flour, unsalte...</td>\n",
       "    </tr>\n",
       "    <tr>\n",
       "      <th>39332</th>\n",
       "      <td> french</td>\n",
       "      <td> 35419</td>\n",
       "      <td> [sugar, large eggs, instant espresso, water, s...</td>\n",
       "    </tr>\n",
       "    <tr>\n",
       "      <th>39338</th>\n",
       "      <td> french</td>\n",
       "      <td> 41860</td>\n",
       "      <td> [warm water, salt, cold water, egg yolks, whit...</td>\n",
       "    </tr>\n",
       "    <tr>\n",
       "      <th>39351</th>\n",
       "      <td> french</td>\n",
       "      <td> 37548</td>\n",
       "      <td> [honey, mint sprigs, whole wheat peasant bread...</td>\n",
       "    </tr>\n",
       "    <tr>\n",
       "      <th>39381</th>\n",
       "      <td> french</td>\n",
       "      <td> 29793</td>\n",
       "      <td> [chicken breast halves, low salt chicken broth...</td>\n",
       "    </tr>\n",
       "    <tr>\n",
       "      <th>39395</th>\n",
       "      <td> french</td>\n",
       "      <td> 44000</td>\n",
       "      <td> [fat free less sodium chicken broth, olive oil...</td>\n",
       "    </tr>\n",
       "    <tr>\n",
       "      <th>39418</th>\n",
       "      <td> french</td>\n",
       "      <td> 17218</td>\n",
       "      <td> [chocolate flavored liqueur, unsweetened choco...</td>\n",
       "    </tr>\n",
       "    <tr>\n",
       "      <th>39432</th>\n",
       "      <td> french</td>\n",
       "      <td> 25327</td>\n",
       "      <td> [lemon, freshly ground pepper, black bass, ext...</td>\n",
       "    </tr>\n",
       "    <tr>\n",
       "      <th>39436</th>\n",
       "      <td> french</td>\n",
       "      <td> 22735</td>\n",
       "      <td> [sugar, almonds, almond extract, dough, honey,...</td>\n",
       "    </tr>\n",
       "    <tr>\n",
       "      <th>39449</th>\n",
       "      <td> french</td>\n",
       "      <td> 10771</td>\n",
       "      <td> [cherry tomatoes, large garlic cloves, flat le...</td>\n",
       "    </tr>\n",
       "    <tr>\n",
       "      <th>39458</th>\n",
       "      <td> french</td>\n",
       "      <td> 40141</td>\n",
       "      <td> [unbaked pie crusts, heavy cream, onions, grou...</td>\n",
       "    </tr>\n",
       "    <tr>\n",
       "      <th>39498</th>\n",
       "      <td> french</td>\n",
       "      <td> 34746</td>\n",
       "      <td> [whipping cream, cucumber, fresh lemon juice, ...</td>\n",
       "    </tr>\n",
       "    <tr>\n",
       "      <th>39513</th>\n",
       "      <td> french</td>\n",
       "      <td>  3863</td>\n",
       "      <td> [capers, butter, dijon mustard, fresh parsley,...</td>\n",
       "    </tr>\n",
       "    <tr>\n",
       "      <th>39516</th>\n",
       "      <td> french</td>\n",
       "      <td> 37877</td>\n",
       "      <td> [haricots verts, roasted chestnuts, unsalted b...</td>\n",
       "    </tr>\n",
       "    <tr>\n",
       "      <th>39519</th>\n",
       "      <td> french</td>\n",
       "      <td> 42106</td>\n",
       "      <td> [kosher salt, cod fillets, garlic, mussels, ol...</td>\n",
       "    </tr>\n",
       "    <tr>\n",
       "      <th>39521</th>\n",
       "      <td> french</td>\n",
       "      <td>  7287</td>\n",
       "      <td> [powdered sugar, unsalted butter, salt, corn s...</td>\n",
       "    </tr>\n",
       "    <tr>\n",
       "      <th>39532</th>\n",
       "      <td> french</td>\n",
       "      <td> 33232</td>\n",
       "      <td> [bay leaves, dry red wine, baguette, butter, l...</td>\n",
       "    </tr>\n",
       "    <tr>\n",
       "      <th>39556</th>\n",
       "      <td> french</td>\n",
       "      <td> 28011</td>\n",
       "      <td> [granulated sugar, vanilla, dried beans, froze...</td>\n",
       "    </tr>\n",
       "    <tr>\n",
       "      <th>39557</th>\n",
       "      <td> french</td>\n",
       "      <td>  5763</td>\n",
       "      <td> [salt, black pepper, boneless skinless chicken...</td>\n",
       "    </tr>\n",
       "    <tr>\n",
       "      <th>39566</th>\n",
       "      <td> french</td>\n",
       "      <td> 46931</td>\n",
       "      <td> [dijon mustard, shallots, cheese, unsalted but...</td>\n",
       "    </tr>\n",
       "    <tr>\n",
       "      <th>39586</th>\n",
       "      <td> french</td>\n",
       "      <td> 49636</td>\n",
       "      <td> [milk, all-purpose flour, cooking oil, salt, l...</td>\n",
       "    </tr>\n",
       "    <tr>\n",
       "      <th>39630</th>\n",
       "      <td> french</td>\n",
       "      <td> 44734</td>\n",
       "      <td> [french bread, fresh tarragon, mussels, shallo...</td>\n",
       "    </tr>\n",
       "    <tr>\n",
       "      <th>39675</th>\n",
       "      <td> french</td>\n",
       "      <td>   105</td>\n",
       "      <td> [toasted pecans, bourbon whiskey, golden brown...</td>\n",
       "    </tr>\n",
       "    <tr>\n",
       "      <th>39679</th>\n",
       "      <td> french</td>\n",
       "      <td> 16673</td>\n",
       "      <td> [pecans, unsalted butter, bourbon whiskey, wat...</td>\n",
       "    </tr>\n",
       "    <tr>\n",
       "      <th>39700</th>\n",
       "      <td> french</td>\n",
       "      <td> 45255</td>\n",
       "      <td> [semolina flour, sea salt, active dry yeast, g...</td>\n",
       "    </tr>\n",
       "    <tr>\n",
       "      <th>39703</th>\n",
       "      <td> french</td>\n",
       "      <td> 15271</td>\n",
       "      <td> [unsalted shelled pistachio, large egg whites,...</td>\n",
       "    </tr>\n",
       "    <tr>\n",
       "      <th>39705</th>\n",
       "      <td> french</td>\n",
       "      <td> 44512</td>\n",
       "      <td> [instant espresso powder, confectioners sugar,...</td>\n",
       "    </tr>\n",
       "    <tr>\n",
       "      <th>39728</th>\n",
       "      <td> french</td>\n",
       "      <td>  8279</td>\n",
       "      <td>               [french bread, dried basil, butter]</td>\n",
       "    </tr>\n",
       "    <tr>\n",
       "      <th>39736</th>\n",
       "      <td> french</td>\n",
       "      <td> 39166</td>\n",
       "      <td> [shallots, thyme sprigs, bay leaf, cabernet sa...</td>\n",
       "    </tr>\n",
       "  </tbody>\n",
       "</table>\n",
       "<p>2646 rows × 3 columns</p>\n",
       "</div>"
      ],
      "text/plain": [
       "      cuisine     id                                        ingredients\n",
       "46     french  18515  [sugar, salt, fennel bulb, water, lemon olive ...\n",
       "67     french    275  [vanilla, milk, large egg yolks, sugar, corn s...\n",
       "68     french  43769  [orange juice concentrate, pumpkin purée, mars...\n",
       "82     french   6886  [Madeira, foie gras, demi-glace, sherry vinega...\n",
       "134    french  39471  [grated parmesan cheese, asparagus, bacon slic...\n",
       "145    french   9069  [fennel seeds, kalamata, capers, dried oregano...\n",
       "164    french   7501  [tomatoes, olive oil, chopped fresh thyme, sal...\n",
       "171    french  40064  [pepper, grated Gruyère cheese, heavy cream, s...\n",
       "208    french  36862  [eau de vie, leaves, cane sugar, pinenuts, gol...\n",
       "222    french  18643  [2% reduced-fat milk, corn starch, eggs, maple...\n",
       "224    french  46893  [heavy cream, pears, unsalted butter, sour cre...\n",
       "261    french    636  [golden brown sugar, eggs, whole milk ricotta ...\n",
       "313    french  38706  [saffron threads, red wine vinegar, large shri...\n",
       "340    french  10003  [jumbo shrimp, baguette, extra-virgin olive oi...\n",
       "344    french  45711  [sugar, large egg yolks, grated lemon peel, rh...\n",
       "348    french  15882  [dark rum, crème fraîche, unsalted butter, cak...\n",
       "351    french  40509  [kalamata, flat leaf parsley, tomatoes, Califo...\n",
       "356    french   1764  [clove, potatoes, extra-virgin olive oil, turn...\n",
       "377    french  18190  [ground cinnamon, baking potatoes, bay leaf, l...\n",
       "390    french  37109  [dijon mustard, extra-virgin olive oil, flat l...\n",
       "395    french  22581  [granulated sugar, vanilla, chocolate sauce, m...\n",
       "427    french  23336  [leeks, soft fresh goat cheese, olive oil, cho...\n",
       "441    french  33085  [sheep’s milk cheese, champagne vinegar, dijon...\n",
       "466    french  20757  [fresh rosemary, yellow bell pepper, anchovy f...\n",
       "474    french  16520  [water, salt, ground cinnamon, golden deliciou...\n",
       "500    french  35010  [olive oil, zinfandel, boiling onions, fresh m...\n",
       "525    french  23449  [pearl onions, chives, light margarine, bonele...\n",
       "528    french  36636  [vidalia onion, ground black pepper, extra-vir...\n",
       "533    french   5901  [leeks, crème fraîche, chicken, red potato, sh...\n",
       "554    french  33161  [anchovy fillets, capers, light tuna, extra-vi...\n",
       "...       ...    ...                                                ...\n",
       "39306  french  37826  [clove, bread crumb fresh, duck fat, sea salt,...\n",
       "39326  french  12851  [water, large eggs, all-purpose flour, unsalte...\n",
       "39332  french  35419  [sugar, large eggs, instant espresso, water, s...\n",
       "39338  french  41860  [warm water, salt, cold water, egg yolks, whit...\n",
       "39351  french  37548  [honey, mint sprigs, whole wheat peasant bread...\n",
       "39381  french  29793  [chicken breast halves, low salt chicken broth...\n",
       "39395  french  44000  [fat free less sodium chicken broth, olive oil...\n",
       "39418  french  17218  [chocolate flavored liqueur, unsweetened choco...\n",
       "39432  french  25327  [lemon, freshly ground pepper, black bass, ext...\n",
       "39436  french  22735  [sugar, almonds, almond extract, dough, honey,...\n",
       "39449  french  10771  [cherry tomatoes, large garlic cloves, flat le...\n",
       "39458  french  40141  [unbaked pie crusts, heavy cream, onions, grou...\n",
       "39498  french  34746  [whipping cream, cucumber, fresh lemon juice, ...\n",
       "39513  french   3863  [capers, butter, dijon mustard, fresh parsley,...\n",
       "39516  french  37877  [haricots verts, roasted chestnuts, unsalted b...\n",
       "39519  french  42106  [kosher salt, cod fillets, garlic, mussels, ol...\n",
       "39521  french   7287  [powdered sugar, unsalted butter, salt, corn s...\n",
       "39532  french  33232  [bay leaves, dry red wine, baguette, butter, l...\n",
       "39556  french  28011  [granulated sugar, vanilla, dried beans, froze...\n",
       "39557  french   5763  [salt, black pepper, boneless skinless chicken...\n",
       "39566  french  46931  [dijon mustard, shallots, cheese, unsalted but...\n",
       "39586  french  49636  [milk, all-purpose flour, cooking oil, salt, l...\n",
       "39630  french  44734  [french bread, fresh tarragon, mussels, shallo...\n",
       "39675  french    105  [toasted pecans, bourbon whiskey, golden brown...\n",
       "39679  french  16673  [pecans, unsalted butter, bourbon whiskey, wat...\n",
       "39700  french  45255  [semolina flour, sea salt, active dry yeast, g...\n",
       "39703  french  15271  [unsalted shelled pistachio, large egg whites,...\n",
       "39705  french  44512  [instant espresso powder, confectioners sugar,...\n",
       "39728  french   8279                [french bread, dried basil, butter]\n",
       "39736  french  39166  [shallots, thyme sprigs, bay leaf, cabernet sa...\n",
       "\n",
       "[2646 rows x 3 columns]"
      ]
     },
     "execution_count": 5,
     "metadata": {},
     "output_type": "execute_result"
    }
   ],
   "source": [
    "df[df.cuisine == 'french']"
   ]
  },
  {
   "cell_type": "markdown",
   "metadata": {},
   "source": [
    "Let's start and look at each of the unique ingredients in French cuisine."
   ]
  },
  {
   "cell_type": "code",
   "execution_count": 6,
   "metadata": {
    "collapsed": false
   },
   "outputs": [],
   "source": [
    "french_ingredients = df[df.cuisine == 'french']['ingredients']"
   ]
  },
  {
   "cell_type": "code",
   "execution_count": 7,
   "metadata": {
    "collapsed": true
   },
   "outputs": [],
   "source": [
    "from collections import Counter"
   ]
  },
  {
   "cell_type": "code",
   "execution_count": 8,
   "metadata": {
    "collapsed": false
   },
   "outputs": [],
   "source": [
    "c = Counter(\",\".join([\",\".join(_) for _ in french_ingredients.values]).split(\",\"))"
   ]
  },
  {
   "cell_type": "code",
   "execution_count": 9,
   "metadata": {
    "collapsed": false
   },
   "outputs": [
    {
     "data": {
      "text/plain": [
       "[(u'salt', 1203),\n",
       " (u'sugar', 637),\n",
       " (u'all-purpose flour', 593),\n",
       " (u'unsalted butter', 592),\n",
       " (u'olive oil', 516),\n",
       " (u'butter', 514),\n",
       " (u'water', 439),\n",
       " (u'large eggs', 415),\n",
       " (u'garlic cloves', 403),\n",
       " (u'ground black pepper', 385)]"
      ]
     },
     "execution_count": 9,
     "metadata": {},
     "output_type": "execute_result"
    }
   ],
   "source": [
    "c.most_common(10)"
   ]
  },
  {
   "cell_type": "code",
   "execution_count": 10,
   "metadata": {
    "collapsed": false
   },
   "outputs": [
    {
     "data": {
      "text/plain": [
       "array([u'greek', u'southern_us', u'filipino', u'indian', u'jamaican',\n",
       "       u'spanish', u'italian', u'mexican', u'chinese', u'british', u'thai',\n",
       "       u'vietnamese', u'cajun_creole', u'brazilian', u'french',\n",
       "       u'japanese', u'irish', u'korean', u'moroccan', u'russian'], dtype=object)"
      ]
     },
     "execution_count": 10,
     "metadata": {},
     "output_type": "execute_result"
    }
   ],
   "source": [
    "df.cuisine.unique()"
   ]
  },
  {
   "cell_type": "markdown",
   "metadata": {},
   "source": [
    "We can now make a dictionary to access the counters for all food types."
   ]
  },
  {
   "cell_type": "code",
   "execution_count": 11,
   "metadata": {
    "collapsed": true
   },
   "outputs": [],
   "source": [
    "cuisines = [u'greek', u'southern_us', u'filipino', u'indian', u'jamaican',\n",
    "       u'spanish', u'italian', u'mexican', u'chinese', u'british', u'thai',\n",
    "       u'vietnamese', u'cajun_creole', u'brazilian', u'french',\n",
    "       u'japanese', u'irish', u'korean', u'moroccan', u'russian']"
   ]
  },
  {
   "cell_type": "code",
   "execution_count": 12,
   "metadata": {
    "collapsed": true
   },
   "outputs": [],
   "source": [
    "ingredient_dict = {}\n",
    "for cuisine in cuisines:\n",
    "    ingredient_dict[cuisine] = Counter(\",\".join(\n",
    "            [\",\".join(_) for _ in df[df.cuisine == cuisine]['ingredients'].values]).split(\",\"))"
   ]
  },
  {
   "cell_type": "code",
   "execution_count": 13,
   "metadata": {
    "collapsed": false
   },
   "outputs": [
    {
     "data": {
      "text/plain": [
       "[(u'salt', 572),\n",
       " (u'olive oil', 504),\n",
       " (u'dried oregano', 267),\n",
       " (u'garlic cloves', 254),\n",
       " (u'feta cheese crumbles', 252),\n",
       " (u'extra-virgin olive oil', 229),\n",
       " (u'fresh lemon juice', 222),\n",
       " (u'ground black pepper', 221),\n",
       " (u'garlic', 216),\n",
       " (u'pepper', 203)]"
      ]
     },
     "execution_count": 13,
     "metadata": {},
     "output_type": "execute_result"
    }
   ],
   "source": [
    "ingredient_dict['greek'].most_common(10)"
   ]
  },
  {
   "cell_type": "code",
   "execution_count": 14,
   "metadata": {
    "collapsed": false
   },
   "outputs": [
    {
     "data": {
      "text/plain": [
       "[(u'salt', 3454),\n",
       " (u'olive oil', 3111),\n",
       " (u'garlic cloves', 1619),\n",
       " (u'grated parmesan cheese', 1580),\n",
       " (u'garlic', 1471),\n",
       " (u'ground black pepper', 1444),\n",
       " (u'extra-virgin olive oil', 1362),\n",
       " (u'onions', 1240),\n",
       " (u'water', 1052),\n",
       " (u'butter', 1030)]"
      ]
     },
     "execution_count": 14,
     "metadata": {},
     "output_type": "execute_result"
    }
   ],
   "source": [
    "ingredient_dict['italian'].most_common(10)"
   ]
  },
  {
   "cell_type": "markdown",
   "metadata": {},
   "source": [
    "Actually, we can make a top 10 ingredients HTML table for each cuisine."
   ]
  },
  {
   "cell_type": "code",
   "execution_count": 15,
   "metadata": {
    "collapsed": true
   },
   "outputs": [],
   "source": [
    "from IPython.display import HTML"
   ]
  },
  {
   "cell_type": "code",
   "execution_count": 16,
   "metadata": {
    "collapsed": false
   },
   "outputs": [
    {
     "data": {
      "text/html": [
       "Cuisine: greek<table style=\"width:100%\">\n",
       "  <tr>\n",
       "    <td>salt</td> <td>olive oil</td> <td>dried oregano</td> <td>garlic cloves</td> <td>feta cheese crumbles</td> <td>extra-virgin olive oil</td> <td>fresh lemon juice</td> <td>ground black pepper</td> <td>garlic</td> <td>pepper</td>\n",
       "  </tr>\n",
       "  <tr>\n",
       "    <td><img width=150 src=\"img/salt.png\"></td> <td><img width=150 src=\"img/olive oil.png\"></td> <td><img width=150 src=\"img/dried oregano.png\"></td> <td><img width=150 src=\"img/garlic cloves.png\"></td> <td><img width=150 src=\"img/feta cheese crumbles.png\"></td> <td><img width=150 src=\"img/extra-virgin olive oil.png\"></td> <td><img width=150 src=\"img/fresh lemon juice.png\"></td> <td><img width=150 src=\"img/ground black pepper.png\"></td> <td><img width=150 src=\"img/garlic.png\"></td> <td><img width=150 src=\"img/pepper.png\"></td>\n",
       "  </tr>\n",
       "</table><br/>Cuisine: southern_us<table style=\"width:100%\">\n",
       "  <tr>\n",
       "    <td>salt</td> <td>butter</td> <td>all-purpose flour</td> <td>sugar</td> <td>large eggs</td> <td>baking powder</td> <td>water</td> <td>unsalted butter</td> <td>milk</td> <td>buttermilk</td>\n",
       "  </tr>\n",
       "  <tr>\n",
       "    <td><img width=150 src=\"img/salt.png\"></td> <td><img width=150 src=\"img/butter.png\"></td> <td><img width=150 src=\"img/all-purpose flour.png\"></td> <td><img width=150 src=\"img/sugar.png\"></td> <td><img width=150 src=\"img/large eggs.png\"></td> <td><img width=150 src=\"img/baking powder.png\"></td> <td><img width=150 src=\"img/water.png\"></td> <td><img width=150 src=\"img/unsalted butter.png\"></td> <td><img width=150 src=\"img/milk.png\"></td> <td><img width=150 src=\"img/buttermilk.png\"></td>\n",
       "  </tr>\n",
       "</table><br/>Cuisine: filipino<table style=\"width:100%\">\n",
       "  <tr>\n",
       "    <td>salt</td> <td>garlic</td> <td>water</td> <td>onions</td> <td>soy sauce</td> <td>pepper</td> <td>oil</td> <td>sugar</td> <td>carrots</td> <td>ground black pepper</td>\n",
       "  </tr>\n",
       "  <tr>\n",
       "    <td><img width=150 src=\"img/salt.png\"></td> <td><img width=150 src=\"img/garlic.png\"></td> <td><img width=150 src=\"img/water.png\"></td> <td><img width=150 src=\"img/onions.png\"></td> <td><img width=150 src=\"img/soy sauce.png\"></td> <td><img width=150 src=\"img/pepper.png\"></td> <td><img width=150 src=\"img/oil.png\"></td> <td><img width=150 src=\"img/sugar.png\"></td> <td><img width=150 src=\"img/carrots.png\"></td> <td><img width=150 src=\"img/ground black pepper.png\"></td>\n",
       "  </tr>\n",
       "</table><br/>Cuisine: indian<table style=\"width:100%\">\n",
       "  <tr>\n",
       "    <td>salt</td> <td>onions</td> <td>garam masala</td> <td>water</td> <td>ground turmeric</td> <td>garlic</td> <td>cumin seed</td> <td>ground cumin</td> <td>vegetable oil</td> <td>oil</td>\n",
       "  </tr>\n",
       "  <tr>\n",
       "    <td><img width=150 src=\"img/salt.png\"></td> <td><img width=150 src=\"img/onions.png\"></td> <td><img width=150 src=\"img/garam masala.png\"></td> <td><img width=150 src=\"img/water.png\"></td> <td><img width=150 src=\"img/ground turmeric.png\"></td> <td><img width=150 src=\"img/garlic.png\"></td> <td><img width=150 src=\"img/cumin seed.png\"></td> <td><img width=150 src=\"img/ground cumin.png\"></td> <td><img width=150 src=\"img/vegetable oil.png\"></td> <td><img width=150 src=\"img/oil.png\"></td>\n",
       "  </tr>\n",
       "</table><br/>Cuisine: jamaican<table style=\"width:100%\">\n",
       "  <tr>\n",
       "    <td>salt</td> <td>onions</td> <td>water</td> <td>garlic</td> <td>ground allspice</td> <td>pepper</td> <td>scallions</td> <td>dried thyme</td> <td>black pepper</td> <td>garlic cloves</td>\n",
       "  </tr>\n",
       "  <tr>\n",
       "    <td><img width=150 src=\"img/salt.png\"></td> <td><img width=150 src=\"img/onions.png\"></td> <td><img width=150 src=\"img/water.png\"></td> <td><img width=150 src=\"img/garlic.png\"></td> <td><img width=150 src=\"img/ground allspice.png\"></td> <td><img width=150 src=\"img/pepper.png\"></td> <td><img width=150 src=\"img/scallions.png\"></td> <td><img width=150 src=\"img/dried thyme.png\"></td> <td><img width=150 src=\"img/black pepper.png\"></td> <td><img width=150 src=\"img/garlic cloves.png\"></td>\n",
       "  </tr>\n",
       "</table><br/>Cuisine: spanish<table style=\"width:100%\">\n",
       "  <tr>\n",
       "    <td>salt</td> <td>olive oil</td> <td>garlic cloves</td> <td>extra-virgin olive oil</td> <td>onions</td> <td>water</td> <td>tomatoes</td> <td>ground black pepper</td> <td>red bell pepper</td> <td>pepper</td>\n",
       "  </tr>\n",
       "  <tr>\n",
       "    <td><img width=150 src=\"img/salt.png\"></td> <td><img width=150 src=\"img/olive oil.png\"></td> <td><img width=150 src=\"img/garlic cloves.png\"></td> <td><img width=150 src=\"img/extra-virgin olive oil.png\"></td> <td><img width=150 src=\"img/onions.png\"></td> <td><img width=150 src=\"img/water.png\"></td> <td><img width=150 src=\"img/tomatoes.png\"></td> <td><img width=150 src=\"img/ground black pepper.png\"></td> <td><img width=150 src=\"img/red bell pepper.png\"></td> <td><img width=150 src=\"img/pepper.png\"></td>\n",
       "  </tr>\n",
       "</table><br/>Cuisine: italian<table style=\"width:100%\">\n",
       "  <tr>\n",
       "    <td>salt</td> <td>olive oil</td> <td>garlic cloves</td> <td>grated parmesan cheese</td> <td>garlic</td> <td>ground black pepper</td> <td>extra-virgin olive oil</td> <td>onions</td> <td>water</td> <td>butter</td>\n",
       "  </tr>\n",
       "  <tr>\n",
       "    <td><img width=150 src=\"img/salt.png\"></td> <td><img width=150 src=\"img/olive oil.png\"></td> <td><img width=150 src=\"img/garlic cloves.png\"></td> <td><img width=150 src=\"img/grated parmesan cheese.png\"></td> <td><img width=150 src=\"img/garlic.png\"></td> <td><img width=150 src=\"img/ground black pepper.png\"></td> <td><img width=150 src=\"img/extra-virgin olive oil.png\"></td> <td><img width=150 src=\"img/onions.png\"></td> <td><img width=150 src=\"img/water.png\"></td> <td><img width=150 src=\"img/butter.png\"></td>\n",
       "  </tr>\n",
       "</table><br/>Cuisine: mexican<table style=\"width:100%\">\n",
       "  <tr>\n",
       "    <td>salt</td> <td>onions</td> <td>ground cumin</td> <td>garlic</td> <td>olive oil</td> <td>chili powder</td> <td>jalapeno chilies</td> <td>sour cream</td> <td>avocado</td> <td>corn tortillas</td>\n",
       "  </tr>\n",
       "  <tr>\n",
       "    <td><img width=150 src=\"img/salt.png\"></td> <td><img width=150 src=\"img/onions.png\"></td> <td><img width=150 src=\"img/ground cumin.png\"></td> <td><img width=150 src=\"img/garlic.png\"></td> <td><img width=150 src=\"img/olive oil.png\"></td> <td><img width=150 src=\"img/chili powder.png\"></td> <td><img width=150 src=\"img/jalapeno chilies.png\"></td> <td><img width=150 src=\"img/sour cream.png\"></td> <td><img width=150 src=\"img/avocado.png\"></td> <td><img width=150 src=\"img/corn tortillas.png\"></td>\n",
       "  </tr>\n",
       "</table><br/>Cuisine: chinese<table style=\"width:100%\">\n",
       "  <tr>\n",
       "    <td>soy sauce</td> <td>sesame oil</td> <td>salt</td> <td>corn starch</td> <td>sugar</td> <td>garlic</td> <td>water</td> <td>green onions</td> <td>vegetable oil</td> <td>scallions</td>\n",
       "  </tr>\n",
       "  <tr>\n",
       "    <td><img width=150 src=\"img/soy sauce.png\"></td> <td><img width=150 src=\"img/sesame oil.png\"></td> <td><img width=150 src=\"img/salt.png\"></td> <td><img width=150 src=\"img/corn starch.png\"></td> <td><img width=150 src=\"img/sugar.png\"></td> <td><img width=150 src=\"img/garlic.png\"></td> <td><img width=150 src=\"img/water.png\"></td> <td><img width=150 src=\"img/green onions.png\"></td> <td><img width=150 src=\"img/vegetable oil.png\"></td> <td><img width=150 src=\"img/scallions.png\"></td>\n",
       "  </tr>\n",
       "</table><br/>Cuisine: british<table style=\"width:100%\">\n",
       "  <tr>\n",
       "    <td>salt</td> <td>all-purpose flour</td> <td>butter</td> <td>milk</td> <td>unsalted butter</td> <td>eggs</td> <td>sugar</td> <td>onions</td> <td>baking powder</td> <td>large eggs</td>\n",
       "  </tr>\n",
       "  <tr>\n",
       "    <td><img width=150 src=\"img/salt.png\"></td> <td><img width=150 src=\"img/all-purpose flour.png\"></td> <td><img width=150 src=\"img/butter.png\"></td> <td><img width=150 src=\"img/milk.png\"></td> <td><img width=150 src=\"img/unsalted butter.png\"></td> <td><img width=150 src=\"img/eggs.png\"></td> <td><img width=150 src=\"img/sugar.png\"></td> <td><img width=150 src=\"img/onions.png\"></td> <td><img width=150 src=\"img/baking powder.png\"></td> <td><img width=150 src=\"img/large eggs.png\"></td>\n",
       "  </tr>\n",
       "</table><br/>Cuisine: thai<table style=\"width:100%\">\n",
       "  <tr>\n",
       "    <td>fish sauce</td> <td>garlic</td> <td>salt</td> <td>coconut milk</td> <td>vegetable oil</td> <td>soy sauce</td> <td>sugar</td> <td>water</td> <td>garlic cloves</td> <td>fresh lime juice</td>\n",
       "  </tr>\n",
       "  <tr>\n",
       "    <td><img width=150 src=\"img/fish sauce.png\"></td> <td><img width=150 src=\"img/garlic.png\"></td> <td><img width=150 src=\"img/salt.png\"></td> <td><img width=150 src=\"img/coconut milk.png\"></td> <td><img width=150 src=\"img/vegetable oil.png\"></td> <td><img width=150 src=\"img/soy sauce.png\"></td> <td><img width=150 src=\"img/sugar.png\"></td> <td><img width=150 src=\"img/water.png\"></td> <td><img width=150 src=\"img/garlic cloves.png\"></td> <td><img width=150 src=\"img/fresh lime juice.png\"></td>\n",
       "  </tr>\n",
       "</table><br/>Cuisine: vietnamese<table style=\"width:100%\">\n",
       "  <tr>\n",
       "    <td>fish sauce</td> <td>sugar</td> <td>salt</td> <td>garlic</td> <td>water</td> <td>carrots</td> <td>soy sauce</td> <td>shallots</td> <td>garlic cloves</td> <td>vegetable oil</td>\n",
       "  </tr>\n",
       "  <tr>\n",
       "    <td><img width=150 src=\"img/fish sauce.png\"></td> <td><img width=150 src=\"img/sugar.png\"></td> <td><img width=150 src=\"img/salt.png\"></td> <td><img width=150 src=\"img/garlic.png\"></td> <td><img width=150 src=\"img/water.png\"></td> <td><img width=150 src=\"img/carrots.png\"></td> <td><img width=150 src=\"img/soy sauce.png\"></td> <td><img width=150 src=\"img/shallots.png\"></td> <td><img width=150 src=\"img/garlic cloves.png\"></td> <td><img width=150 src=\"img/vegetable oil.png\"></td>\n",
       "  </tr>\n",
       "</table><br/>Cuisine: cajun_creole<table style=\"width:100%\">\n",
       "  <tr>\n",
       "    <td>salt</td> <td>onions</td> <td>garlic</td> <td>green bell pepper</td> <td>butter</td> <td>olive oil</td> <td>cayenne pepper</td> <td>cajun seasoning</td> <td>all-purpose flour</td> <td>water</td>\n",
       "  </tr>\n",
       "  <tr>\n",
       "    <td><img width=150 src=\"img/salt.png\"></td> <td><img width=150 src=\"img/onions.png\"></td> <td><img width=150 src=\"img/garlic.png\"></td> <td><img width=150 src=\"img/green bell pepper.png\"></td> <td><img width=150 src=\"img/butter.png\"></td> <td><img width=150 src=\"img/olive oil.png\"></td> <td><img width=150 src=\"img/cayenne pepper.png\"></td> <td><img width=150 src=\"img/cajun seasoning.png\"></td> <td><img width=150 src=\"img/all-purpose flour.png\"></td> <td><img width=150 src=\"img/water.png\"></td>\n",
       "  </tr>\n",
       "</table><br/>Cuisine: brazilian<table style=\"width:100%\">\n",
       "  <tr>\n",
       "    <td>salt</td> <td>onions</td> <td>olive oil</td> <td>lime</td> <td>water</td> <td>garlic cloves</td> <td>garlic</td> <td>cachaca</td> <td>sugar</td> <td>tomatoes</td>\n",
       "  </tr>\n",
       "  <tr>\n",
       "    <td><img width=150 src=\"img/salt.png\"></td> <td><img width=150 src=\"img/onions.png\"></td> <td><img width=150 src=\"img/olive oil.png\"></td> <td><img width=150 src=\"img/lime.png\"></td> <td><img width=150 src=\"img/water.png\"></td> <td><img width=150 src=\"img/garlic cloves.png\"></td> <td><img width=150 src=\"img/garlic.png\"></td> <td><img width=150 src=\"img/cachaca.png\"></td> <td><img width=150 src=\"img/sugar.png\"></td> <td><img width=150 src=\"img/tomatoes.png\"></td>\n",
       "  </tr>\n",
       "</table><br/>Cuisine: french<table style=\"width:100%\">\n",
       "  <tr>\n",
       "    <td>salt</td> <td>sugar</td> <td>all-purpose flour</td> <td>unsalted butter</td> <td>olive oil</td> <td>butter</td> <td>water</td> <td>large eggs</td> <td>garlic cloves</td> <td>ground black pepper</td>\n",
       "  </tr>\n",
       "  <tr>\n",
       "    <td><img width=150 src=\"img/salt.png\"></td> <td><img width=150 src=\"img/sugar.png\"></td> <td><img width=150 src=\"img/all-purpose flour.png\"></td> <td><img width=150 src=\"img/unsalted butter.png\"></td> <td><img width=150 src=\"img/olive oil.png\"></td> <td><img width=150 src=\"img/butter.png\"></td> <td><img width=150 src=\"img/water.png\"></td> <td><img width=150 src=\"img/large eggs.png\"></td> <td><img width=150 src=\"img/garlic cloves.png\"></td> <td><img width=150 src=\"img/ground black pepper.png\"></td>\n",
       "  </tr>\n",
       "</table><br/>Cuisine: japanese<table style=\"width:100%\">\n",
       "  <tr>\n",
       "    <td>soy sauce</td> <td>salt</td> <td>mirin</td> <td>sugar</td> <td>water</td> <td>sake</td> <td>rice vinegar</td> <td>vegetable oil</td> <td>scallions</td> <td>ginger</td>\n",
       "  </tr>\n",
       "  <tr>\n",
       "    <td><img width=150 src=\"img/soy sauce.png\"></td> <td><img width=150 src=\"img/salt.png\"></td> <td><img width=150 src=\"img/mirin.png\"></td> <td><img width=150 src=\"img/sugar.png\"></td> <td><img width=150 src=\"img/water.png\"></td> <td><img width=150 src=\"img/sake.png\"></td> <td><img width=150 src=\"img/rice vinegar.png\"></td> <td><img width=150 src=\"img/vegetable oil.png\"></td> <td><img width=150 src=\"img/scallions.png\"></td> <td><img width=150 src=\"img/ginger.png\"></td>\n",
       "  </tr>\n",
       "</table><br/>Cuisine: irish<table style=\"width:100%\">\n",
       "  <tr>\n",
       "    <td>salt</td> <td>butter</td> <td>all-purpose flour</td> <td>onions</td> <td>potatoes</td> <td>sugar</td> <td>baking soda</td> <td>baking powder</td> <td>milk</td> <td>carrots</td>\n",
       "  </tr>\n",
       "  <tr>\n",
       "    <td><img width=150 src=\"img/salt.png\"></td> <td><img width=150 src=\"img/butter.png\"></td> <td><img width=150 src=\"img/all-purpose flour.png\"></td> <td><img width=150 src=\"img/onions.png\"></td> <td><img width=150 src=\"img/potatoes.png\"></td> <td><img width=150 src=\"img/sugar.png\"></td> <td><img width=150 src=\"img/baking soda.png\"></td> <td><img width=150 src=\"img/baking powder.png\"></td> <td><img width=150 src=\"img/milk.png\"></td> <td><img width=150 src=\"img/carrots.png\"></td>\n",
       "  </tr>\n",
       "</table><br/>Cuisine: korean<table style=\"width:100%\">\n",
       "  <tr>\n",
       "    <td>soy sauce</td> <td>sesame oil</td> <td>garlic</td> <td>green onions</td> <td>sugar</td> <td>salt</td> <td>water</td> <td>sesame seeds</td> <td>onions</td> <td>scallions</td>\n",
       "  </tr>\n",
       "  <tr>\n",
       "    <td><img width=150 src=\"img/soy sauce.png\"></td> <td><img width=150 src=\"img/sesame oil.png\"></td> <td><img width=150 src=\"img/garlic.png\"></td> <td><img width=150 src=\"img/green onions.png\"></td> <td><img width=150 src=\"img/sugar.png\"></td> <td><img width=150 src=\"img/salt.png\"></td> <td><img width=150 src=\"img/water.png\"></td> <td><img width=150 src=\"img/sesame seeds.png\"></td> <td><img width=150 src=\"img/onions.png\"></td> <td><img width=150 src=\"img/scallions.png\"></td>\n",
       "  </tr>\n",
       "</table><br/>Cuisine: moroccan<table style=\"width:100%\">\n",
       "  <tr>\n",
       "    <td>salt</td> <td>olive oil</td> <td>ground cumin</td> <td>onions</td> <td>ground cinnamon</td> <td>garlic cloves</td> <td>water</td> <td>ground ginger</td> <td>carrots</td> <td>paprika</td>\n",
       "  </tr>\n",
       "  <tr>\n",
       "    <td><img width=150 src=\"img/salt.png\"></td> <td><img width=150 src=\"img/olive oil.png\"></td> <td><img width=150 src=\"img/ground cumin.png\"></td> <td><img width=150 src=\"img/onions.png\"></td> <td><img width=150 src=\"img/ground cinnamon.png\"></td> <td><img width=150 src=\"img/garlic cloves.png\"></td> <td><img width=150 src=\"img/water.png\"></td> <td><img width=150 src=\"img/ground ginger.png\"></td> <td><img width=150 src=\"img/carrots.png\"></td> <td><img width=150 src=\"img/paprika.png\"></td>\n",
       "  </tr>\n",
       "</table><br/>Cuisine: russian<table style=\"width:100%\">\n",
       "  <tr>\n",
       "    <td>salt</td> <td>sugar</td> <td>onions</td> <td>all-purpose flour</td> <td>sour cream</td> <td>eggs</td> <td>water</td> <td>butter</td> <td>unsalted butter</td> <td>large eggs</td>\n",
       "  </tr>\n",
       "  <tr>\n",
       "    <td><img width=150 src=\"img/salt.png\"></td> <td><img width=150 src=\"img/sugar.png\"></td> <td><img width=150 src=\"img/onions.png\"></td> <td><img width=150 src=\"img/all-purpose flour.png\"></td> <td><img width=150 src=\"img/sour cream.png\"></td> <td><img width=150 src=\"img/eggs.png\"></td> <td><img width=150 src=\"img/water.png\"></td> <td><img width=150 src=\"img/butter.png\"></td> <td><img width=150 src=\"img/unsalted butter.png\"></td> <td><img width=150 src=\"img/large eggs.png\"></td>\n",
       "  </tr>\n",
       "</table><br/>"
      ],
      "text/plain": [
       "<IPython.core.display.HTML object>"
      ]
     },
     "execution_count": 16,
     "metadata": {},
     "output_type": "execute_result"
    }
   ],
   "source": [
    "html = \"\"\n",
    "for cuisine in cuisines:\n",
    "    html += \"Cuisine: {}\".format(cuisine)\n",
    "    most_common = [items[0] for items in ingredient_dict[cuisine].most_common(10)]\n",
    "    header = \" \".join([\"<td>{}</td>\".format(ingr) for ingr in most_common])\n",
    "    imgs = \" \".join(['<td><img width=150 src=\"img/{}.png\"></td>'.format(ingr) for ingr in most_common])\n",
    "    html += \"\"\"<table style=\"width:100%\">\n",
    "  <tr>\n",
    "    {}\n",
    "  </tr>\n",
    "  <tr>\n",
    "    {}\n",
    "  </tr>\n",
    "</table>\"\"\".format(header, imgs)\n",
    "    html += \"<br/>\"\n",
    "HTML(html)"
   ]
  },
  {
   "cell_type": "code",
   "execution_count": 17,
   "metadata": {
    "collapsed": true
   },
   "outputs": [],
   "source": [
    "with open('gallery.html', \"w\") as f:\n",
    "    f.write(html)"
   ]
  },
  {
   "cell_type": "markdown",
   "metadata": {},
   "source": [
    "# What about doing a logistic regression? "
   ]
  },
  {
   "cell_type": "markdown",
   "metadata": {},
   "source": [
    "First, we need to build the matrix with the coordinates for each recipe and the target class for regression."
   ]
  },
  {
   "cell_type": "code",
   "execution_count": 18,
   "metadata": {
    "collapsed": true
   },
   "outputs": [],
   "source": [
    "c = Counter(\";\".join([\";\".join(_) for _ in df.ingredients.values]).split(\";\"))"
   ]
  },
  {
   "cell_type": "code",
   "execution_count": 19,
   "metadata": {
    "collapsed": false
   },
   "outputs": [
    {
     "data": {
      "text/plain": [
       "84"
      ]
     },
     "execution_count": 19,
     "metadata": {},
     "output_type": "execute_result"
    }
   ],
   "source": [
    "list(c.viewkeys()).index(\"duck bones\")"
   ]
  },
  {
   "cell_type": "code",
   "execution_count": 20,
   "metadata": {
    "collapsed": true
   },
   "outputs": [],
   "source": [
    "ingredients_index = list(c.viewkeys())"
   ]
  },
  {
   "cell_type": "markdown",
   "metadata": {},
   "source": [
    "Let's build the matrix for a couple of ids."
   ]
  },
  {
   "cell_type": "code",
   "execution_count": 21,
   "metadata": {
    "collapsed": true
   },
   "outputs": [],
   "source": [
    "import numpy as np\n",
    "from scipy.sparse import lil_matrix"
   ]
  },
  {
   "cell_type": "code",
   "execution_count": 22,
   "metadata": {
    "collapsed": false
   },
   "outputs": [
    {
     "data": {
      "text/plain": [
       "(39774, 3)"
      ]
     },
     "execution_count": 22,
     "metadata": {},
     "output_type": "execute_result"
    }
   ],
   "source": [
    "df.shape"
   ]
  },
  {
   "cell_type": "code",
   "execution_count": 23,
   "metadata": {
    "collapsed": false
   },
   "outputs": [
    {
     "name": "stdout",
     "output_type": "stream",
     "text": [
      "Wall time: 1min 19s\n"
     ]
    }
   ],
   "source": [
    "%%time\n",
    "n = df.shape[0]\n",
    "m = len(c.viewkeys())\n",
    "X = lil_matrix((n, m), dtype=np.int)\n",
    "y = np.zeros(n, dtype=np.int)\n",
    "for recipe in range(n):\n",
    "    y[recipe] = cuisines.index(df.loc[recipe].cuisine)\n",
    "    for ingr in df.loc[recipe].ingredients:\n",
    "        X[recipe, ingredients_index.index(ingr)] = 1"
   ]
  },
  {
   "cell_type": "code",
   "execution_count": 24,
   "metadata": {
    "collapsed": false
   },
   "outputs": [
    {
     "data": {
      "text/plain": [
       "array([ 0,  1,  2,  3,  3,  4,  5,  6,  7,  6,  6,  8,  6,  7,  6,  3,  9,\n",
       "        6, 10, 11, 10,  7,  1,  8,  6,  8, 12,  6,  8,  7,  6, 12,  7, 10,\n",
       "        6, 12,  6,  2,  1,  1,  6, 13,  7,  3,  7,  8, 14,  1,  1,  1, 15,\n",
       "        1,  6,  1,  6,  4, 15,  3,  6, 16, 10, 10,  3,  4,  6, 10, 17, 14,\n",
       "       14,  1,  5,  3, 18,  6,  6, 18, 18, 11, 15,  7, 12,  1, 14,  3,  3,\n",
       "        6,  6,  3, 17,  5,  6,  1,  1,  0,  7,  7,  1,  3,  6,  6])"
      ]
     },
     "execution_count": 24,
     "metadata": {},
     "output_type": "execute_result"
    }
   ],
   "source": [
    "y[:100]"
   ]
  },
  {
   "cell_type": "code",
   "execution_count": 25,
   "metadata": {
    "collapsed": false
   },
   "outputs": [
    {
     "data": {
      "text/plain": [
       "<39774x6714 sparse matrix of type '<type 'numpy.int32'>'\n",
       "\twith 428249 stored elements in LInked List format>"
      ]
     },
     "execution_count": 25,
     "metadata": {},
     "output_type": "execute_result"
    }
   ],
   "source": [
    "X"
   ]
  },
  {
   "cell_type": "markdown",
   "metadata": {},
   "source": [
    "We can now compute the logistic regression for our model."
   ]
  },
  {
   "cell_type": "code",
   "execution_count": 26,
   "metadata": {
    "collapsed": true
   },
   "outputs": [],
   "source": [
    "from sklearn import linear_model"
   ]
  },
  {
   "cell_type": "code",
   "execution_count": 27,
   "metadata": {
    "collapsed": false
   },
   "outputs": [
    {
     "name": "stdout",
     "output_type": "stream",
     "text": [
      "LogisticRegression score: 0.868306\n"
     ]
    }
   ],
   "source": [
    "logistic = linear_model.LogisticRegression()\n",
    "logistic.fit(X, y)\n",
    "print('LogisticRegression score: %f'\n",
    "      % logistic.score(X, y))"
   ]
  },
  {
   "cell_type": "markdown",
   "metadata": {},
   "source": [
    "Seems to work pretty well on the test set. Let's try on the train set."
   ]
  },
  {
   "cell_type": "code",
   "execution_count": 28,
   "metadata": {
    "collapsed": true
   },
   "outputs": [],
   "source": [
    "df_test = pd.read_json('test.json')"
   ]
  },
  {
   "cell_type": "code",
   "execution_count": 30,
   "metadata": {
    "collapsed": false
   },
   "outputs": [
    {
     "data": {
      "text/html": [
       "<div style=\"max-height:1000px;max-width:1500px;overflow:auto;\">\n",
       "<table border=\"1\" class=\"dataframe\">\n",
       "  <thead>\n",
       "    <tr style=\"text-align: right;\">\n",
       "      <th></th>\n",
       "      <th>id</th>\n",
       "      <th>ingredients</th>\n",
       "    </tr>\n",
       "  </thead>\n",
       "  <tbody>\n",
       "    <tr>\n",
       "      <th>0</th>\n",
       "      <td> 18009</td>\n",
       "      <td> [baking powder, eggs, all-purpose flour, raisi...</td>\n",
       "    </tr>\n",
       "    <tr>\n",
       "      <th>1</th>\n",
       "      <td> 28583</td>\n",
       "      <td> [sugar, egg yolks, corn starch, cream of tarta...</td>\n",
       "    </tr>\n",
       "    <tr>\n",
       "      <th>2</th>\n",
       "      <td> 41580</td>\n",
       "      <td> [sausage links, fennel bulb, fronds, olive oil...</td>\n",
       "    </tr>\n",
       "    <tr>\n",
       "      <th>3</th>\n",
       "      <td> 29752</td>\n",
       "      <td> [meat cuts, file powder, smoked sausage, okra,...</td>\n",
       "    </tr>\n",
       "    <tr>\n",
       "      <th>4</th>\n",
       "      <td> 35687</td>\n",
       "      <td> [ground black pepper, salt, sausage casings, l...</td>\n",
       "    </tr>\n",
       "  </tbody>\n",
       "</table>\n",
       "</div>"
      ],
      "text/plain": [
       "      id                                        ingredients\n",
       "0  18009  [baking powder, eggs, all-purpose flour, raisi...\n",
       "1  28583  [sugar, egg yolks, corn starch, cream of tarta...\n",
       "2  41580  [sausage links, fennel bulb, fronds, olive oil...\n",
       "3  29752  [meat cuts, file powder, smoked sausage, okra,...\n",
       "4  35687  [ground black pepper, salt, sausage casings, l..."
      ]
     },
     "execution_count": 30,
     "metadata": {},
     "output_type": "execute_result"
    }
   ],
   "source": [
    "df_test.head()"
   ]
  },
  {
   "cell_type": "code",
   "execution_count": 90,
   "metadata": {
    "collapsed": false
   },
   "outputs": [
    {
     "name": "stdout",
     "output_type": "stream",
     "text": [
      "Wall time: 18.8 s\n"
     ]
    }
   ],
   "source": [
    "%%time\n",
    "n = df_test.shape[0]\n",
    "m = len(c.viewkeys())\n",
    "X_submit = lil_matrix((n, m), dtype=np.int)\n",
    "for recipe in range(n):\n",
    "    for ingr in df_test.loc[recipe].ingredients:\n",
    "        try:\n",
    "            X_submit[recipe, ingredients_index.index(ingr)] = 1\n",
    "        except ValueError:\n",
    "            pass"
   ]
  },
  {
   "cell_type": "code",
   "execution_count": 91,
   "metadata": {
    "collapsed": false
   },
   "outputs": [],
   "source": [
    "y_submit = logistic.predict(X_submit)"
   ]
  },
  {
   "cell_type": "markdown",
   "metadata": {},
   "source": [
    "We can now write the output csv file."
   ]
  },
  {
   "cell_type": "code",
   "execution_count": 75,
   "metadata": {
    "collapsed": true
   },
   "outputs": [],
   "source": [
    "def write_submission(y_submit, submission_filename='submission.csv'):\n",
    "    with open(submission_filename, 'w') as f:\n",
    "        f.write(\"id,cuisine\\n\")\n",
    "        for i, idx in zip(df_test.id, y_submit):\n",
    "            f.write(\"{},{}\\n\".format(i, cuisines[idx]))"
   ]
  },
  {
   "cell_type": "code",
   "execution_count": 76,
   "metadata": {
    "collapsed": true
   },
   "outputs": [],
   "source": [
    "write_submission(y_submit)"
   ]
  },
  {
   "cell_type": "markdown",
   "metadata": {},
   "source": [
    "What if we put a timestamp automatically inside the filename? Little exploration."
   ]
  },
  {
   "cell_type": "code",
   "execution_count": 36,
   "metadata": {
    "collapsed": false
   },
   "outputs": [],
   "source": [
    "import datetime"
   ]
  },
  {
   "cell_type": "code",
   "execution_count": 59,
   "metadata": {
    "collapsed": false
   },
   "outputs": [
    {
     "data": {
      "text/plain": [
       "datetime.time(9, 14, 47, 310000)"
      ]
     },
     "execution_count": 59,
     "metadata": {},
     "output_type": "execute_result"
    }
   ],
   "source": [
    "now = datetime.datetime.today().time()\n",
    "now"
   ]
  },
  {
   "cell_type": "code",
   "execution_count": 66,
   "metadata": {
    "collapsed": false
   },
   "outputs": [
    {
     "data": {
      "text/plain": [
       "47"
      ]
     },
     "execution_count": 66,
     "metadata": {},
     "output_type": "execute_result"
    }
   ],
   "source": [
    "now.secondé"
   ]
  },
  {
   "cell_type": "code",
   "execution_count": 48,
   "metadata": {
    "collapsed": false
   },
   "outputs": [],
   "source": [
    "today = datetime.datetime.today()"
   ]
  },
  {
   "cell_type": "code",
   "execution_count": 53,
   "metadata": {
    "collapsed": false
   },
   "outputs": [
    {
     "data": {
      "text/plain": [
       "735885"
      ]
     },
     "execution_count": 53,
     "metadata": {},
     "output_type": "execute_result"
    }
   ],
   "source": [
    "today.toordinal()"
   ]
  },
  {
   "cell_type": "markdown",
   "metadata": {
    "collapsed": true
   },
   "source": [
    "# Improving the model "
   ]
  },
  {
   "cell_type": "markdown",
   "metadata": {},
   "source": [
    "## C parameter "
   ]
  },
  {
   "cell_type": "markdown",
   "metadata": {
    "collapsed": true
   },
   "source": [
    "Idea: plot some learning curves to determine the best value for the C parameter in the logistic regression."
   ]
  },
  {
   "cell_type": "code",
   "execution_count": 70,
   "metadata": {
    "collapsed": true
   },
   "outputs": [],
   "source": [
    "import matplotlib.pyplot as plt\n",
    "%matplotlib inline"
   ]
  },
  {
   "cell_type": "code",
   "execution_count": 67,
   "metadata": {
    "collapsed": true
   },
   "outputs": [],
   "source": [
    "from sklearn.cross_validation import train_test_split"
   ]
  },
  {
   "cell_type": "code",
   "execution_count": 83,
   "metadata": {
    "collapsed": true
   },
   "outputs": [],
   "source": [
    "X_train, X_test, y_train, y_test = train_test_split(X, y, test_size=0.2)"
   ]
  },
  {
   "cell_type": "code",
   "execution_count": 84,
   "metadata": {
    "collapsed": false
   },
   "outputs": [
    {
     "name": "stdout",
     "output_type": "stream",
     "text": [
      "(0.05, 0.72507856693903205)\n",
      "(0.1, 0.74644877435575108)\n",
      "(0.2, 0.76417347580138273)\n",
      "(0.3, 0.76983029541169079)\n",
      "(0.4, 0.77510999371464484)\n",
      "(0.5, 0.77699560025141423)\n",
      "(0.7, 0.77950974230044001)\n",
      "(0.8, 0.7800125707102451)\n",
      "(0.9, 0.7802639849151477)\n",
      "(1.0, 0.7802639849151477)\n",
      "(1.5, 0.7808925204274042)\n",
      "(2.0, 0.78114393463230669)\n",
      "(2.5, 0.7808925204274042)\n",
      "(3.0, 0.77913262099308611)\n",
      "(3.5, 0.7800125707102451)\n",
      "(4.0, 0.77913262099308611)\n",
      "(5.0, 0.77724701445631683)\n",
      "(10.0, 0.77045883092394718)\n"
     ]
    }
   ],
   "source": [
    "learning_curve = []\n",
    "for C in [0.05, 0.1, 0.2, 0.3, 0.4, 0.5, 0.7, 0.8, 0.9, 1.0, 1.5, 2.0, 2.5, 3.0, 3.5, 4.0, 5.0, 10.]:\n",
    "    clf = linear_model.LogisticRegression(C=C)\n",
    "    clf.fit(X_train, y_train)\n",
    "    learning_curve.append((C, clf.score(X_test, y_test)))\n",
    "    print(learning_curve[-1])"
   ]
  },
  {
   "cell_type": "code",
   "execution_count": 85,
   "metadata": {
    "collapsed": false
   },
   "outputs": [
    {
     "data": {
      "text/plain": [
       "<matplotlib.text.Text at 0x258bdda0>"
      ]
     },
     "execution_count": 85,
     "metadata": {},
     "output_type": "execute_result"
    },
    {
     "data": {
      "image/png": "[encoded data removed]",
      "text/plain": [
       "<matplotlib.figure.Figure at 0x2736db00>"
      ]
     },
     "metadata": {},
     "output_type": "display_data"
    }
   ],
   "source": [
    "plt.plot(np.array(learning_curve)[:, 0],\n",
    "        np.array(learning_curve)[:, 1])\n",
    "plt.xlabel(\"C parameter\")\n",
    "plt.ylabel(\"score\")"
   ]
  },
  {
   "cell_type": "markdown",
   "metadata": {},
   "source": [
    "It seems that C=2.0 is the best choice for me."
   ]
  },
  {
   "cell_type": "code",
   "execution_count": 87,
   "metadata": {
    "collapsed": false
   },
   "outputs": [
    {
     "data": {
      "text/plain": [
       "2.0"
      ]
     },
     "execution_count": 87,
     "metadata": {},
     "output_type": "execute_result"
    }
   ],
   "source": [
    "np.array(learning_curve)[:, 0][np.array(learning_curve)[:, 1].argmax()]"
   ]
  },
  {
   "cell_type": "code",
   "execution_count": 92,
   "metadata": {
    "collapsed": false
   },
   "outputs": [
    {
     "name": "stdout",
     "output_type": "stream",
     "text": [
      "Wall time: 14.4 s\n"
     ]
    }
   ],
   "source": [
    "%%time\n",
    "clf = linear_model.LogisticRegression(C=2.0)\n",
    "clf.fit(X, y)\n",
    "y_submit = clf.predict(X_submit)\n",
    "write_submission(y_submit, \"submission_betterC.csv\")"
   ]
  },
  {
   "cell_type": "markdown",
   "metadata": {},
   "source": [
    "## Taking into account the order of the data "
   ]
  },
  {
   "cell_type": "markdown",
   "metadata": {},
   "source": [
    "My first try was to use a weighting scheme like this:\n",
    "\n",
    "```\n",
    "weight = len(df.loc[recipe].ingredients)\n",
    "X[recipe, ingredients_index.index(ingr)] = weight - order\n",
    "```\n",
    "\n",
    "Problem is: this doesn't scale well. Some ingredients will be at 20 (if the recipe has lots of ingredients), while in other cases other ingredients will only be at 10.\n",
    "\n",
    "So, we'll build a weighting scheme that works with a default of 1 and a small modifier according to how far the ingredient is in the list. \n",
    "\n",
    "```\n",
    "weight = len(df.loc[recipe].ingredients)\n",
    "X[recipe, ingredients_index.index(ingr)] = 1 + 0.5 * (weight - order) / float(weight)\n",
    "```\n",
    "\n",
    "Advantages: this is now normalized."
   ]
  },
  {
   "cell_type": "code",
   "execution_count": 118,
   "metadata": {
    "collapsed": false
   },
   "outputs": [
    {
     "name": "stdout",
     "output_type": "stream",
     "text": [
      "Wall time: 1min 34s\n"
     ]
    }
   ],
   "source": [
    "%%time\n",
    "n = df.shape[0]\n",
    "m = len(c.viewkeys())\n",
    "X = lil_matrix((n, m), dtype=np.double)\n",
    "y = np.zeros(n, dtype=np.int)\n",
    "for recipe in range(n):\n",
    "    y[recipe] = cuisines.index(df.loc[recipe].cuisine)\n",
    "    weight = len(df.loc[recipe].ingredients)\n",
    "    for order, ingr in enumerate(df.loc[recipe].ingredients):\n",
    "        X[recipe, ingredients_index.index(ingr)] = 1 + 0.5 * (weight - order) / float(weight)"
   ]
  },
  {
   "cell_type": "code",
   "execution_count": 119,
   "metadata": {
    "collapsed": false
   },
   "outputs": [
    {
     "data": {
      "text/plain": [
       "array([ 1.5,  1.5,  1.5,  1.5,  1.5,  1.5,  1.5,  1.5,  1.5,  1.5,  1.5,\n",
       "        1.5,  1.5,  1.5,  1.5,  1.5,  1.5,  1.5,  1.5,  1.5,  1.5,  1.5,\n",
       "        1.5,  1.5,  1.5,  1.5,  1.5,  1.5,  1.5,  1.5,  1.5,  1.5,  1.5,\n",
       "        1.5,  1.5,  1.5,  1.5,  1.5,  1.5,  1.5,  1.5,  1.5,  1.5,  1.5,\n",
       "        1.5,  1.5,  1.5,  1.5,  1.5,  1.5,  1.5,  1.5,  1.5,  1.5,  1.5,\n",
       "        1.5,  1.5,  1.5,  1.5,  1.5,  1.5,  1.5,  1.5,  1.5,  1.5,  1.5,\n",
       "        1.5,  1.5,  1.5,  1.5,  1.5,  1.5,  1.5,  1.5,  1.5,  1.5,  1.5,\n",
       "        1.5,  1.5,  1.5,  1.5,  1.5,  1.5,  1.5,  1.5,  1.5,  1.5,  1.5,\n",
       "        1.5,  1.5,  1.5,  1.5,  1.5,  1.5,  1.5,  1.5,  1.5,  1.5,  1.5,\n",
       "        1.5,  1.5,  1.5,  1.5,  1.5,  1.5,  1.5,  1.5,  1.5,  1.5,  1.5,\n",
       "        1.5,  1.5,  1.5,  1.5,  1.5,  1.5,  1.5,  1.5,  1.5,  1.5,  1.5,\n",
       "        1.5,  1.5,  1.5,  1.5,  1.5,  1.5,  1.5,  1.5,  1.5,  1.5,  1.5,\n",
       "        1.5,  1.5,  1.5,  1.5,  1.5,  1.5,  1.5,  1.5,  1.5,  1.5,  1.5,\n",
       "        1.5,  1.5,  1.5,  1.5,  1.5,  1.5,  1.5,  1.5,  1.5,  1.5,  1.5,\n",
       "        1.5,  1.5,  1.5,  1.5,  1.5,  1.5,  1.5,  1.5,  1.5,  1.5,  1.5,\n",
       "        1.5,  1.5,  1.5,  1.5,  1.5,  1.5,  1.5,  1.5,  1.5,  1.5,  1.5,\n",
       "        1.5,  1.5,  1.5,  1.5,  1.5,  1.5,  1.5,  1.5,  1.5,  1.5,  1.5,\n",
       "        1.5,  1.5,  1.5,  1.5,  1.5,  1.5,  1.5,  1.5,  1.5,  1.5,  1.5,\n",
       "        1.5,  1.5,  1.5,  1.5,  1.5,  1.5,  1.5,  1.5,  1.5,  1.5,  1.5,\n",
       "        1.5,  1.5,  1.5,  1.5,  1.5,  1.5,  1.5,  1.5,  1.5,  1.5,  1.5,\n",
       "        1.5,  1.5,  1.5,  1.5,  1.5,  1.5,  1.5,  1.5,  1.5,  1.5,  1.5,\n",
       "        1.5,  1.5,  1.5,  1.5,  1.5,  1.5,  1.5,  1.5,  1.5,  1.5,  1.5,\n",
       "        1.5,  1.5,  1.5,  1.5,  1.5,  1.5,  1.5,  1.5,  1.5,  1.5,  1.5,\n",
       "        1.5,  1.5,  1.5,  1.5,  1.5,  1.5,  1.5,  1.5,  1.5,  1.5,  1.5,\n",
       "        1.5,  1.5,  1.5,  1.5,  1.5,  1.5,  1.5,  1.5,  1.5,  1.5,  1.5,\n",
       "        1.5,  1.5,  1.5,  1.5,  1.5,  1.5,  1.5,  1.5,  1.5,  1.5,  1.5,\n",
       "        1.5,  1.5,  1.5,  1.5,  1.5,  1.5,  1.5,  1.5,  1.5,  1.5,  1.5,\n",
       "        1.5,  1.5,  1.5,  1.5,  1.5,  1.5,  1.5,  1.5,  1.5,  1.5,  1.5,\n",
       "        1.5,  1.5,  1.5,  1.5,  1.5,  1.5,  1.5,  1.5,  1.5,  1.5,  1.5,\n",
       "        1.5,  1.5,  1.5,  1.5,  1.5,  1.5,  1.5,  1.5,  1.5,  1.5,  1.5,\n",
       "        1.5,  1.5,  1.5,  1.5,  1.5,  1.5,  1.5,  1.5,  1.5,  1.5,  1.5,\n",
       "        1.5,  1.5,  1.5,  1.5,  1.5,  1.5,  1.5,  1.5,  1.5,  1.5,  1.5,\n",
       "        1.5,  1.5,  1.5,  1.5,  1.5,  1.5,  1.5,  1.5,  1.5,  1.5,  1.5,\n",
       "        1.5,  1.5,  1.5,  1.5,  1.5,  1.5,  1.5,  1.5,  1.5,  1.5,  1.5,\n",
       "        1.5,  1.5,  1.5,  1.5,  1.5,  1.5,  1.5,  1.5,  1.5,  1.5,  1.5,\n",
       "        1.5,  1.5,  1.5,  1.5,  1.5,  1.5,  1.5,  1.5,  1.5,  1.5,  1.5,\n",
       "        1.5,  1.5,  1.5,  1.5,  1.5,  1.5,  1.5,  1.5,  1.5,  1.5,  1.5,\n",
       "        1.5,  1.5,  1.5,  1.5,  1.5,  1.5,  1.5,  1.5,  1.5,  1.5,  1.5,\n",
       "        1.5,  1.5,  1.5,  1.5,  1.5,  1.5,  1.5,  1.5,  1.5,  1.5,  1.5,\n",
       "        1.5,  1.5,  1.5,  1.5,  1.5,  1.5,  1.5,  1.5,  1.5,  1.5,  1.5,\n",
       "        1.5,  1.5,  1.5,  1.5,  1.5,  1.5,  1.5,  1.5,  1.5,  1.5,  1.5,\n",
       "        1.5,  1.5,  1.5,  1.5,  1.5,  1.5,  1.5,  1.5,  1.5,  1.5,  1.5,\n",
       "        1.5,  1.5,  1.5,  1.5,  1.5,  1.5,  1.5,  1.5,  1.5,  1.5,  1.5,\n",
       "        1.5,  1.5,  1.5,  1.5,  1.5,  1.5,  1.5,  1.5,  1.5,  1.5,  1.5,\n",
       "        1.5,  1.5,  1.5,  1.5,  1.5,  1.5,  1.5,  1.5,  1.5,  1.5,  1.5,\n",
       "        1.5,  1.5,  1.5,  1.5,  1.5])"
      ]
     },
     "execution_count": 119,
     "metadata": {},
     "output_type": "execute_result"
    }
   ],
   "source": [
    "np.array((X[:500, :].todense())).max(axis=1)"
   ]
  },
  {
   "cell_type": "code",
   "execution_count": 120,
   "metadata": {
    "collapsed": false,
    "scrolled": false
   },
   "outputs": [
    {
     "data": {
      "text/plain": [
       "(array([   0.,    0.,    0.,    0.,    0.,    0.,    0.,    0.,    0.,\n",
       "           0.,    0.,    0.,    0.,    0.,    0.,    0.,    0.,    0.,\n",
       "           0.,    0.,    0.,    0.,    0.,    0.,    0.,  500.,    0.,\n",
       "           0.,    0.,    0.,    0.,    0.,    0.,    0.,    0.,    0.,\n",
       "           0.,    0.,    0.,    0.,    0.,    0.,    0.,    0.,    0.,\n",
       "           0.,    0.,    0.,    0.,    0.]),\n",
       " array([ 1.  ,  1.02,  1.04,  1.06,  1.08,  1.1 ,  1.12,  1.14,  1.16,\n",
       "         1.18,  1.2 ,  1.22,  1.24,  1.26,  1.28,  1.3 ,  1.32,  1.34,\n",
       "         1.36,  1.38,  1.4 ,  1.42,  1.44,  1.46,  1.48,  1.5 ,  1.52,\n",
       "         1.54,  1.56,  1.58,  1.6 ,  1.62,  1.64,  1.66,  1.68,  1.7 ,\n",
       "         1.72,  1.74,  1.76,  1.78,  1.8 ,  1.82,  1.84,  1.86,  1.88,\n",
       "         1.9 ,  1.92,  1.94,  1.96,  1.98,  2.  ]),\n",
       " <a list of 50 Patch objects>)"
      ]
     },
     "execution_count": 120,
     "metadata": {},
     "output_type": "execute_result"
    },
    {
     "data": {
      "image/png": "[encoded data removed]",
      "text/plain": [
       "<matplotlib.figure.Figure at 0x3edcf748>"
      ]
     },
     "metadata": {},
     "output_type": "display_data"
    }
   ],
   "source": [
    "plt.hist(np.array((X[:500, :].todense())).max(axis=1), bins=50)"
   ]
  },
  {
   "cell_type": "code",
   "execution_count": 121,
   "metadata": {
    "collapsed": false
   },
   "outputs": [
    {
     "name": "stdout",
     "output_type": "stream",
     "text": [
      "Wall time: 21.6 s\n"
     ]
    }
   ],
   "source": [
    "%%time\n",
    "n = df_test.shape[0]\n",
    "m = len(c.viewkeys())\n",
    "X_submit = lil_matrix((n, m), dtype=X.dtype)\n",
    "for recipe in range(n):\n",
    "    weight = len(df_test.loc[recipe].ingredients)\n",
    "    for order, ingr in enumerate(df_test.loc[recipe].ingredients):\n",
    "        try:\n",
    "            X_submit[recipe, ingredients_index.index(ingr)] = 1 + 0.5 * (weight - order) / float(weight)\n",
    "        except ValueError:\n",
    "            pass"
   ]
  },
  {
   "cell_type": "code",
   "execution_count": 122,
   "metadata": {
    "collapsed": true
   },
   "outputs": [],
   "source": [
    "X_train, X_test, y_train, y_test = train_test_split(X, y, test_size=0.2)"
   ]
  },
  {
   "cell_type": "code",
   "execution_count": 131,
   "metadata": {
    "collapsed": false
   },
   "outputs": [
    {
     "name": "stdout",
     "output_type": "stream",
     "text": [
      "(0.5, 0.77699560025141423)\n",
      "(0.75, 0.77837837837837842)\n",
      "(1.0, 0.77800125707102452)\n",
      "(1.25, 0.77762413576367062)\n",
      "(1.5, 0.77774984286612192)\n",
      "(2.0, 0.77573852922690134)\n"
     ]
    }
   ],
   "source": [
    "learning_curve = []\n",
    "for C in [0.5, 0.75, 1.0, 1.25, 1.5, 2.0]:\n",
    "    clf = linear_model.LogisticRegression(C=C)\n",
    "    clf.fit(X_train, y_train)\n",
    "    learning_curve.append((C, clf.score(X_test, y_test)))\n",
    "    print(learning_curve[-1])"
   ]
  },
  {
   "cell_type": "code",
   "execution_count": 132,
   "metadata": {
    "collapsed": false
   },
   "outputs": [
    {
     "data": {
      "text/plain": [
       "<matplotlib.text.Text at 0x4244bd68>"
      ]
     },
     "execution_count": 132,
     "metadata": {},
     "output_type": "execute_result"
    },
    {
     "data": {
      "image/png": "[encoded data removed]",
      "text/plain": [
       "<matplotlib.figure.Figure at 0x4242d0b8>"
      ]
     },
     "metadata": {},
     "output_type": "display_data"
    }
   ],
   "source": [
    "plt.plot(np.array(learning_curve)[:, 0],\n",
    "         np.array(learning_curve)[:, 1])\n",
    "plt.xlabel(\"C parameter\")\n",
    "plt.ylabel(\"score\")"
   ]
  },
  {
   "cell_type": "code",
   "execution_count": 133,
   "metadata": {
    "collapsed": false
   },
   "outputs": [
    {
     "data": {
      "text/plain": [
       "0.75"
      ]
     },
     "execution_count": 133,
     "metadata": {},
     "output_type": "execute_result"
    }
   ],
   "source": [
    "np.array(learning_curve)[:, 0][np.array(learning_curve)[:, 1].argmax()]"
   ]
  },
  {
   "cell_type": "code",
   "execution_count": 134,
   "metadata": {
    "collapsed": true
   },
   "outputs": [],
   "source": [
    "clf = linear_model.LogisticRegression(C=0.75)\n",
    "clf.fit(X, y)\n",
    "y_submit = clf.predict(X_submit)\n",
    "write_submission(y_submit, \"submission_betterC_weighted.csv\")"
   ]
  },
  {
   "cell_type": "markdown",
   "metadata": {},
   "source": [
    "In summary, this doesn't work better than before. We'll have to find other improvements!"
   ]
  },
  {
   "cell_type": "markdown",
   "metadata": {},
   "source": [
    "## Looking at the misclassified data"
   ]
  },
  {
   "cell_type": "markdown",
   "metadata": {},
   "source": [
    "Let's look at some of the missclassified data. We can use the [confusion matrix](http://scikit-learn.org/stable/modules/model_evaluation.html) for this:"
   ]
  },
  {
   "cell_type": "code",
   "execution_count": 135,
   "metadata": {
    "collapsed": false
   },
   "outputs": [
    {
     "data": {
      "text/plain": [
       "array([[ 945,   18,    1,   14,    0,   11,  144,    9,    2,    1,    0,\n",
       "           0,    0,    0,   19,    1,    0,    0,    6,    4],\n",
       "       [   5, 3837,    5,   15,    5,   15,  122,   74,    9,   16,    4,\n",
       "           0,  111,    3,   80,    1,    8,    0,    2,    8],\n",
       "       [   0,   29,  590,    5,    0,    3,   20,   17,   46,    1,   12,\n",
       "           6,    3,    4,   13,    1,    0,    4,    0,    1],\n",
       "       [   6,   20,    2, 2849,    1,    0,   26,   33,    6,    2,   13,\n",
       "           1,    2,    0,   14,    5,    0,    2,   21,    0],\n",
       "       [   0,   25,    3,   12,  439,    1,   10,   14,    1,    5,    1,\n",
       "           0,    1,    2,    5,    1,    2,    0,    1,    3],\n",
       "       [  11,   36,    5,    5,    0,  618,  143,   78,    0,    3,    1,\n",
       "           0,    9,    2,   68,    2,    0,    0,    6,    2],\n",
       "       [  39,   91,    0,   10,    0,   24, 7407,   37,    2,    7,    3,\n",
       "           0,   11,    1,  179,    4,    8,    0,    6,    9],\n",
       "       [   4,   95,    7,    7,    2,   21,   82, 6156,    8,    1,    1,\n",
       "           0,   10,    6,   31,    3,    0,    1,    1,    2],\n",
       "       [   0,   24,   13,    9,    0,    0,   35,   16, 2456,    2,   25,\n",
       "          19,    4,    2,   12,   32,    0,   23,    1,    0],\n",
       "       [   2,  115,    1,   13,    1,    0,   38,    9,    0,  524,    1,\n",
       "           0,    2,    0,   71,    0,   23,    0,    0,    4],\n",
       "       [   2,    9,    7,   31,    1,    0,   10,   13,   58,    0, 1350,\n",
       "          41,    0,    3,    2,    8,    0,    4,    0,    0],\n",
       "       [   1,    6,    8,    4,    0,    1,   13,    7,   69,    0,   83,\n",
       "         611,    0,    2,    9,    6,    0,    5,    0,    0],\n",
       "       [   0,  146,    1,    1,    0,    6,   56,   24,    1,    5,    0,\n",
       "           0, 1266,    2,   36,    0,    0,    1,    0,    1],\n",
       "       [   0,   24,    2,    8,    1,    4,   20,   43,    1,    1,    0,\n",
       "           1,    1,  352,    8,    0,    0,    0,    0,    1],\n",
       "       [  11,  120,    5,   15,    0,   21,  383,   19,    5,   14,    1,\n",
       "           1,   10,    0, 2013,    4,    8,    0,    6,   10],\n",
       "       [   0,   21,    8,   96,    1,    0,   23,    6,   87,    0,    5,\n",
       "           5,    3,    1,    9, 1144,    1,   11,    0,    2],\n",
       "       [   4,   78,    0,    5,    3,    1,   25,    6,    2,   26,    1,\n",
       "           0,    0,    0,   54,    1,  456,    0,    2,    3],\n",
       "       [   0,    7,    2,    0,    0,    1,   10,    3,   47,    1,    2,\n",
       "           3,    0,    0,    5,   24,    0,  725,    0,    0],\n",
       "       [  11,    8,    0,   29,    1,    6,   29,   12,    0,    1,    0,\n",
       "           0,    1,    0,    8,    2,    0,    0,  712,    1],\n",
       "       [   3,   29,    2,    6,    1,    3,   45,    9,    0,    7,    1,\n",
       "           0,    2,    1,   43,    2,    5,    0,    1,  329]])"
      ]
     },
     "execution_count": 135,
     "metadata": {},
     "output_type": "execute_result"
    }
   ],
   "source": [
    "from sklearn.metrics import confusion_matrix\n",
    "confusion_matrix(y, clf.predict(X))"
   ]
  },
  {
   "cell_type": "markdown",
   "metadata": {},
   "source": [
    "We can visualize this better (inspired by [this example](http://scikit-learn.org/stable/auto_examples/model_selection/plot_confusion_matrix.html#example-model-selection-plot-confusion-matrix-py)):"
   ]
  },
  {
   "cell_type": "code",
   "execution_count": 144,
   "metadata": {
    "collapsed": false
   },
   "outputs": [
    {
     "data": {
      "image/png": "[encoded data removed]",
      "text/plain": [
       "<matplotlib.figure.Figure at 0x445830b8>"
      ]
     },
     "metadata": {},
     "output_type": "display_data"
    }
   ],
   "source": [
    "plt.figure(figsize=(10, 10))\n",
    "cm = confusion_matrix(y, clf.predict(X))\n",
    "cm_normalized = cm.astype('float') / cm.sum(axis=1)[:, np.newaxis]\n",
    "plt.imshow(cm_normalized, interpolation='nearest', cmap='hot')\n",
    "plt.title(\"confusion matrix\")\n",
    "plt.colorbar()\n",
    "tick_marks = np.arange(len(cuisines))\n",
    "plt.xticks(tick_marks, cuisines, rotation=45)\n",
    "plt.yticks(tick_marks, cuisines)\n",
    "plt.tight_layout()\n",
    "plt.ylabel('True label')\n",
    "plt.xlabel('Predicted label')\n",
    "plt.savefig('confusion_matrix.png', dpi=200)"
   ]
  },
  {
   "cell_type": "code",
   "execution_count": null,
   "metadata": {
    "collapsed": true
   },
   "outputs": [],
   "source": []
  }
 ],
 "metadata": {
  "kernelspec": {
   "display_name": "Python 2",
   "language": "python",
   "name": "python2"
  },
  "language_info": {
   "codemirror_mode": {
    "name": "ipython",
    "version": 2
   },
   "file_extension": ".py",
   "mimetype": "text/x-python",
   "name": "python",
   "nbconvert_exporter": "python",
   "pygments_lexer": "ipython2",
   "version": "2.7.8"
  }
 },
 "nbformat": 4,
 "nbformat_minor": 0
}
