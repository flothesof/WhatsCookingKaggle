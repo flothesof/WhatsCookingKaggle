{
 "cells": [
  {
   "cell_type": "markdown",
   "metadata": {},
   "source": [
    "In this follow-up notebook, I'll be working on a two-step classification for the what's cooking problem.\n",
    "\n",
    "As a first step, I want to know if it is possible to reliably separate French and Italian cuisine."
   ]
  },
  {
   "cell_type": "code",
   "execution_count": 1,
   "metadata": {
    "collapsed": true
   },
   "outputs": [],
   "source": [
    "# necessary imports\n",
    "import matplotlib.pyplot as plt\n",
    "import numpy as np\n",
    "import pandas as pd\n",
    "%matplotlib inline"
   ]
  },
  {
   "cell_type": "markdown",
   "metadata": {},
   "source": [
    "Let's read the input file."
   ]
  },
  {
   "cell_type": "code",
   "execution_count": 2,
   "metadata": {
    "collapsed": true
   },
   "outputs": [],
   "source": [
    "df = pd.read_json(\"train.json\")"
   ]
  },
  {
   "cell_type": "markdown",
   "metadata": {},
   "source": [
    "Now, we will select only the data we want to train on."
   ]
  },
  {
   "cell_type": "code",
   "execution_count": 5,
   "metadata": {
    "collapsed": true
   },
   "outputs": [],
   "source": [
    "cuisines = [u'italian', u'french']"
   ]
  },
  {
   "cell_type": "code",
   "execution_count": 6,
   "metadata": {
    "collapsed": false
   },
   "outputs": [
    {
     "data": {
      "text/html": [
       "<div style=\"max-height:1000px;max-width:1500px;overflow:auto;\">\n",
       "<table border=\"1\" class=\"dataframe\">\n",
       "  <thead>\n",
       "    <tr style=\"text-align: right;\">\n",
       "      <th></th>\n",
       "      <th>cuisine</th>\n",
       "      <th>id</th>\n",
       "      <th>ingredients</th>\n",
       "    </tr>\n",
       "  </thead>\n",
       "  <tbody>\n",
       "    <tr>\n",
       "      <th>7    </th>\n",
       "      <td> italian</td>\n",
       "      <td>  3735</td>\n",
       "      <td> [sugar, pistachio nuts, white almond bark, flo...</td>\n",
       "    </tr>\n",
       "    <tr>\n",
       "      <th>9    </th>\n",
       "      <td> italian</td>\n",
       "      <td> 12734</td>\n",
       "      <td> [chopped tomatoes, fresh basil, garlic, extra-...</td>\n",
       "    </tr>\n",
       "    <tr>\n",
       "      <th>10   </th>\n",
       "      <td> italian</td>\n",
       "      <td>  5875</td>\n",
       "      <td> [pimentos, sweet pepper, dried oregano, olive ...</td>\n",
       "    </tr>\n",
       "    <tr>\n",
       "      <th>12   </th>\n",
       "      <td> italian</td>\n",
       "      <td>  2698</td>\n",
       "      <td> [Italian parsley leaves, walnuts, hot red pepp...</td>\n",
       "    </tr>\n",
       "    <tr>\n",
       "      <th>14   </th>\n",
       "      <td> italian</td>\n",
       "      <td> 31908</td>\n",
       "      <td> [fresh parmesan cheese, butter, all-purpose fl...</td>\n",
       "    </tr>\n",
       "    <tr>\n",
       "      <th>17   </th>\n",
       "      <td> italian</td>\n",
       "      <td>  1420</td>\n",
       "      <td> [italian seasoning, broiler-fryer chicken, may...</td>\n",
       "    </tr>\n",
       "    <tr>\n",
       "      <th>24   </th>\n",
       "      <td> italian</td>\n",
       "      <td> 49136</td>\n",
       "      <td> [marinara sauce, flat leaf parsley, olive oil,...</td>\n",
       "    </tr>\n",
       "    <tr>\n",
       "      <th>27   </th>\n",
       "      <td> italian</td>\n",
       "      <td> 22087</td>\n",
       "      <td> [ground black pepper, butter, sliced mushrooms...</td>\n",
       "    </tr>\n",
       "    <tr>\n",
       "      <th>30   </th>\n",
       "      <td> italian</td>\n",
       "      <td> 40429</td>\n",
       "      <td> [yellow corn meal, boiling water, butter, fres...</td>\n",
       "    </tr>\n",
       "    <tr>\n",
       "      <th>34   </th>\n",
       "      <td> italian</td>\n",
       "      <td> 39250</td>\n",
       "      <td> [olive oil, onions, crushed garlic, dried oreg...</td>\n",
       "    </tr>\n",
       "    <tr>\n",
       "      <th>36   </th>\n",
       "      <td> italian</td>\n",
       "      <td> 20051</td>\n",
       "      <td> [olive oil, bread slices, great northern beans...</td>\n",
       "    </tr>\n",
       "    <tr>\n",
       "      <th>40   </th>\n",
       "      <td> italian</td>\n",
       "      <td> 28302</td>\n",
       "      <td> [Oscar Mayer Deli Fresh Smoked Ham, hoagie rol...</td>\n",
       "    </tr>\n",
       "    <tr>\n",
       "      <th>46   </th>\n",
       "      <td>  french</td>\n",
       "      <td> 18515</td>\n",
       "      <td> [sugar, salt, fennel bulb, water, lemon olive ...</td>\n",
       "    </tr>\n",
       "    <tr>\n",
       "      <th>52   </th>\n",
       "      <td> italian</td>\n",
       "      <td> 35930</td>\n",
       "      <td> [fresh basil, bay leaves, crushed red pepper, ...</td>\n",
       "    </tr>\n",
       "    <tr>\n",
       "      <th>54   </th>\n",
       "      <td> italian</td>\n",
       "      <td> 31119</td>\n",
       "      <td>        [lemon, pesto, salmon fillets, white wine]</td>\n",
       "    </tr>\n",
       "    <tr>\n",
       "      <th>58   </th>\n",
       "      <td> italian</td>\n",
       "      <td>  2646</td>\n",
       "      <td> [pizza crust, plum tomatoes, pesto, part-skim ...</td>\n",
       "    </tr>\n",
       "    <tr>\n",
       "      <th>64   </th>\n",
       "      <td> italian</td>\n",
       "      <td>    70</td>\n",
       "      <td> [crushed tomatoes, garlic, fresh rosemary, gro...</td>\n",
       "    </tr>\n",
       "    <tr>\n",
       "      <th>67   </th>\n",
       "      <td>  french</td>\n",
       "      <td>   275</td>\n",
       "      <td> [vanilla, milk, large egg yolks, sugar, corn s...</td>\n",
       "    </tr>\n",
       "    <tr>\n",
       "      <th>68   </th>\n",
       "      <td>  french</td>\n",
       "      <td> 43769</td>\n",
       "      <td> [orange juice concentrate, pumpkin purée, mars...</td>\n",
       "    </tr>\n",
       "    <tr>\n",
       "      <th>73   </th>\n",
       "      <td> italian</td>\n",
       "      <td> 24568</td>\n",
       "      <td> [tomatoes, red pepper, olive oil, Italian brea...</td>\n",
       "    </tr>\n",
       "    <tr>\n",
       "      <th>74   </th>\n",
       "      <td> italian</td>\n",
       "      <td>  8820</td>\n",
       "      <td> [sausage casings, ground black pepper, garlic,...</td>\n",
       "    </tr>\n",
       "    <tr>\n",
       "      <th>82   </th>\n",
       "      <td>  french</td>\n",
       "      <td>  6886</td>\n",
       "      <td> [Madeira, foie gras, demi-glace, sherry vinega...</td>\n",
       "    </tr>\n",
       "    <tr>\n",
       "      <th>85   </th>\n",
       "      <td> italian</td>\n",
       "      <td> 38254</td>\n",
       "      <td> [spinach, asiago, whole wheat pasta, olive oil...</td>\n",
       "    </tr>\n",
       "    <tr>\n",
       "      <th>86   </th>\n",
       "      <td> italian</td>\n",
       "      <td> 41596</td>\n",
       "      <td> [chestnuts, granulated sugar, whole milk ricot...</td>\n",
       "    </tr>\n",
       "    <tr>\n",
       "      <th>90   </th>\n",
       "      <td> italian</td>\n",
       "      <td> 31831</td>\n",
       "      <td>    [salt, starchy potatoes, grated nutmeg, flour]</td>\n",
       "    </tr>\n",
       "    <tr>\n",
       "      <th>98   </th>\n",
       "      <td> italian</td>\n",
       "      <td>  8753</td>\n",
       "      <td> [olive oil, olives, salt, blood orange, freshl...</td>\n",
       "    </tr>\n",
       "    <tr>\n",
       "      <th>99   </th>\n",
       "      <td> italian</td>\n",
       "      <td> 37337</td>\n",
       "      <td> [balsamic vinegar, low salt chicken broth, dij...</td>\n",
       "    </tr>\n",
       "    <tr>\n",
       "      <th>100  </th>\n",
       "      <td> italian</td>\n",
       "      <td> 17636</td>\n",
       "      <td> [tomato sauce, shredded carrots, spinach, part...</td>\n",
       "    </tr>\n",
       "    <tr>\n",
       "      <th>102  </th>\n",
       "      <td> italian</td>\n",
       "      <td> 28851</td>\n",
       "      <td> [cheddar cheese, lasagna noodles, pepper, ranc...</td>\n",
       "    </tr>\n",
       "    <tr>\n",
       "      <th>119  </th>\n",
       "      <td> italian</td>\n",
       "      <td>  8321</td>\n",
       "      <td> [olive oil, freshly ground pepper, fresh rosem...</td>\n",
       "    </tr>\n",
       "    <tr>\n",
       "      <th>...</th>\n",
       "      <td>...</td>\n",
       "      <td>...</td>\n",
       "      <td>...</td>\n",
       "    </tr>\n",
       "    <tr>\n",
       "      <th>39644</th>\n",
       "      <td> italian</td>\n",
       "      <td> 48002</td>\n",
       "      <td> [brie cheese, strawberries, fresh basil leaves...</td>\n",
       "    </tr>\n",
       "    <tr>\n",
       "      <th>39649</th>\n",
       "      <td> italian</td>\n",
       "      <td> 21691</td>\n",
       "      <td> [olive oil, portabello mushroom, Belgian endiv...</td>\n",
       "    </tr>\n",
       "    <tr>\n",
       "      <th>39655</th>\n",
       "      <td> italian</td>\n",
       "      <td> 36903</td>\n",
       "      <td> [sea salt, chunky, basil leaves, extra-virgin ...</td>\n",
       "    </tr>\n",
       "    <tr>\n",
       "      <th>39670</th>\n",
       "      <td> italian</td>\n",
       "      <td> 35838</td>\n",
       "      <td> [fresh mozzarella, fresh parsley leaves, part-...</td>\n",
       "    </tr>\n",
       "    <tr>\n",
       "      <th>39674</th>\n",
       "      <td> italian</td>\n",
       "      <td> 42724</td>\n",
       "      <td> [bread, sugar, milk, grated parmesan cheese, s...</td>\n",
       "    </tr>\n",
       "    <tr>\n",
       "      <th>39675</th>\n",
       "      <td>  french</td>\n",
       "      <td>   105</td>\n",
       "      <td> [toasted pecans, bourbon whiskey, golden brown...</td>\n",
       "    </tr>\n",
       "    <tr>\n",
       "      <th>39679</th>\n",
       "      <td>  french</td>\n",
       "      <td> 16673</td>\n",
       "      <td> [pecans, unsalted butter, bourbon whiskey, wat...</td>\n",
       "    </tr>\n",
       "    <tr>\n",
       "      <th>39683</th>\n",
       "      <td> italian</td>\n",
       "      <td> 15550</td>\n",
       "      <td> [tomatoes, fresh parmesan cheese, garlic, fat ...</td>\n",
       "    </tr>\n",
       "    <tr>\n",
       "      <th>39688</th>\n",
       "      <td> italian</td>\n",
       "      <td> 45985</td>\n",
       "      <td> [sausage casings, red pepper flakes, dried ore...</td>\n",
       "    </tr>\n",
       "    <tr>\n",
       "      <th>39694</th>\n",
       "      <td> italian</td>\n",
       "      <td> 32778</td>\n",
       "      <td> [olive oil, warm water, salt, sugar, corn oil,...</td>\n",
       "    </tr>\n",
       "    <tr>\n",
       "      <th>39700</th>\n",
       "      <td>  french</td>\n",
       "      <td> 45255</td>\n",
       "      <td> [semolina flour, sea salt, active dry yeast, g...</td>\n",
       "    </tr>\n",
       "    <tr>\n",
       "      <th>39702</th>\n",
       "      <td> italian</td>\n",
       "      <td> 24930</td>\n",
       "      <td> [italian sausage, grated parmesan cheese, spag...</td>\n",
       "    </tr>\n",
       "    <tr>\n",
       "      <th>39703</th>\n",
       "      <td>  french</td>\n",
       "      <td> 15271</td>\n",
       "      <td> [unsalted shelled pistachio, large egg whites,...</td>\n",
       "    </tr>\n",
       "    <tr>\n",
       "      <th>39705</th>\n",
       "      <td>  french</td>\n",
       "      <td> 44512</td>\n",
       "      <td> [instant espresso powder, confectioners sugar,...</td>\n",
       "    </tr>\n",
       "    <tr>\n",
       "      <th>39708</th>\n",
       "      <td> italian</td>\n",
       "      <td> 39328</td>\n",
       "      <td> [romano cheese, garlic powder, garlic, pork me...</td>\n",
       "    </tr>\n",
       "    <tr>\n",
       "      <th>39710</th>\n",
       "      <td> italian</td>\n",
       "      <td> 19201</td>\n",
       "      <td> [bottled clam juice, olive oil, dry white wine...</td>\n",
       "    </tr>\n",
       "    <tr>\n",
       "      <th>39713</th>\n",
       "      <td> italian</td>\n",
       "      <td> 46216</td>\n",
       "      <td> [milk, parmigiano reggiano cheese, freshly gro...</td>\n",
       "    </tr>\n",
       "    <tr>\n",
       "      <th>39718</th>\n",
       "      <td> italian</td>\n",
       "      <td>  3614</td>\n",
       "      <td> [spinach, purple onion, french bread, plum tom...</td>\n",
       "    </tr>\n",
       "    <tr>\n",
       "      <th>39722</th>\n",
       "      <td> italian</td>\n",
       "      <td> 37564</td>\n",
       "      <td> [heavy cream, fresh lemon juice, parmigiano re...</td>\n",
       "    </tr>\n",
       "    <tr>\n",
       "      <th>39728</th>\n",
       "      <td>  french</td>\n",
       "      <td>  8279</td>\n",
       "      <td>               [french bread, dried basil, butter]</td>\n",
       "    </tr>\n",
       "    <tr>\n",
       "      <th>39732</th>\n",
       "      <td> italian</td>\n",
       "      <td> 28291</td>\n",
       "      <td> [ricotta cheese, eggs, salt, baby spinach, gra...</td>\n",
       "    </tr>\n",
       "    <tr>\n",
       "      <th>39736</th>\n",
       "      <td>  french</td>\n",
       "      <td> 39166</td>\n",
       "      <td> [shallots, thyme sprigs, bay leaf, cabernet sa...</td>\n",
       "    </tr>\n",
       "    <tr>\n",
       "      <th>39740</th>\n",
       "      <td> italian</td>\n",
       "      <td>  6744</td>\n",
       "      <td> [tomatoes, sea salt, dried red chile peppers, ...</td>\n",
       "    </tr>\n",
       "    <tr>\n",
       "      <th>39741</th>\n",
       "      <td> italian</td>\n",
       "      <td> 10115</td>\n",
       "      <td> [basil, zucchini, olive oil flavored cooking s...</td>\n",
       "    </tr>\n",
       "    <tr>\n",
       "      <th>39743</th>\n",
       "      <td> italian</td>\n",
       "      <td> 45025</td>\n",
       "      <td> [dried basil, diced tomatoes, dried parsley, s...</td>\n",
       "    </tr>\n",
       "    <tr>\n",
       "      <th>39748</th>\n",
       "      <td> italian</td>\n",
       "      <td>  9526</td>\n",
       "      <td> [sea salt, pizza doughs, all-purpose flour, co...</td>\n",
       "    </tr>\n",
       "    <tr>\n",
       "      <th>39753</th>\n",
       "      <td> italian</td>\n",
       "      <td> 33294</td>\n",
       "      <td> [rosemary sprigs, lemon zest, garlic cloves, g...</td>\n",
       "    </tr>\n",
       "    <tr>\n",
       "      <th>39763</th>\n",
       "      <td> italian</td>\n",
       "      <td> 44798</td>\n",
       "      <td> [fettuccine pasta, low-fat cream cheese, garli...</td>\n",
       "    </tr>\n",
       "    <tr>\n",
       "      <th>39767</th>\n",
       "      <td> italian</td>\n",
       "      <td> 24348</td>\n",
       "      <td> [low-fat sour cream, grated parmesan cheese, s...</td>\n",
       "    </tr>\n",
       "    <tr>\n",
       "      <th>39770</th>\n",
       "      <td> italian</td>\n",
       "      <td> 11462</td>\n",
       "      <td> [KRAFT Zesty Italian Dressing, purple onion, b...</td>\n",
       "    </tr>\n",
       "  </tbody>\n",
       "</table>\n",
       "<p>10484 rows × 3 columns</p>\n",
       "</div>"
      ],
      "text/plain": [
       "       cuisine     id                                        ingredients\n",
       "7      italian   3735  [sugar, pistachio nuts, white almond bark, flo...\n",
       "9      italian  12734  [chopped tomatoes, fresh basil, garlic, extra-...\n",
       "10     italian   5875  [pimentos, sweet pepper, dried oregano, olive ...\n",
       "12     italian   2698  [Italian parsley leaves, walnuts, hot red pepp...\n",
       "14     italian  31908  [fresh parmesan cheese, butter, all-purpose fl...\n",
       "17     italian   1420  [italian seasoning, broiler-fryer chicken, may...\n",
       "24     italian  49136  [marinara sauce, flat leaf parsley, olive oil,...\n",
       "27     italian  22087  [ground black pepper, butter, sliced mushrooms...\n",
       "30     italian  40429  [yellow corn meal, boiling water, butter, fres...\n",
       "34     italian  39250  [olive oil, onions, crushed garlic, dried oreg...\n",
       "36     italian  20051  [olive oil, bread slices, great northern beans...\n",
       "40     italian  28302  [Oscar Mayer Deli Fresh Smoked Ham, hoagie rol...\n",
       "46      french  18515  [sugar, salt, fennel bulb, water, lemon olive ...\n",
       "52     italian  35930  [fresh basil, bay leaves, crushed red pepper, ...\n",
       "54     italian  31119         [lemon, pesto, salmon fillets, white wine]\n",
       "58     italian   2646  [pizza crust, plum tomatoes, pesto, part-skim ...\n",
       "64     italian     70  [crushed tomatoes, garlic, fresh rosemary, gro...\n",
       "67      french    275  [vanilla, milk, large egg yolks, sugar, corn s...\n",
       "68      french  43769  [orange juice concentrate, pumpkin purée, mars...\n",
       "73     italian  24568  [tomatoes, red pepper, olive oil, Italian brea...\n",
       "74     italian   8820  [sausage casings, ground black pepper, garlic,...\n",
       "82      french   6886  [Madeira, foie gras, demi-glace, sherry vinega...\n",
       "85     italian  38254  [spinach, asiago, whole wheat pasta, olive oil...\n",
       "86     italian  41596  [chestnuts, granulated sugar, whole milk ricot...\n",
       "90     italian  31831     [salt, starchy potatoes, grated nutmeg, flour]\n",
       "98     italian   8753  [olive oil, olives, salt, blood orange, freshl...\n",
       "99     italian  37337  [balsamic vinegar, low salt chicken broth, dij...\n",
       "100    italian  17636  [tomato sauce, shredded carrots, spinach, part...\n",
       "102    italian  28851  [cheddar cheese, lasagna noodles, pepper, ranc...\n",
       "119    italian   8321  [olive oil, freshly ground pepper, fresh rosem...\n",
       "...        ...    ...                                                ...\n",
       "39644  italian  48002  [brie cheese, strawberries, fresh basil leaves...\n",
       "39649  italian  21691  [olive oil, portabello mushroom, Belgian endiv...\n",
       "39655  italian  36903  [sea salt, chunky, basil leaves, extra-virgin ...\n",
       "39670  italian  35838  [fresh mozzarella, fresh parsley leaves, part-...\n",
       "39674  italian  42724  [bread, sugar, milk, grated parmesan cheese, s...\n",
       "39675   french    105  [toasted pecans, bourbon whiskey, golden brown...\n",
       "39679   french  16673  [pecans, unsalted butter, bourbon whiskey, wat...\n",
       "39683  italian  15550  [tomatoes, fresh parmesan cheese, garlic, fat ...\n",
       "39688  italian  45985  [sausage casings, red pepper flakes, dried ore...\n",
       "39694  italian  32778  [olive oil, warm water, salt, sugar, corn oil,...\n",
       "39700   french  45255  [semolina flour, sea salt, active dry yeast, g...\n",
       "39702  italian  24930  [italian sausage, grated parmesan cheese, spag...\n",
       "39703   french  15271  [unsalted shelled pistachio, large egg whites,...\n",
       "39705   french  44512  [instant espresso powder, confectioners sugar,...\n",
       "39708  italian  39328  [romano cheese, garlic powder, garlic, pork me...\n",
       "39710  italian  19201  [bottled clam juice, olive oil, dry white wine...\n",
       "39713  italian  46216  [milk, parmigiano reggiano cheese, freshly gro...\n",
       "39718  italian   3614  [spinach, purple onion, french bread, plum tom...\n",
       "39722  italian  37564  [heavy cream, fresh lemon juice, parmigiano re...\n",
       "39728   french   8279                [french bread, dried basil, butter]\n",
       "39732  italian  28291  [ricotta cheese, eggs, salt, baby spinach, gra...\n",
       "39736   french  39166  [shallots, thyme sprigs, bay leaf, cabernet sa...\n",
       "39740  italian   6744  [tomatoes, sea salt, dried red chile peppers, ...\n",
       "39741  italian  10115  [basil, zucchini, olive oil flavored cooking s...\n",
       "39743  italian  45025  [dried basil, diced tomatoes, dried parsley, s...\n",
       "39748  italian   9526  [sea salt, pizza doughs, all-purpose flour, co...\n",
       "39753  italian  33294  [rosemary sprigs, lemon zest, garlic cloves, g...\n",
       "39763  italian  44798  [fettuccine pasta, low-fat cream cheese, garli...\n",
       "39767  italian  24348  [low-fat sour cream, grated parmesan cheese, s...\n",
       "39770  italian  11462  [KRAFT Zesty Italian Dressing, purple onion, b...\n",
       "\n",
       "[10484 rows x 3 columns]"
      ]
     },
     "execution_count": 6,
     "metadata": {},
     "output_type": "execute_result"
    }
   ],
   "source": [
    "df_train = df[df.cuisine.isin(cuisines)]\n",
    "df_train"
   ]
  },
  {
   "cell_type": "markdown",
   "metadata": {},
   "source": [
    "Let's build our feature matrix from that, as well as the expected output."
   ]
  },
  {
   "cell_type": "markdown",
   "metadata": {},
   "source": [
    "First, we build the ingredient index:"
   ]
  },
  {
   "cell_type": "code",
   "execution_count": 7,
   "metadata": {
    "collapsed": true
   },
   "outputs": [],
   "source": [
    "from collections import Counter\n",
    "c = Counter(\";\".join([\";\".join(_) for _ in df_train.ingredients.values]).split(\";\"))\n",
    "ingredients_index = list(c.viewkeys())"
   ]
  },
  {
   "cell_type": "markdown",
   "metadata": {},
   "source": [
    "Then the `X_train` matrix, as well as `y_train`."
   ]
  },
  {
   "cell_type": "code",
   "execution_count": 25,
   "metadata": {
    "collapsed": true
   },
   "outputs": [],
   "source": [
    "from scipy.sparse import lil_matrix"
   ]
  },
  {
   "cell_type": "code",
   "execution_count": 26,
   "metadata": {
    "collapsed": false
   },
   "outputs": [
    {
     "name": "stdout",
     "output_type": "stream",
     "text": [
      "Wall time: 8.65 s\n"
     ]
    }
   ],
   "source": [
    "%%time\n",
    "n = df_train.shape[0]\n",
    "m = len(ingredients_index)\n",
    "X_train = lil_matrix((n, m), dtype=np.int)\n",
    "y_train = np.zeros(n, dtype=np.int)\n",
    "recipe = 0\n",
    "for index, row in df_train.iterrows():\n",
    "    y_train[recipe] = cuisines.index(row['cuisine'])\n",
    "    for ingr in row['ingredients']:\n",
    "        X_train[recipe, ingredients_index.index(ingr)] = 1\n",
    "    recipe += 1"
   ]
  },
  {
   "cell_type": "markdown",
   "metadata": {},
   "source": [
    "Now, we can build a classifier using a logistic regression and see what score we can obtain."
   ]
  },
  {
   "cell_type": "code",
   "execution_count": 28,
   "metadata": {
    "collapsed": false
   },
   "outputs": [
    {
     "name": "stdout",
     "output_type": "stream",
     "text": [
      "LogisticRegression score: 0.937905\n"
     ]
    }
   ],
   "source": [
    "from sklearn import linear_model\n",
    "clf = linear_model.LogisticRegression()\n",
    "clf.fit(X_train, y_train)\n",
    "print('LogisticRegression score: %f'\n",
    "      % clf.score(X_train, y_train))"
   ]
  },
  {
   "cell_type": "markdown",
   "metadata": {},
   "source": [
    "Let's see if we can optimize this result by better regularization."
   ]
  },
  {
   "cell_type": "code",
   "execution_count": 46,
   "metadata": {
    "collapsed": true
   },
   "outputs": [],
   "source": [
    "from sklearn.cross_validation import train_test_split\n",
    "\n",
    "X_split_train, X_split_test, y_split_train, y_split_test = train_test_split(X_train, y_train, test_size=0.2)"
   ]
  },
  {
   "cell_type": "code",
   "execution_count": 47,
   "metadata": {
    "collapsed": false
   },
   "outputs": [
    {
     "name": "stdout",
     "output_type": "stream",
     "text": [
      "(0.05, 0.86504530281354319)\n",
      "(0.1, 0.87792083929422982)\n",
      "(0.2, 0.88841201716738194)\n",
      "(0.3, 0.88793514544587504)\n",
      "(0.4, 0.89079637577491655)\n",
      "(0.5, 0.89365760610395806)\n",
      "(0.7, 0.89508822126847876)\n",
      "(0.8, 0.89651883643299957)\n",
      "(0.9, 0.89699570815450647)\n",
      "(1.0, 0.89604196471149256)\n",
      "(1.1, 0.89461134954697186)\n",
      "(1.2, 0.89556509298998566)\n",
      "(1.3, 0.89556509298998566)\n",
      "(1.4, 0.89604196471149256)\n",
      "(1.5, 0.89651883643299957)\n",
      "(2.0, 0.89508822126847876)\n",
      "(2.5, 0.89318073438245116)\n",
      "(3.0, 0.89318073438245116)\n",
      "(3.5, 0.89270386266094426)\n",
      "(4.0, 0.89175011921793035)\n",
      "(5.0, 0.89222699093943725)\n",
      "(10.0, 0.89175011921793035)\n"
     ]
    }
   ],
   "source": [
    "learning_curve = []\n",
    "for C in [0.05, 0.1, 0.2, 0.3, 0.4, 0.5, 0.7, 0.8, 0.9, 1.0, 1.1, 1.2, 1.3, 1.4, 1.5, 2.0, 2.5, 3.0, 3.5, 4.0, 5.0, 10.]:\n",
    "    clf = linear_model.LogisticRegression(C=C)\n",
    "    clf.fit(X_split_train, y_split_train)\n",
    "    learning_curve.append((C, clf.score(X_split_test, y_split_test)))\n",
    "    print(learning_curve[-1])"
   ]
  },
  {
   "cell_type": "code",
   "execution_count": 48,
   "metadata": {
    "collapsed": false
   },
   "outputs": [
    {
     "data": {
      "text/plain": [
       "<matplotlib.text.Text at 0x2394c390>"
      ]
     },
     "execution_count": 48,
     "metadata": {},
     "output_type": "execute_result"
    },
    {
     "data": {
      "image/png": "[encoded data removed]",
      "text/plain": [
       "<matplotlib.figure.Figure at 0x2397f588>"
      ]
     },
     "metadata": {},
     "output_type": "display_data"
    }
   ],
   "source": [
    "plt.plot(np.array(learning_curve)[:, 0],\n",
    "        np.array(learning_curve)[:, 1])\n",
    "plt.xlabel(\"C parameter\")\n",
    "plt.ylabel(\"score\")"
   ]
  },
  {
   "cell_type": "markdown",
   "metadata": {},
   "source": [
    "We see that in fact the whole training set gives better results than the split set. As expected in fact. But it's already better than what we get when working with the whole dataset."
   ]
  },
  {
   "cell_type": "code",
   "execution_count": null,
   "metadata": {
    "collapsed": true
   },
   "outputs": [],
   "source": []
  }
 ],
 "metadata": {
  "kernelspec": {
   "display_name": "Python 2",
   "language": "python",
   "name": "python2"
  },
  "language_info": {
   "codemirror_mode": {
    "name": "ipython",
    "version": 2
   },
   "file_extension": ".py",
   "mimetype": "text/x-python",
   "name": "python",
   "nbconvert_exporter": "python",
   "pygments_lexer": "ipython2",
   "version": "2.7.8"
  }
 },
 "nbformat": 4,
 "nbformat_minor": 0
}
