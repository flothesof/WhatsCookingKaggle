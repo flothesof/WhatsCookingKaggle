{
 "cells": [
  {
   "cell_type": "code",
   "execution_count": 1,
   "metadata": {
    "collapsed": true
   },
   "outputs": [],
   "source": [
    "import pandas as pd"
   ]
  },
  {
   "cell_type": "code",
   "execution_count": 2,
   "metadata": {
    "collapsed": true
   },
   "outputs": [],
   "source": [
    "df = pd.read_json('train.json')"
   ]
  },
  {
   "cell_type": "code",
   "execution_count": 48,
   "metadata": {
    "collapsed": true
   },
   "outputs": [],
   "source": [
    "df['ingredient_string'] = pd.Series([\";\".join(ingr) for ingr in df['ingredients']])"
   ]
  },
  {
   "cell_type": "markdown",
   "metadata": {},
   "source": [
    "Features bauen:"
   ]
  },
  {
   "cell_type": "code",
   "execution_count": 3,
   "metadata": {
    "collapsed": true
   },
   "outputs": [],
   "source": [
    "import sklearn"
   ]
  },
  {
   "cell_type": "code",
   "execution_count": 4,
   "metadata": {
    "collapsed": false
   },
   "outputs": [],
   "source": [
    "from sklearn.feature_extraction.text import CountVectorizer\n",
    "cv = CountVectorizer(token_pattern=r\"(?u)\\b\\w[\\w\\s]+\\b\")\n",
    "X = cv.fit_transform([\";\".join(_) for _ in df.ingredients])"
   ]
  },
  {
   "cell_type": "code",
   "execution_count": 5,
   "metadata": {
    "collapsed": false
   },
   "outputs": [
    {
     "data": {
      "text/plain": [
       "['romaine lettuce',\n",
       " 'black olives',\n",
       " 'grape tomatoes',\n",
       " 'garlic',\n",
       " 'pepper',\n",
       " 'purple onion',\n",
       " 'seasoning',\n",
       " 'garbanzo beans',\n",
       " 'feta cheese crumbles']"
      ]
     },
     "execution_count": 5,
     "metadata": {},
     "output_type": "execute_result"
    }
   ],
   "source": [
    "df.ingredients.loc[0]"
   ]
  },
  {
   "cell_type": "code",
   "execution_count": 6,
   "metadata": {
    "collapsed": false
   },
   "outputs": [],
   "source": [
    "recipe = \";\".join(['romaine lettuce',\n",
    " 'black olives',\n",
    " 'grape tomatoes',\n",
    " 'garlic',\n",
    " 'pepper',\n",
    " 'purple onion',\n",
    " 'seasoning',\n",
    " 'garbanzo beans',\n",
    " 'feta cheese crumbles'])"
   ]
  },
  {
   "cell_type": "code",
   "execution_count": 7,
   "metadata": {
    "collapsed": false
   },
   "outputs": [
    {
     "data": {
      "text/plain": [
       "<1x6815 sparse matrix of type '<class 'numpy.int64'>'\n",
       "\twith 9 stored elements in Compressed Sparse Row format>"
      ]
     },
     "execution_count": 7,
     "metadata": {},
     "output_type": "execute_result"
    }
   ],
   "source": [
    "cv.transform([recipe])"
   ]
  },
  {
   "cell_type": "code",
   "execution_count": 8,
   "metadata": {
    "collapsed": true
   },
   "outputs": [],
   "source": [
    "import matplotlib.pyplot as plt"
   ]
  },
  {
   "cell_type": "code",
   "execution_count": 9,
   "metadata": {
    "collapsed": true
   },
   "outputs": [],
   "source": [
    "%matplotlib inline"
   ]
  },
  {
   "cell_type": "code",
   "execution_count": 10,
   "metadata": {
    "collapsed": false
   },
   "outputs": [
    {
     "data": {
      "text/plain": [
       "<matplotlib.image.AxesImage at 0x10e60b5f8>"
      ]
     },
     "execution_count": 10,
     "metadata": {},
     "output_type": "execute_result"
    },
    {
     "data": {
      "image/png": "[encoded data removed]",
      "text/plain": [
       "<matplotlib.figure.Figure at 0x10e555518>"
      ]
     },
     "metadata": {},
     "output_type": "display_data"
    }
   ],
   "source": [
    "plt.matshow(cv.transform([recipe]).toarray())"
   ]
  },
  {
   "cell_type": "code",
   "execution_count": 15,
   "metadata": {
    "collapsed": false
   },
   "outputs": [
    {
     "data": {
      "text/plain": [
       "<matplotlib.colorbar.Colorbar at 0x10eed0e10>"
      ]
     },
     "execution_count": 15,
     "metadata": {},
     "output_type": "execute_result"
    },
    {
     "name": "stderr",
     "output_type": "stream",
     "text": [
      "/Users/kappamaki/anaconda/lib/python3.4/site-packages/matplotlib/collections.py:590: FutureWarning: elementwise comparison failed; returning scalar instead, but in the future will perform elementwise comparison\n",
      "  if self._edgecolors == str('face'):\n"
     ]
    },
    {
     "data": {
      "image/png": "[encoded data removed]",
      "text/plain": [
       "<matplotlib.figure.Figure at 0x10ed95a20>"
      ]
     },
     "metadata": {},
     "output_type": "display_data"
    }
   ],
   "source": [
    "plt.imshow(X.toarray()[::10, ::], aspect='auto', interpolation='nearest')\n",
    "plt.colorbar()"
   ]
  },
  {
   "cell_type": "code",
   "execution_count": 21,
   "metadata": {
    "collapsed": true
   },
   "outputs": [],
   "source": [
    "import numpy as np"
   ]
  },
  {
   "cell_type": "code",
   "execution_count": 27,
   "metadata": {
    "collapsed": false
   },
   "outputs": [
    {
     "data": {
      "text/plain": [
       "array([  2,   5,   3, ...,  29, 892,   2], dtype=int64)"
      ]
     },
     "execution_count": 27,
     "metadata": {},
     "output_type": "execute_result"
    }
   ],
   "source": [
    "np.array(X.sum(axis=0)).ravel()"
   ]
  },
  {
   "cell_type": "code",
   "execution_count": 32,
   "metadata": {
    "collapsed": false
   },
   "outputs": [
    {
     "data": {
      "text/plain": [
       "[<matplotlib.lines.Line2D at 0x3d4155320>]"
      ]
     },
     "execution_count": 32,
     "metadata": {},
     "output_type": "execute_result"
    },
    {
     "data": {
      "image/png": "[encoded data removed]",
      "text/plain": [
       "<matplotlib.figure.Figure at 0x3d27f91d0>"
      ]
     },
     "metadata": {},
     "output_type": "display_data"
    }
   ],
   "source": [
    "counts = np.array(X.sum(axis=0)).ravel()\n",
    "counts.sort()\n",
    "plt.semilogy(counts)"
   ]
  },
  {
   "cell_type": "code",
   "execution_count": 43,
   "metadata": {
    "collapsed": false
   },
   "outputs": [],
   "source": [
    "non_sorted_count = np.array(X.sum(axis=0)).ravel()\n",
    "ingredient_counts = [(ingredient, non_sorted_count[cv.vocabulary_[ingredient]]) \\\n",
    "             for ingredient in cv.vocabulary_]"
   ]
  },
  {
   "cell_type": "code",
   "execution_count": 44,
   "metadata": {
    "collapsed": true
   },
   "outputs": [],
   "source": [
    "ingredient_counts.sort(key=lambda s: s[1])"
   ]
  },
  {
   "cell_type": "code",
   "execution_count": 45,
   "metadata": {
    "collapsed": false
   },
   "outputs": [
    {
     "data": {
      "text/plain": [
       "[('skinless and boneless chicken breast fillet', 1),\n",
       " ('toasted nuts', 1),\n",
       " ('low fat part skim ricotta chees', 1),\n",
       " ('wild asparagus', 1),\n",
       " ('chicken flavored rice', 1),\n",
       " ('butternut', 1),\n",
       " ('skippy creamy peanut butter', 1),\n",
       " ('jumbo macaroni shells', 1),\n",
       " ('conimex woksaus specials vietnamese gember knoflook', 1),\n",
       " ('chive blossoms', 1),\n",
       " ('duck sauce', 1),\n",
       " ('tuscan sausage', 1),\n",
       " ('legumes', 1),\n",
       " ('water chestnut powder', 1),\n",
       " ('pastry tart shell', 1),\n",
       " ('sumac powder', 1),\n",
       " ('whole wheat pasta shells', 1),\n",
       " ('cold', 1),\n",
       " ('old fashioned stone ground grits', 1),\n",
       " ('guanabana', 1),\n",
       " ('an', 1),\n",
       " ('cabbage lettuce', 1),\n",
       " ('free pie crust', 1),\n",
       " ('ground hazelnuts', 1),\n",
       " ('coleslaw dressing', 1),\n",
       " ('imitation seafood', 1),\n",
       " ('vanilla glaze', 1),\n",
       " ('shell clams', 1),\n",
       " ('kraft mexican style 2', 1),\n",
       " ('home originals', 1),\n",
       " ('low sodium parmesan cheese', 1),\n",
       " ('flower petals', 1),\n",
       " ('medium whole wheat tortillas', 1),\n",
       " ('store bought low sodium vegetable stock', 1),\n",
       " ('salmon caviar', 1),\n",
       " ('butter salt', 1),\n",
       " ('chile con queso', 1),\n",
       " ('potato nuggets', 1),\n",
       " ('soft cheese', 1),\n",
       " ('liverwurst', 1),\n",
       " ('beluga lentil', 1),\n",
       " ('knorr cilantro minicub', 1),\n",
       " ('ketjap', 1),\n",
       " ('natural sweetener', 1),\n",
       " ('johnsonville andouille dinner sausage', 1),\n",
       " ('whole wheat orzo', 1),\n",
       " ('fresh flounder fillets', 1),\n",
       " ('shredded american cheese', 1),\n",
       " ('instant chicken bouillon granules', 1),\n",
       " ('made pie crusts', 1),\n",
       " ('earth balance natural buttery spread', 1),\n",
       " ('low fat mild italian turkey sausage', 1),\n",
       " ('organic soy sauce', 1),\n",
       " ('india pale ale', 1),\n",
       " ('fuji apples', 1),\n",
       " ('organic buttermilk', 1),\n",
       " ('mantou', 1),\n",
       " ('sheepshead', 1),\n",
       " ('rape', 1),\n",
       " ('boneless skinless turkey breasts', 1),\n",
       " ('chocolate graham crackers', 1),\n",
       " ('yogurt low fat', 1),\n",
       " ('redfish fillet', 1),\n",
       " ('dark soi sauc', 1),\n",
       " ('cheese curds', 1),\n",
       " ('cubed pancetta', 1),\n",
       " ('praline', 1),\n",
       " ('herbsaint', 1),\n",
       " ('free oyster sauce', 1),\n",
       " ('ornamental kale', 1),\n",
       " ('steak tips', 1),\n",
       " ('madeleine', 1),\n",
       " ('whole wheat bread cubes', 1),\n",
       " ('sugar in the raw', 1),\n",
       " ('kim chee', 1),\n",
       " ('seasoned croutons', 1),\n",
       " ('demi baguette', 1),\n",
       " ('sugarcane juice', 1),\n",
       " ('dulong', 1),\n",
       " ('branston pickle', 1),\n",
       " ('jimmy dean pork sausage', 1),\n",
       " ('adobo all purpose seasoning', 1),\n",
       " ('frozen sweetened raspberries', 1),\n",
       " ('sourdough rolls', 1),\n",
       " ('foccacia', 1),\n",
       " ('orange pekoe tea', 1),\n",
       " ('yam bean', 1),\n",
       " ('boneless pork tenderloin', 1),\n",
       " ('salted roasted pecans', 1),\n",
       " ('boned skinned duck breast halves', 1),\n",
       " ('linguisa', 1),\n",
       " ('darjeeling tea leaves', 1),\n",
       " ('jonshonville', 1),\n",
       " ('speck', 1),\n",
       " ('robert mondavi fume blanc', 1),\n",
       " ('wondra', 1),\n",
       " ('mian', 1),\n",
       " ('tuttorosso diced tomatoes', 1),\n",
       " ('burro banana', 1),\n",
       " ('standing rib roast', 1),\n",
       " ('aleppo', 1),\n",
       " ('plain seltzer', 1),\n",
       " ('indian flat bread', 1),\n",
       " ('chicken flavor bouillon powder', 1),\n",
       " ('purple grapes', 1),\n",
       " ('crushed pistachio', 1),\n",
       " ('winesap', 1),\n",
       " ('raspberry sherbet', 1),\n",
       " ('melissa', 1),\n",
       " ('knorr beef stock cubes', 1),\n",
       " ('whole turkey', 1),\n",
       " ('fruitcake', 1),\n",
       " ('paprika paste', 1),\n",
       " ('saffron road vegetable broth', 1),\n",
       " ('rising white cornmeal mix', 1),\n",
       " ('crème de framboise', 1),\n",
       " ('light kidney beans', 1),\n",
       " ('liver sausage', 1),\n",
       " ('prune puree', 1),\n",
       " ('irish oats', 1),\n",
       " ('matzo cake meal', 1),\n",
       " ('side pork', 1),\n",
       " ('gravlax', 1),\n",
       " ('cream of tomato soup', 1),\n",
       " ('less sodium cooked ham', 1),\n",
       " ('frozen mashed potatoes', 1),\n",
       " ('skinless boneless turkey breast halves', 1),\n",
       " ('vegetable gumbo mixture', 1),\n",
       " ('sodium free chicken stock', 1),\n",
       " ('matcha', 1),\n",
       " ('yam noodles', 1),\n",
       " ('blueberri preserv', 1),\n",
       " ('smoked eel', 1),\n",
       " ('spicy ranch dressing', 1),\n",
       " ('sweet pickle juice', 1),\n",
       " ('egg roll skins', 1),\n",
       " ('whole wheat submarine loaves', 1),\n",
       " ('fiber one', 1),\n",
       " ('leftover meat', 1),\n",
       " ('hots', 1),\n",
       " ('langoustines', 1),\n",
       " ('katsuo dashi', 1),\n",
       " ('habanero powder', 1),\n",
       " ('progresso artichoke hearts', 1),\n",
       " ('dried apple rings', 1),\n",
       " ('mooli', 1),\n",
       " ('waffle fries', 1),\n",
       " ('flora original', 1),\n",
       " ('snow crab', 1),\n",
       " ('knorr parslei minicub', 1),\n",
       " ('cholesterol free egg substitute', 1),\n",
       " ('pike', 1),\n",
       " ('vanilla almondmilk', 1),\n",
       " ('vegetarian protein crumbles', 1),\n",
       " ('cake mix or white yellow', 1),\n",
       " ('refrigerated bread dough', 1),\n",
       " ('mo qua', 1),\n",
       " ('mazola canola oil', 1),\n",
       " ('ragu golden veggie fettuccine pasta', 1),\n",
       " ('teff', 1),\n",
       " ('chocolate ice cream mix', 1),\n",
       " ('kingfish', 1),\n",
       " ('truffle butter', 1),\n",
       " ('semi sweet mini chocolate chips', 1),\n",
       " ('low sodium canned chicken broth', 1),\n",
       " ('makers mark whisky', 1),\n",
       " ('spiny lobsters', 1),\n",
       " ('chinese pea pods', 1),\n",
       " ('fat canned coconut milk', 1),\n",
       " ('do chua', 1),\n",
       " ('bulb fennel', 1),\n",
       " ('salted anchovies', 1),\n",
       " ('tangelos', 1),\n",
       " ('sweet turkey sausage', 1),\n",
       " ('meat fats', 1),\n",
       " ('chuck short ribs', 1),\n",
       " ('guava paste', 1),\n",
       " ('roasted garlic oil', 1),\n",
       " ('plain chocolate', 1),\n",
       " ('long pasta', 1),\n",
       " ('tangzhong roux', 1),\n",
       " ('jimmy dean all natural regular pork sausage', 1),\n",
       " ('haricot beans', 1),\n",
       " ('non dairy sour cream', 1),\n",
       " ('baby goat', 1),\n",
       " ('wheat crackers', 1),\n",
       " ('shark steak', 1),\n",
       " ('creole seafood seasoning', 1),\n",
       " ('toasts', 1),\n",
       " ('chicken heart', 1),\n",
       " ('mccormick taco seasoning', 1),\n",
       " ('chestnut flour', 1),\n",
       " ('regular chicken broth', 1),\n",
       " ('cajun style chicken sausage', 1),\n",
       " ('cross rib roast', 1),\n",
       " ('ammonium bicarbonate', 1),\n",
       " ('sports drink', 1),\n",
       " ('apple schnapps', 1),\n",
       " ('hen', 1),\n",
       " ('cold coffee', 1),\n",
       " ('dry jack', 1),\n",
       " ('dark chocolate cocoa powder', 1),\n",
       " ('pineapple syrup', 1),\n",
       " ('italian meatballs', 1),\n",
       " ('pork loin rib chops', 1),\n",
       " ('chocolate candy', 1),\n",
       " ('creamed spinach', 1),\n",
       " ('lowfat plain greekstyl yogurt', 1),\n",
       " ('sorghum molasses', 1),\n",
       " ('bottled balsamic vinaigrette', 1),\n",
       " ('savoy cabbage leaves', 1),\n",
       " ('goat milk feta', 1),\n",
       " ('barramundi fillets', 1),\n",
       " ('barbecue seasoning', 1),\n",
       " ('kippered herring fillets', 1),\n",
       " ('low sodium tomato', 1),\n",
       " ('instant chicken bouillon', 1),\n",
       " ('flowering chinese chives', 1),\n",
       " ('chile piquin', 1),\n",
       " ('glucose syrup', 1),\n",
       " ('japanese radish', 1),\n",
       " ('mild sausage', 1),\n",
       " ('clam sauce', 1),\n",
       " ('lean chuck roast', 1),\n",
       " ('bertolli tomato', 1),\n",
       " ('greek 100 blackberry pie yogurt', 1),\n",
       " ('orange glaze', 1),\n",
       " ('skinned boned duck breast halves', 1),\n",
       " ('dried chipotle pepper', 1),\n",
       " ('tapatio hot sauce', 1),\n",
       " ('pure wesson canola oil', 1),\n",
       " ('veri veri teriyaki', 1),\n",
       " ('pandan essence', 1),\n",
       " ('grain alcohol', 1),\n",
       " ('fat tartar sauce', 1),\n",
       " ('red anjou pears', 1),\n",
       " ('raspberry lambic', 1),\n",
       " ('puff paste', 1),\n",
       " ('style seasoning', 1),\n",
       " ('soy marinade', 1),\n",
       " ('knorr fish stock cubes', 1),\n",
       " ('genoise', 1),\n",
       " ('soup pasta', 1),\n",
       " ('high gluten bread flour', 1),\n",
       " ('vegetable slaw', 1),\n",
       " ('sherbet', 1),\n",
       " ('candied chestnuts', 1),\n",
       " ('fine grain salt', 1),\n",
       " ('sliced beets', 1),\n",
       " ('seasoning rub', 1),\n",
       " ('raw buckwheat groats', 1),\n",
       " ('vegetable soup', 1),\n",
       " ('red vinegar white white', 1),\n",
       " ('knorr pasta side', 1),\n",
       " ('goma', 1),\n",
       " ('lillet', 1),\n",
       " ('avocado dressing', 1),\n",
       " ('val', 1),\n",
       " ('low sodium fat free vegetable broth', 1),\n",
       " ('toulouse sausage', 1),\n",
       " ('hellmannâ', 1),\n",
       " ('low fat shred cheddar chees sharp varieti', 1),\n",
       " ('ascorbic acid', 1),\n",
       " ('au jus gravy', 1),\n",
       " ('marshmallow vodka', 1),\n",
       " ('crushed peppercorn', 1),\n",
       " ('pancake batter', 1),\n",
       " ('cara cara orange', 1),\n",
       " ('dried tagliatelle', 1),\n",
       " ('unsweetened dried coconut', 1),\n",
       " ('unhulled sesame seeds', 1),\n",
       " ('brown rice penne', 1),\n",
       " ('jose cuervo gold tequila', 1),\n",
       " ('wholesome sweeteners organic sugar', 1),\n",
       " ('masur dal', 1),\n",
       " ('oscar mayer cotto salami', 1),\n",
       " ('sato imo', 1),\n",
       " ('hoagi or roll', 1),\n",
       " ('frozen mini ravioli', 1),\n",
       " ('crouton italian season', 1),\n",
       " ('chourico', 1),\n",
       " ('breadcrumb mix', 1),\n",
       " ('american cheese food', 1),\n",
       " ('chinese jujubes', 1),\n",
       " ('heirloom squash', 1),\n",
       " ('pure wesson vegetable oil', 1),\n",
       " ('spice islands bay leaves', 1),\n",
       " ('cooking salt', 1),\n",
       " ('chocolate fudge ice cream', 1),\n",
       " ('culinary lavender', 1),\n",
       " ('karo corn syrup', 1),\n",
       " ('meat loaf mixture', 1),\n",
       " ('bean curd stick', 1),\n",
       " ('watermelon radishes', 1),\n",
       " ('garland chrysanthemum', 1),\n",
       " ('edible gold leaf', 1),\n",
       " ('blackberry brandy', 1),\n",
       " ('table syrup', 1),\n",
       " ('usukuchi soy sauce', 1),\n",
       " ('longan', 1),\n",
       " ('turkey salami', 1),\n",
       " ('table wine', 1),\n",
       " ('red velvet cake mix', 1),\n",
       " ('maca powder', 1),\n",
       " ('banh hoi', 1),\n",
       " ('herb cheese', 1),\n",
       " ('sesame butter', 1),\n",
       " ('ragu pizza quick sauc', 1),\n",
       " ('imitation vanilla flavoring', 1),\n",
       " ('ngo gai', 1),\n",
       " ('smoked mozzarella', 1),\n",
       " ('chuck tender', 1),\n",
       " ('liquorice', 1),\n",
       " ('bourbon liqueur', 1),\n",
       " ('yellowtail snapper fillets', 1),\n",
       " ('delallo extra virgin olive oil', 1),\n",
       " ('coconut chips', 1),\n",
       " ('marrons glacés', 1),\n",
       " ('pam cooking spray', 1),\n",
       " ('vodka sauce', 1),\n",
       " ('portuguese rolls', 1),\n",
       " ('dasheen', 1),\n",
       " ('tuaca', 1),\n",
       " ('whole wheat tortilla wraps', 1),\n",
       " ('pork sausage links', 1),\n",
       " ('fat parmesan cheese', 1),\n",
       " ('chocolate liqueur', 1),\n",
       " ('back ribs', 1),\n",
       " ('whole garam masala', 1),\n",
       " ('flora pro', 1),\n",
       " ('poppy seed filling', 1),\n",
       " ('kampyo', 1),\n",
       " ('muscovy', 1),\n",
       " ('baking sugar', 1),\n",
       " ('cured meats', 1),\n",
       " ('angled loofah', 1),\n",
       " ('chopmeat', 1),\n",
       " ('mentaiko', 1),\n",
       " ('carnation condensed milk', 1),\n",
       " ('chocolate graham cracker crumbs', 1),\n",
       " ('hijiki', 1),\n",
       " ('sunflower seed butter', 1),\n",
       " ('fideos pasta', 1),\n",
       " ('homemade meatballs', 1),\n",
       " ('raspberry fruit spread', 1),\n",
       " ('beef stew seasoning mix', 1),\n",
       " ('budweiser', 1),\n",
       " ('argo corn starch', 1),\n",
       " ('nonfat italian dressing', 1),\n",
       " ('whole wheat cereal', 1),\n",
       " ('broccoli romanesco', 1),\n",
       " ('brill', 1),\n",
       " ('klondike rose red skin potato', 1),\n",
       " ('blanco chees queso', 1),\n",
       " ('osetra caviar', 1),\n",
       " ('red drum', 1),\n",
       " ('chinese hot mustard', 1),\n",
       " ('seasoned panko bread crumbs', 1),\n",
       " ('spice islands garlic salt', 1),\n",
       " ('dark ale', 1),\n",
       " ('reduced sodium canned chicken broth', 1),\n",
       " ('free broth', 1),\n",
       " ('heinz ketchup', 1),\n",
       " ('low fat cheddar chees', 1),\n",
       " ('chambord liqueur', 1),\n",
       " ('chicken and rice soup', 1),\n",
       " ('cactus', 1),\n",
       " ('chilcostle chile', 1),\n",
       " ('granary bread', 1),\n",
       " ('pain au levain', 1),\n",
       " ('crystal farms shredded gouda cheese', 1),\n",
       " ('hyssop', 1),\n",
       " ('creamy gravy', 1),\n",
       " ('tuong', 1),\n",
       " ('crusty whole wheat toast', 1),\n",
       " ('lotus seed paste', 1),\n",
       " ('small potatoes', 1),\n",
       " ('food gel', 1),\n",
       " ('chapatti flour', 1),\n",
       " ('rins and pat dry', 1),\n",
       " ('knorr italian side   creami garlic shell', 1),\n",
       " ('meat drippings', 1),\n",
       " ('jamaican jerk marinade', 1),\n",
       " ('graham flour', 1),\n",
       " ('chinese red vinegar', 1),\n",
       " ('duck drippings', 1),\n",
       " ('mandarin juice', 1),\n",
       " ('herb', 1),\n",
       " ('reduced sodium condensed cream of chicken soup', 1),\n",
       " ('lemon verbena', 1),\n",
       " ('rub seasoning', 1),\n",
       " ('sparkling rosé wine', 1),\n",
       " ('sweet white wine', 1),\n",
       " ('st germain liqueur', 1),\n",
       " ('hoja santa', 1),\n",
       " ('chinese celery cabbage', 1),\n",
       " ('rose hip tea bags', 1),\n",
       " ('basil sauce', 1),\n",
       " ('taiwanese bok choy', 1),\n",
       " ('meat seasoning', 1),\n",
       " ('creamer potatoes', 1),\n",
       " ('seafood base', 1),\n",
       " ('tea cake', 1),\n",
       " ('longaniza', 1),\n",
       " ('smoked hog jowl', 1),\n",
       " ('havarti', 1),\n",
       " ('ramen noodle soup', 1),\n",
       " ('tamari almonds', 1),\n",
       " ('chocolate drink', 1),\n",
       " ('holland house white wine vinegar', 1),\n",
       " ('habas', 1),\n",
       " ('peach salsa', 1),\n",
       " ('dried barberries', 1),\n",
       " ('protein powder', 1),\n",
       " ('fruit juice', 1),\n",
       " ('low fat cream of celery soup', 1),\n",
       " ('vanilla custard', 1),\n",
       " ('ragu sauce', 1),\n",
       " ('san marzano crushed tomatoes', 1),\n",
       " ('garlic naan', 1),\n",
       " ('shoulder steak', 1),\n",
       " ('light margarine', 1),\n",
       " ('herb dressing', 1),\n",
       " ('orange soda', 1),\n",
       " ('salt free cajun creole seasoning', 1),\n",
       " ('bone light asian sesame ginger vinaigrette dressing', 1),\n",
       " ('ranch', 1),\n",
       " ('english breakfast tea bags', 1),\n",
       " ('mint syrup', 1),\n",
       " ('refrigerated chocolate chip cookie dough', 1),\n",
       " ('brownie layer', 1),\n",
       " ('mountain dew soda', 1),\n",
       " ('fat firm silken tofu', 1),\n",
       " ('goose liver', 1),\n",
       " ('ceci bean', 1),\n",
       " ('vegan chicken flavored bouillon', 1),\n",
       " ('nam prik', 1),\n",
       " ('monterey jack cheese', 1),\n",
       " ('raw milk', 1),\n",
       " ('condensed cream of broccoli soup', 1),\n",
       " ('white tuna', 1),\n",
       " ('cavenders greek seasoning', 1),\n",
       " ('vegeta seasoning', 1),\n",
       " ('reduced sodium refried beans', 1),\n",
       " ('cod roe', 1),\n",
       " ('agar agar flakes', 1),\n",
       " ('honey graham crackers', 1),\n",
       " ('preshred low fat mozzarella chees', 1),\n",
       " ('liquid egg substitute', 1),\n",
       " ('evapor low', 1),\n",
       " ('baked corn tortilla chips', 1),\n",
       " ('mission yellow corn tortillas', 1),\n",
       " ('banana bread', 1),\n",
       " ('popcorn chicken', 1),\n",
       " ('spicy breakfast links', 1),\n",
       " ('fresh dates', 1),\n",
       " ('milk chocolate pieces', 1),\n",
       " ('granulated tapioca', 1),\n",
       " ('pâte brisée', 1),\n",
       " ('cashew milk', 1),\n",
       " ('crystal farms', 1),\n",
       " ('crosswise', 1),\n",
       " ('whole wheat sandwich bread', 1),\n",
       " ('boneless duck breast halves', 1),\n",
       " ('camellia red kidney beans', 1),\n",
       " ('raw prawn', 1),\n",
       " ('daiya', 1),\n",
       " ('galliano', 1),\n",
       " ('sesame seeds buns', 1),\n",
       " ('white grapefruit juice', 1),\n",
       " ('greek seasoning mix', 1),\n",
       " ('strawberry yogurt', 1),\n",
       " ('pork picnic roast', 1),\n",
       " ('dhaniya powder', 1),\n",
       " ('maifun', 1),\n",
       " ('bigoli', 1),\n",
       " ('asian black bean sauce', 1),\n",
       " ('mae ploy sweet chili sauce', 1),\n",
       " ('chinese radish', 1),\n",
       " ('filé', 1),\n",
       " ('nonfat vanilla yogurt', 1),\n",
       " ('candied citron peel', 1),\n",
       " ('anise liqueur', 1),\n",
       " ('vegetable fats', 1),\n",
       " ('beef carpaccio', 1),\n",
       " ('dried allspice berries', 1),\n",
       " ('whole grain thin spaghetti', 1),\n",
       " ('fully cooked luncheon meat', 1),\n",
       " ('tupelo honey', 1),\n",
       " ('bacon rind', 1),\n",
       " ('kraft mayonnaise', 1),\n",
       " ('italian rolls', 1),\n",
       " ('gluten free lasagna noodle', 1),\n",
       " ('hibiscus tea', 1),\n",
       " ('shredded bamboo', 1),\n",
       " ('pork sausage casing', 1),\n",
       " ('candied bacon', 1),\n",
       " ('blueberry pie filling', 1),\n",
       " ('beef cheek', 1),\n",
       " ('grain penne pasta', 1),\n",
       " ('instant butterscotch pudding mix', 1),\n",
       " ('black bean sauce with garlic', 1),\n",
       " ('butterscotch filling', 1),\n",
       " ('mild red enchilada sauce', 1),\n",
       " ('whole wheat pita bread rounds', 1),\n",
       " ('crabapples', 1),\n",
       " ('jamaican jerk rub', 1),\n",
       " ('asian', 1),\n",
       " ('water crackers', 1),\n",
       " ('green giant', 1),\n",
       " ('ciabatta loaf', 1),\n",
       " ('jerk rub seasoning', 1),\n",
       " ('pekin duck breast halves', 1),\n",
       " ('black bean stir fry sauce', 1),\n",
       " ('custard dessert mix', 1),\n",
       " ('roasted chili paste', 1),\n",
       " ('egg pasta', 1),\n",
       " ('fat bottled italian dressing', 1),\n",
       " ('baobab fruit powder', 1),\n",
       " ('activ', 1),\n",
       " ('chinese duck sauce', 1),\n",
       " ('azuki bean', 1),\n",
       " ('sour stir fry sauce', 1),\n",
       " ('calorie sucralose sweetener', 1),\n",
       " ('king crab', 1),\n",
       " ('nian gao', 1),\n",
       " ('chicken salad', 1),\n",
       " ('low fat chunky mushroom pasta sauce', 1),\n",
       " ('chateaubriand', 1),\n",
       " ('ragu traditional sauce', 1),\n",
       " ('lipton recip secret golden onion soup mix', 1),\n",
       " ('grilled chicken strips', 1),\n",
       " ('citrus vinaigrette', 1),\n",
       " ('dark turkey meat', 1),\n",
       " ('pink salt', 1),\n",
       " ('bone light country italian dressing', 1),\n",
       " ('topside steak', 1),\n",
       " ('frozen potatoes', 1),\n",
       " ('fat free ham', 1),\n",
       " ('greek style seasoning', 1),\n",
       " ('mezzetta sliced greek kalamata olives', 1),\n",
       " ('fermented bean curd', 1),\n",
       " ('cucuzza', 1),\n",
       " ('poured fondant', 1),\n",
       " ('mozzarella string cheese', 1),\n",
       " ('fat white sauce', 1),\n",
       " ('saba', 1),\n",
       " ('orange roughy fillet', 1),\n",
       " ('ti leaves', 1),\n",
       " ('hickory', 1),\n",
       " ('icing mix', 1),\n",
       " ('green bellpepper', 1),\n",
       " ('butter flavor vegetable shortening', 1),\n",
       " ('loose leaf black tea', 1),\n",
       " ('barley flakes', 1),\n",
       " ('swiss', 1),\n",
       " ('kippers', 1),\n",
       " ('mushroom broth', 1),\n",
       " ('dash seasoning mix', 1),\n",
       " ('sandwich steak', 1),\n",
       " ('unsalted beef stock', 1),\n",
       " ('dandelion', 1),\n",
       " ('candied jalapeno', 1),\n",
       " ('soft margarine', 1),\n",
       " ('bertolli organic tradit sauc', 1),\n",
       " ('pillsbury pie crusts', 1),\n",
       " ('sodium reduced chicken broth', 1),\n",
       " ('dri fruit tropic', 1),\n",
       " ('peapods', 1),\n",
       " ('milkfat low fat cottage cheese', 1),\n",
       " ('frozen fruit', 1),\n",
       " ('tonic water', 1),\n",
       " ('sirloin tip steak', 1),\n",
       " ('cake pound prepar', 1),\n",
       " ('ground poppy seed', 1),\n",
       " ('beer batter', 1),\n",
       " ('diced mushrooms', 1),\n",
       " ('salted roasted almonds', 1),\n",
       " ('turkey hot dogs', 1),\n",
       " ('kim crawford sauvignon blanc', 1),\n",
       " ('knorr homestyl stock   beef', 1),\n",
       " ('moose', 1),\n",
       " ('jamon serrano', 1),\n",
       " ('pansies', 1),\n",
       " ('italian style rolls', 1),\n",
       " ('passover wine', 1),\n",
       " ('buttermilk self', 1),\n",
       " ('cream powder', 1),\n",
       " ('meat extract', 1),\n",
       " ('milk chocolate kisses', 1),\n",
       " ('sliced mango', 1),\n",
       " ('red chard', 1),\n",
       " ('shaved chocolate', 1),\n",
       " ('tater tots', 1),\n",
       " ('creole spice mix', 1),\n",
       " ('prune juice', 1),\n",
       " ('garden cress', 1),\n",
       " ('ricard', 1),\n",
       " ('dried mango', 1),\n",
       " ('pink lentil', 1),\n",
       " ('shrimp chips', 1),\n",
       " ('chartreuse liqueur', 1),\n",
       " ('crumpet', 1),\n",
       " ('dark chicken stock', 1),\n",
       " ('gebhardt chili powder', 1),\n",
       " ('trimmed beef flank steak', 1),\n",
       " ('less sodium fat free chicken broth', 1),\n",
       " ('superfine white sugar', 1),\n",
       " ('korean buckwheat noodles', 1),\n",
       " ('pork shanks', 1),\n",
       " ('lapsang souchong', 1),\n",
       " ('whole wheat pita pockets', 1),\n",
       " ('calabrese sausage', 1),\n",
       " ('dole seven lettuces', 1),\n",
       " ('mixers margarita mix', 1),\n",
       " ('brown beech mushrooms', 1),\n",
       " ('coconut syrup', 1),\n",
       " ('sichuan peppercorn oil', 1),\n",
       " ('dried lavender flowers', 1),\n",
       " ('kroger black beans', 1),\n",
       " ('ragu old world style tradit pasta sauc', 1),\n",
       " ('better than bouillon chicken base', 1),\n",
       " ('country crock honey spread', 1),\n",
       " ('fillet of beef', 1),\n",
       " ('lamb leg steaks', 1),\n",
       " ('asian sweet chili sauce', 1),\n",
       " ('neapolitan ice cream', 1),\n",
       " ('swanson vegetable broth', 1),\n",
       " ('low sodium jarred chicken soup base', 1),\n",
       " ('gourmet garden oregano', 1),\n",
       " ('green cauliflower', 1),\n",
       " ('prosciutto fat', 1),\n",
       " ('oatmeal cookie mix', 1),\n",
       " ('scones', 1),\n",
       " ('cardoons', 1),\n",
       " ('whole wheat sourdough bread', 1),\n",
       " ('black cherries', 1),\n",
       " ('abbamele', 1),\n",
       " ('clementine juice', 1),\n",
       " ('banana puree', 1),\n",
       " ('knudsen light sour cream', 1),\n",
       " ('red currants', 1),\n",
       " ('america', 1),\n",
       " ('jamaican jerk', 1),\n",
       " ('atlantic cod fillets', 1),\n",
       " ('huckleberries', 1),\n",
       " ('blood sausage', 1),\n",
       " ('spice islands', 1),\n",
       " ('classic pizza crust', 1),\n",
       " ('shortbread', 1),\n",
       " ('unsweetened baking chocolate', 1),\n",
       " ('warm buns', 1),\n",
       " ('zatarains creole seasoning', 1),\n",
       " ('arrow root', 1),\n",
       " ('old bay blackened seasoning', 1),\n",
       " ('instant tea powder', 1),\n",
       " ('new mexico red chile powder', 1),\n",
       " ('petits pois', 1),\n",
       " ('cinnamon graham crackers', 1),\n",
       " ('tuaca liqueur', 1),\n",
       " ('knudsen sour cream', 1),\n",
       " ('whole wheat seasoned breadcrumbs', 1),\n",
       " ('umeboshi plum vinegar', 1),\n",
       " ('chicken pan drippings', 1),\n",
       " ('beef shin', 1),\n",
       " ('hot', 1),\n",
       " ('seasoned ground turkey', 1),\n",
       " ('instant banana cream pudding', 1),\n",
       " ('spice islands ground cumin seed', 1),\n",
       " ('greek black olives', 1),\n",
       " ('egg beaters', 1),\n",
       " ('everglades seasoning', 1),\n",
       " ('raki', 1),\n",
       " ('aquavit', 1),\n",
       " ('tip steak', 1),\n",
       " ('framboise liqueur', 1),\n",
       " ('no salt added canned tomatoes', 1),\n",
       " ('swanson chicken stock', 1),\n",
       " ('store', 1),\n",
       " ('long green pepper', 1),\n",
       " ('filipino eggplant', 1),\n",
       " ('in ribeye steak', 1),\n",
       " ('smoked rashers', 1),\n",
       " ('crystal farms reduced fat shredded marble jack cheese', 1),\n",
       " ('empanada wrappers', 1),\n",
       " ('opo squash', 1),\n",
       " ('dragon fruit', 1),\n",
       " ('angus', 1),\n",
       " ('cereal', 1),\n",
       " ('oat milk', 1),\n",
       " ('date sugar', 1),\n",
       " ('peaches in syrup', 1),\n",
       " ('meyer lemon peel', 1),\n",
       " ('estancia pinot noir', 1),\n",
       " ('lambrusco', 1),\n",
       " ('baby beets', 1),\n",
       " ('mccormick', 1),\n",
       " ('kochu chang', 1),\n",
       " ('new mexico chile pods', 1),\n",
       " ('strawberry gelatin', 1),\n",
       " ('less sodium reduced fat ham', 1),\n",
       " ('one third less sodium chicken broth', 1),\n",
       " ('lipton green tea bag', 1),\n",
       " ('acai juice', 1),\n",
       " ('frankfurters', 1),\n",
       " ('cracked wheat', 1),\n",
       " ('orange blossom extract', 1),\n",
       " ('whole wheat bread flour', 1),\n",
       " ('chocolate frosting', 1),\n",
       " ('green soybeans', 1),\n",
       " ('gluten free vanilla extract', 1),\n",
       " ('amber rum', 1),\n",
       " ('calabash', 1),\n",
       " ('harusame', 1),\n",
       " ('eye steaks', 1),\n",
       " ('reduced fat reduced sodium tomato and herb pasta sauce', 1),\n",
       " ('frozen seafood', 1),\n",
       " ('petrale sole', 1),\n",
       " ('tart crust', 1),\n",
       " ('curly leaf spinach', 1),\n",
       " ('v8 juice', 1),\n",
       " ('reposado', 1),\n",
       " ('chocolate milk', 1),\n",
       " ('superior', 1),\n",
       " ('mashed cauliflower', 1),\n",
       " ('flaked oats', 1),\n",
       " ('large snails', 1),\n",
       " ('canned chicken breast', 1),\n",
       " ('filled tortellini', 1),\n",
       " ('old el paso green chiles', 1),\n",
       " ('satsuma juice', 1),\n",
       " ('date molasses', 1),\n",
       " ('tongue', 1),\n",
       " ('vegan yogurt', 1),\n",
       " ('spicy salami', 1),\n",
       " ('scape pesto', 1),\n",
       " ('spicy mayonnaise', 1),\n",
       " ('cream yogurt', 1),\n",
       " ('ciabatta buns', 1),\n",
       " ('dried oysters', 1),\n",
       " ('orange flavored brandy', 1),\n",
       " ('conchiglie', 1),\n",
       " ('peach vodka', 1),\n",
       " ('unsweetened iced tea', 1),\n",
       " ('mellow white miso', 1),\n",
       " ('organic low sodium chicken broth', 1),\n",
       " ('chocolate sticks', 1),\n",
       " ('ginseng tea', 1),\n",
       " ('vanilla bean seeds', 1),\n",
       " ('leg of veal', 1),\n",
       " ('ground roasted sichuan peppers', 1),\n",
       " ('fat salad dressing', 1),\n",
       " ('slider rolls', 1),\n",
       " ('roasted ground cumin', 1),\n",
       " ('flora buttery', 1),\n",
       " ('medium potatoes', 1),\n",
       " ('whole grain buns', 1),\n",
       " ('hamachi', 1),\n",
       " ('glucose', 1),\n",
       " ('sucralose sweetener', 1),\n",
       " ('pork tenderloin medallions', 1),\n",
       " ('shank half', 1),\n",
       " ('knudsen 2', 1),\n",
       " ('kha', 1),\n",
       " ('low sodium pinto beans', 1),\n",
       " ('whole wheat crackers', 1),\n",
       " ('italian vinaigrette', 1),\n",
       " ('mazola', 1),\n",
       " ('light brown muscavado sugar', 1),\n",
       " ('chioggia', 1),\n",
       " ('energy drink', 1),\n",
       " ('italian seasoned panko bread crumbs', 1),\n",
       " ('free croutons', 1),\n",
       " ('nori furikake', 1),\n",
       " ('caramel flavored syrup', 1),\n",
       " ('celery powder', 1),\n",
       " ('white zinfandel', 1),\n",
       " ('pecan meal', 1),\n",
       " ('leek tops', 1),\n",
       " ('chicken chorizo sausages', 1),\n",
       " ('jose cuervo', 1),\n",
       " ('soy crumbles', 1),\n",
       " ('free baking powder', 1),\n",
       " ('chocolate leaves', 1),\n",
       " ('maple flavored extract', 1),\n",
       " ('eye of the round', 1),\n",
       " ('carrot juice', 1),\n",
       " ('zatarain', 1),\n",
       " ('sturgeon fillets', 1),\n",
       " ('padron peppers', 1),\n",
       " ('fat deli ham', 1),\n",
       " ('kraft shredded low', 1),\n",
       " ('orange roughy', 1),\n",
       " ('whole wheat english muffins', 1),\n",
       " ('smoked bratwurst', 1),\n",
       " ('poi', 1),\n",
       " ('sparkling sangria tradicional', 1),\n",
       " ('distilled malt vinegar', 1),\n",
       " ('cipollini', 1),\n",
       " ('moisture part', 1),\n",
       " ('black sea bass', 1),\n",
       " ('buckwheat honey', 1),\n",
       " ('green tomato relish', 1),\n",
       " ('wensleydale', 1),\n",
       " ('green giant whole kernel sweet corn', 1),\n",
       " ('pork roll', 1),\n",
       " ('elmlea single', 1),\n",
       " ('white bread crumbs', 1),\n",
       " ('mora chiles', 1),\n",
       " ('cones', 1),\n",
       " ('nonhydrogenated margarine', 1),\n",
       " ('whole wheat spaghettini', 1),\n",
       " ('riso', 1),\n",
       " ('licor 43', 1),\n",
       " ('progresso black beans', 1),\n",
       " ('redcurrant jelly', 1),\n",
       " ('french style sandwich rolls', 1),\n",
       " ('ground turkey sausage', 1),\n",
       " ('deviled ham', 1),\n",
       " ('garlic herb spreadable cheese', 1),\n",
       " ('membrillo', 1),\n",
       " ('curry guy smoked garam masala', 1),\n",
       " ('castelvetrano olives', 1),\n",
       " ('homemade stock', 1),\n",
       " ('cajun remoulade', 1),\n",
       " ('lemon vodka', 1),\n",
       " ('cinnamon hot candy', 1),\n",
       " ('marrons', 1),\n",
       " ('sangiovese', 1),\n",
       " ('hillshire farms low fat sausage', 1),\n",
       " ('fiddlehead ferns', 1),\n",
       " ('progresso balsamic vinegar', 1),\n",
       " ('elmlea single light', 1),\n",
       " ('free rolled oats', 1),\n",
       " ('asakusa nori', 1),\n",
       " ('freeze', 1),\n",
       " ('knorr chicken stock cubes', 1),\n",
       " ('low sodium low fat vegetable broth', 1),\n",
       " ('raspberry juice', 1),\n",
       " ('long green chilies', 1),\n",
       " ('yucca root', 1),\n",
       " ('whole crab', 1),\n",
       " ('dried rigatoni', 1),\n",
       " ('diced bacon', 1),\n",
       " ('spot prawns', 1),\n",
       " ('franks hot sauce', 1),\n",
       " ('worcestershire sauce low sodium', 1),\n",
       " ('reduced sodium ham', 1),\n",
       " ('tabasco', 1),\n",
       " ('cured pork', 1),\n",
       " ('medium cheddar cheese', 1),\n",
       " ('sodium reduced beef broth', 1),\n",
       " ('and cook drain pasta ziti', 1),\n",
       " ('hubbard squash', 1),\n",
       " ('pina colada mix', 1),\n",
       " ('taco seasoned cheese', 1),\n",
       " ('goat s milk cheese', 1),\n",
       " ('thai black glutinous rice', 1),\n",
       " ('pernod liqueur', 1),\n",
       " ('lingcod', 1),\n",
       " ('young leeks', 1),\n",
       " ('stellette', 1),\n",
       " ('pullman loaf', 1),\n",
       " ('black mushrooms', 1),\n",
       " ('low sodium 96', 1),\n",
       " ('won ton skins', 1),\n",
       " ('fish bones', 1),\n",
       " ('in short ribs', 1),\n",
       " ('kalamata olive halves', 1),\n",
       " ('hawaiian salt', 1),\n",
       " ('shoga', 1),\n",
       " ('george dickel', 1),\n",
       " ('soup bones', 1),\n",
       " ('pancit', 1),\n",
       " ('chinese wolfberries', 1),\n",
       " ('mexican lager beer', 1),\n",
       " ('cuttlefish', 1),\n",
       " ('whole wheat bread dough', 1),\n",
       " ('claws', 1),\n",
       " ('blackcurrant syrup', 1),\n",
       " ('hot italian pork sausage', 1),\n",
       " ('bermuda onion', 1),\n",
       " ('treviso radicchio', 1),\n",
       " ('swiss steak', 1),\n",
       " ('refrigerated seamless crescent dough', 1),\n",
       " ('artisan bread', 1),\n",
       " ('white quinoa', 1),\n",
       " ('bertolli vodka sauc made with fresh cream', 1),\n",
       " ('cabbage head', 1),\n",
       " ('garbonzo bean', 1),\n",
       " ('strip loin steak', 1),\n",
       " ('fern', 1),\n",
       " ('romana', 1),\n",
       " ('fat turkey kielbasa', 1),\n",
       " ('tortelloni', 1),\n",
       " ('mojo marinade', 1),\n",
       " ('caraway', 1),\n",
       " ('strip loin', 1),\n",
       " ('chicken flavor', 1),\n",
       " ('queso crema', 1),\n",
       " ('skinless flounder fillets', 1),\n",
       " ('minute steaks', 1),\n",
       " ('goya extra virgin olive oil', 1),\n",
       " ('vegan coffee creamer', 1),\n",
       " ('less sodium cooked deli ham', 1),\n",
       " ('knorr pasta side   cheesi cheddar', 1),\n",
       " ('duck bones', 1),\n",
       " ('fresh chicken stock', 1),\n",
       " ('pocket bread', 1),\n",
       " ('apple puree', 1),\n",
       " ('fat sweetened condensed milk', 1),\n",
       " ('pareve margarine', 1),\n",
       " ('fiesta sides spanish rice', 1),\n",
       " ('bai cai', 1),\n",
       " ('braising beef', 1),\n",
       " ('sablefish', 1),\n",
       " ('gelatin sheet', 1),\n",
       " ('fat sharp cheddar', 1),\n",
       " ('curry mix', 1),\n",
       " ('root beer', 1),\n",
       " ('semisweet vegan chocolate chips', 1),\n",
       " ('carbonated beverages', 1),\n",
       " ('lap cheong', 1),\n",
       " ('dumpling dough', 1),\n",
       " ('sparkling lemonade', 1),\n",
       " ('ic pop', 1),\n",
       " ('butter flavor shortening', 1),\n",
       " ('evaporated low', 1),\n",
       " ('arrabbiata sauce', 1),\n",
       " ('chicken in water', 1),\n",
       " ('red quinoa', 1),\n",
       " ('fedelini', 1),\n",
       " ('pippin apples', 1),\n",
       " ('japanese peanuts', 1),\n",
       " ('cassis liqueur', 1),\n",
       " ('lamb rib roast', 1),\n",
       " ('jimmies', 1),\n",
       " ('mandarin orange juice', 1),\n",
       " ('heinz worcestershire sauce', 1),\n",
       " ('reduced sodium kidney beans', 1),\n",
       " ('absinthe', 1),\n",
       " ('daikon sprouts', 1),\n",
       " ('minced lean steak', 1),\n",
       " ('heath candy bars', 1),\n",
       " ('lamb strips', 1),\n",
       " ('asti spumante', 1),\n",
       " ('sazon goya with coriander and annatto', 1),\n",
       " ('poolish', 1),\n",
       " ('burgundy snails', 1),\n",
       " ('italian pizza crust', 1),\n",
       " ('marshmallow fluff', 1),\n",
       " ('granular no', 1),\n",
       " ('semisweet chocolate chunks', 1),\n",
       " ('coffee low', 1),\n",
       " ('melted fat', 1),\n",
       " ('stick butter', 1),\n",
       " ('mini bananas', 1),\n",
       " ('peeled canned low sodium tomatoes', 1),\n",
       " ('skinless chicken fillets', 1),\n",
       " ('seville oranges', 1),\n",
       " ('crushed saltines', 1),\n",
       " ('fat plain greek yogurt', 1),\n",
       " ('smoked chorizo', 1),\n",
       " ('frozen garden peas', 1),\n",
       " ('beef hot dogs', 1),\n",
       " ('ortega tostada shells', 1),\n",
       " ('morcilla', 1),\n",
       " ('honey mustard dressing', 1),\n",
       " ('8 ounc ziti pasta', 1),\n",
       " ('hierba santa', 1),\n",
       " ('sweet soy', 1),\n",
       " ('hops', 1),\n",
       " ('cilantro pesto', 1),\n",
       " ('low fat reduced sodium pasta sauce', 1),\n",
       " ('wasabe', 1),\n",
       " ('japanese style bread crumbs', 1),\n",
       " ('watermelon seeds', 1),\n",
       " ('pork rub', 1),\n",
       " ('paste tomato', 1),\n",
       " ('bird pepper', 1),\n",
       " ('jameson whiskey', 1),\n",
       " ('ciabatta roll', 1),\n",
       " ('soya cheese', 1),\n",
       " ('salt free herb seasoning', 1),\n",
       " ('banana flower', 1),\n",
       " ('bénédictine', 1),\n",
       " ('italian seasoned diced tomatoes', 1),\n",
       " ('sauerkraut juice', 1),\n",
       " ('agave tequila', 1),\n",
       " ('poundcake', 1),\n",
       " ('cinnamon ice cream', 1),\n",
       " ('amba', 1),\n",
       " ('seafood breader', 1),\n",
       " ('ice cream salt', 1),\n",
       " ('plum jam', 1),\n",
       " ('barilla piccolini mini', 1),\n",
       " ('hachiya', 1),\n",
       " ('baby okra', 1),\n",
       " ('new york style panetini', 1),\n",
       " ('reduced sodium chicken stock', 1),\n",
       " ...]"
      ]
     },
     "execution_count": 45,
     "metadata": {},
     "output_type": "execute_result"
    }
   ],
   "source": [
    "ingredient_counts"
   ]
  },
  {
   "cell_type": "code",
   "execution_count": 150,
   "metadata": {
    "collapsed": true
   },
   "outputs": [],
   "source": [
    "ingredient_df = pd.DataFrame(data=ingredient_counts, columns=('ingredient', 'occurences'))"
   ]
  },
  {
   "cell_type": "code",
   "execution_count": 151,
   "metadata": {
    "collapsed": false
   },
   "outputs": [
    {
     "data": {
      "text/html": [
       "<div>\n",
       "<table border=\"1\" class=\"dataframe\">\n",
       "  <thead>\n",
       "    <tr style=\"text-align: right;\">\n",
       "      <th></th>\n",
       "      <th>ingredient</th>\n",
       "      <th>occurences</th>\n",
       "    </tr>\n",
       "  </thead>\n",
       "  <tbody>\n",
       "    <tr>\n",
       "      <th>1</th>\n",
       "      <td>toasted nuts</td>\n",
       "      <td>1</td>\n",
       "    </tr>\n",
       "    <tr>\n",
       "      <th>5</th>\n",
       "      <td>butternut</td>\n",
       "      <td>1</td>\n",
       "    </tr>\n",
       "    <tr>\n",
       "      <th>6</th>\n",
       "      <td>skippy creamy peanut butter</td>\n",
       "      <td>1</td>\n",
       "    </tr>\n",
       "    <tr>\n",
       "      <th>13</th>\n",
       "      <td>water chestnut powder</td>\n",
       "      <td>1</td>\n",
       "    </tr>\n",
       "    <tr>\n",
       "      <th>23</th>\n",
       "      <td>ground hazelnuts</td>\n",
       "      <td>1</td>\n",
       "    </tr>\n",
       "    <tr>\n",
       "      <th>168</th>\n",
       "      <td>fat canned coconut milk</td>\n",
       "      <td>1</td>\n",
       "    </tr>\n",
       "    <tr>\n",
       "      <th>191</th>\n",
       "      <td>chestnut flour</td>\n",
       "      <td>1</td>\n",
       "    </tr>\n",
       "    <tr>\n",
       "      <th>246</th>\n",
       "      <td>candied chestnuts</td>\n",
       "      <td>1</td>\n",
       "    </tr>\n",
       "    <tr>\n",
       "      <th>269</th>\n",
       "      <td>unsweetened dried coconut</td>\n",
       "      <td>1</td>\n",
       "    </tr>\n",
       "    <tr>\n",
       "      <th>316</th>\n",
       "      <td>coconut chips</td>\n",
       "      <td>1</td>\n",
       "    </tr>\n",
       "    <tr>\n",
       "      <th>616</th>\n",
       "      <td>coconut syrup</td>\n",
       "      <td>1</td>\n",
       "    </tr>\n",
       "    <tr>\n",
       "      <th>901</th>\n",
       "      <td>minute steaks</td>\n",
       "      <td>1</td>\n",
       "    </tr>\n",
       "    <tr>\n",
       "      <th>933</th>\n",
       "      <td>japanese peanuts</td>\n",
       "      <td>1</td>\n",
       "    </tr>\n",
       "    <tr>\n",
       "      <th>1028</th>\n",
       "      <td>soy nuts</td>\n",
       "      <td>1</td>\n",
       "    </tr>\n",
       "    <tr>\n",
       "      <th>1153</th>\n",
       "      <td>peanut butter chips</td>\n",
       "      <td>1</td>\n",
       "    </tr>\n",
       "    <tr>\n",
       "      <th>1165</th>\n",
       "      <td>dairy free coconut ice cream</td>\n",
       "      <td>1</td>\n",
       "    </tr>\n",
       "    <tr>\n",
       "      <th>1363</th>\n",
       "      <td>nut meal</td>\n",
       "      <td>1</td>\n",
       "    </tr>\n",
       "    <tr>\n",
       "      <th>1406</th>\n",
       "      <td>english walnuts</td>\n",
       "      <td>1</td>\n",
       "    </tr>\n",
       "    <tr>\n",
       "      <th>1436</th>\n",
       "      <td>minute white rice</td>\n",
       "      <td>1</td>\n",
       "    </tr>\n",
       "    <tr>\n",
       "      <th>1464</th>\n",
       "      <td>ground nuts</td>\n",
       "      <td>1</td>\n",
       "    </tr>\n",
       "    <tr>\n",
       "      <th>1569</th>\n",
       "      <td>hazelnut flour</td>\n",
       "      <td>1</td>\n",
       "    </tr>\n",
       "    <tr>\n",
       "      <th>1600</th>\n",
       "      <td>peanut brittle</td>\n",
       "      <td>1</td>\n",
       "    </tr>\n",
       "    <tr>\n",
       "      <th>1701</th>\n",
       "      <td>peanut powder</td>\n",
       "      <td>1</td>\n",
       "    </tr>\n",
       "    <tr>\n",
       "      <th>1746</th>\n",
       "      <td>chestnut spread</td>\n",
       "      <td>1</td>\n",
       "    </tr>\n",
       "    <tr>\n",
       "      <th>1834</th>\n",
       "      <td>coconut meat</td>\n",
       "      <td>2</td>\n",
       "    </tr>\n",
       "    <tr>\n",
       "      <th>1848</th>\n",
       "      <td>jif creamy peanut butter</td>\n",
       "      <td>2</td>\n",
       "    </tr>\n",
       "    <tr>\n",
       "      <th>1952</th>\n",
       "      <td>ginkgo nut</td>\n",
       "      <td>2</td>\n",
       "    </tr>\n",
       "    <tr>\n",
       "      <th>1997</th>\n",
       "      <td>nutritional yeast flakes</td>\n",
       "      <td>2</td>\n",
       "    </tr>\n",
       "    <tr>\n",
       "      <th>2074</th>\n",
       "      <td>creamed coconut</td>\n",
       "      <td>2</td>\n",
       "    </tr>\n",
       "    <tr>\n",
       "      <th>2076</th>\n",
       "      <td>smooth natural peanut butter</td>\n",
       "      <td>2</td>\n",
       "    </tr>\n",
       "    <tr>\n",
       "      <th>...</th>\n",
       "      <td>...</td>\n",
       "      <td>...</td>\n",
       "    </tr>\n",
       "    <tr>\n",
       "      <th>5594</th>\n",
       "      <td>coconut sugar</td>\n",
       "      <td>37</td>\n",
       "    </tr>\n",
       "    <tr>\n",
       "      <th>5631</th>\n",
       "      <td>salted peanuts</td>\n",
       "      <td>38</td>\n",
       "    </tr>\n",
       "    <tr>\n",
       "      <th>5650</th>\n",
       "      <td>toasted pine nuts</td>\n",
       "      <td>39</td>\n",
       "    </tr>\n",
       "    <tr>\n",
       "      <th>5678</th>\n",
       "      <td>shredded coconut</td>\n",
       "      <td>41</td>\n",
       "    </tr>\n",
       "    <tr>\n",
       "      <th>5727</th>\n",
       "      <td>flaked coconut</td>\n",
       "      <td>45</td>\n",
       "    </tr>\n",
       "    <tr>\n",
       "      <th>5896</th>\n",
       "      <td>unsalted dry roast peanuts</td>\n",
       "      <td>58</td>\n",
       "    </tr>\n",
       "    <tr>\n",
       "      <th>5958</th>\n",
       "      <td>dry roasted peanuts</td>\n",
       "      <td>64</td>\n",
       "    </tr>\n",
       "    <tr>\n",
       "      <th>6036</th>\n",
       "      <td>grated coconut</td>\n",
       "      <td>74</td>\n",
       "    </tr>\n",
       "    <tr>\n",
       "      <th>6038</th>\n",
       "      <td>sweetened coconut flakes</td>\n",
       "      <td>74</td>\n",
       "    </tr>\n",
       "    <tr>\n",
       "      <th>6048</th>\n",
       "      <td>coconut cream</td>\n",
       "      <td>77</td>\n",
       "    </tr>\n",
       "    <tr>\n",
       "      <th>6161</th>\n",
       "      <td>hazelnuts</td>\n",
       "      <td>100</td>\n",
       "    </tr>\n",
       "    <tr>\n",
       "      <th>6204</th>\n",
       "      <td>creamy peanut butter</td>\n",
       "      <td>111</td>\n",
       "    </tr>\n",
       "    <tr>\n",
       "      <th>6215</th>\n",
       "      <td>walnuts</td>\n",
       "      <td>114</td>\n",
       "    </tr>\n",
       "    <tr>\n",
       "      <th>6241</th>\n",
       "      <td>peanut butter</td>\n",
       "      <td>122</td>\n",
       "    </tr>\n",
       "    <tr>\n",
       "      <th>6257</th>\n",
       "      <td>chopped walnuts</td>\n",
       "      <td>128</td>\n",
       "    </tr>\n",
       "    <tr>\n",
       "      <th>6326</th>\n",
       "      <td>light coconut milk</td>\n",
       "      <td>156</td>\n",
       "    </tr>\n",
       "    <tr>\n",
       "      <th>6328</th>\n",
       "      <td>roasted peanuts</td>\n",
       "      <td>156</td>\n",
       "    </tr>\n",
       "    <tr>\n",
       "      <th>6369</th>\n",
       "      <td>butternut squash</td>\n",
       "      <td>174</td>\n",
       "    </tr>\n",
       "    <tr>\n",
       "      <th>6378</th>\n",
       "      <td>coconut</td>\n",
       "      <td>178</td>\n",
       "    </tr>\n",
       "    <tr>\n",
       "      <th>6402</th>\n",
       "      <td>unsweetened coconut milk</td>\n",
       "      <td>191</td>\n",
       "    </tr>\n",
       "    <tr>\n",
       "      <th>6425</th>\n",
       "      <td>water chestnuts</td>\n",
       "      <td>205</td>\n",
       "    </tr>\n",
       "    <tr>\n",
       "      <th>6442</th>\n",
       "      <td>cashew nuts</td>\n",
       "      <td>218</td>\n",
       "    </tr>\n",
       "    <tr>\n",
       "      <th>6450</th>\n",
       "      <td>coconut oil</td>\n",
       "      <td>221</td>\n",
       "    </tr>\n",
       "    <tr>\n",
       "      <th>6471</th>\n",
       "      <td>grated nutmeg</td>\n",
       "      <td>234</td>\n",
       "    </tr>\n",
       "    <tr>\n",
       "      <th>6474</th>\n",
       "      <td>nutmeg</td>\n",
       "      <td>237</td>\n",
       "    </tr>\n",
       "    <tr>\n",
       "      <th>6580</th>\n",
       "      <td>pinenuts</td>\n",
       "      <td>348</td>\n",
       "    </tr>\n",
       "    <tr>\n",
       "      <th>6617</th>\n",
       "      <td>peanuts</td>\n",
       "      <td>406</td>\n",
       "    </tr>\n",
       "    <tr>\n",
       "      <th>6681</th>\n",
       "      <td>ground nutmeg</td>\n",
       "      <td>605</td>\n",
       "    </tr>\n",
       "    <tr>\n",
       "      <th>6682</th>\n",
       "      <td>peanut oil</td>\n",
       "      <td>610</td>\n",
       "    </tr>\n",
       "    <tr>\n",
       "      <th>6714</th>\n",
       "      <td>coconut milk</td>\n",
       "      <td>854</td>\n",
       "    </tr>\n",
       "  </tbody>\n",
       "</table>\n",
       "<p>134 rows × 2 columns</p>\n",
       "</div>"
      ],
      "text/plain": [
       "                        ingredient  occurences\n",
       "1                     toasted nuts           1\n",
       "5                        butternut           1\n",
       "6      skippy creamy peanut butter           1\n",
       "13           water chestnut powder           1\n",
       "23                ground hazelnuts           1\n",
       "168        fat canned coconut milk           1\n",
       "191                 chestnut flour           1\n",
       "246              candied chestnuts           1\n",
       "269      unsweetened dried coconut           1\n",
       "316                  coconut chips           1\n",
       "616                  coconut syrup           1\n",
       "901                  minute steaks           1\n",
       "933               japanese peanuts           1\n",
       "1028                      soy nuts           1\n",
       "1153           peanut butter chips           1\n",
       "1165  dairy free coconut ice cream           1\n",
       "1363                      nut meal           1\n",
       "1406               english walnuts           1\n",
       "1436             minute white rice           1\n",
       "1464                   ground nuts           1\n",
       "1569                hazelnut flour           1\n",
       "1600                peanut brittle           1\n",
       "1701                 peanut powder           1\n",
       "1746               chestnut spread           1\n",
       "1834                  coconut meat           2\n",
       "1848      jif creamy peanut butter           2\n",
       "1952                    ginkgo nut           2\n",
       "1997      nutritional yeast flakes           2\n",
       "2074               creamed coconut           2\n",
       "2076  smooth natural peanut butter           2\n",
       "...                            ...         ...\n",
       "5594                 coconut sugar          37\n",
       "5631                salted peanuts          38\n",
       "5650             toasted pine nuts          39\n",
       "5678              shredded coconut          41\n",
       "5727                flaked coconut          45\n",
       "5896    unsalted dry roast peanuts          58\n",
       "5958           dry roasted peanuts          64\n",
       "6036                grated coconut          74\n",
       "6038      sweetened coconut flakes          74\n",
       "6048                 coconut cream          77\n",
       "6161                     hazelnuts         100\n",
       "6204          creamy peanut butter         111\n",
       "6215                       walnuts         114\n",
       "6241                 peanut butter         122\n",
       "6257               chopped walnuts         128\n",
       "6326            light coconut milk         156\n",
       "6328               roasted peanuts         156\n",
       "6369              butternut squash         174\n",
       "6378                       coconut         178\n",
       "6402      unsweetened coconut milk         191\n",
       "6425               water chestnuts         205\n",
       "6442                   cashew nuts         218\n",
       "6450                   coconut oil         221\n",
       "6471                 grated nutmeg         234\n",
       "6474                        nutmeg         237\n",
       "6580                      pinenuts         348\n",
       "6617                       peanuts         406\n",
       "6681                 ground nutmeg         605\n",
       "6682                    peanut oil         610\n",
       "6714                  coconut milk         854\n",
       "\n",
       "[134 rows x 2 columns]"
      ]
     },
     "execution_count": 151,
     "metadata": {},
     "output_type": "execute_result"
    }
   ],
   "source": [
    "ingredient_df[ingredient_df.ingredient.str.contains('nut')]"
   ]
  },
  {
   "cell_type": "code",
   "execution_count": 177,
   "metadata": {
    "collapsed": false
   },
   "outputs": [],
   "source": [
    "def string2words(ingredient):\n",
    "    \"\"\"Returns words from ingredient.\"\"\"\n",
    "    return frozenset(filter(lambda s: s != '', set(ingredient.lower().split(' '))))"
   ]
  },
  {
   "cell_type": "code",
   "execution_count": 178,
   "metadata": {
    "collapsed": false
   },
   "outputs": [
    {
     "data": {
      "text/plain": [
       "frozenset({'nut'})"
      ]
     },
     "execution_count": 178,
     "metadata": {},
     "output_type": "execute_result"
    }
   ],
   "source": [
    "string2words(\"nut\")"
   ]
  },
  {
   "cell_type": "code",
   "execution_count": 179,
   "metadata": {
    "collapsed": false
   },
   "outputs": [
    {
     "data": {
      "text/plain": [
       "frozenset({'nut'})"
      ]
     },
     "execution_count": 179,
     "metadata": {},
     "output_type": "execute_result"
    }
   ],
   "source": [
    "string2words(\"nut  \")"
   ]
  },
  {
   "cell_type": "code",
   "execution_count": 180,
   "metadata": {
    "collapsed": false
   },
   "outputs": [
    {
     "data": {
      "text/plain": [
       "frozenset({'nut', 'stuff'})"
      ]
     },
     "execution_count": 180,
     "metadata": {},
     "output_type": "execute_result"
    }
   ],
   "source": [
    "string2words(\"nut stuff\")"
   ]
  },
  {
   "cell_type": "code",
   "execution_count": 181,
   "metadata": {
    "collapsed": false
   },
   "outputs": [
    {
     "data": {
      "text/plain": [
       "{1}"
      ]
     },
     "execution_count": 181,
     "metadata": {},
     "output_type": "execute_result"
    }
   ],
   "source": [
    "s = set([0, 1]) & set([1, 2])\n",
    "s"
   ]
  },
  {
   "cell_type": "code",
   "execution_count": 182,
   "metadata": {
    "collapsed": false
   },
   "outputs": [
    {
     "data": {
      "text/plain": [
       "frozenset({1})"
      ]
     },
     "execution_count": 182,
     "metadata": {},
     "output_type": "execute_result"
    }
   ],
   "source": [
    "frozenset(s)"
   ]
  },
  {
   "cell_type": "code",
   "execution_count": 183,
   "metadata": {
    "collapsed": false
   },
   "outputs": [],
   "source": [
    "s = set()"
   ]
  },
  {
   "cell_type": "code",
   "execution_count": 184,
   "metadata": {
    "collapsed": false
   },
   "outputs": [
    {
     "data": {
      "text/plain": [
       "0"
      ]
     },
     "execution_count": 184,
     "metadata": {},
     "output_type": "execute_result"
    }
   ],
   "source": [
    "len(s)"
   ]
  },
  {
   "cell_type": "code",
   "execution_count": 185,
   "metadata": {
    "collapsed": false
   },
   "outputs": [
    {
     "data": {
      "text/plain": [
       "True"
      ]
     },
     "execution_count": 185,
     "metadata": {},
     "output_type": "execute_result"
    }
   ],
   "source": [
    "s == set()"
   ]
  },
  {
   "cell_type": "code",
   "execution_count": 186,
   "metadata": {
    "collapsed": true
   },
   "outputs": [],
   "source": [
    "from collections import Counter"
   ]
  },
  {
   "cell_type": "code",
   "execution_count": 187,
   "metadata": {
    "collapsed": true
   },
   "outputs": [],
   "source": [
    "c = Counter()"
   ]
  },
  {
   "cell_type": "code",
   "execution_count": 188,
   "metadata": {
    "collapsed": true
   },
   "outputs": [],
   "source": [
    "c['a'] += 1"
   ]
  },
  {
   "cell_type": "code",
   "execution_count": 189,
   "metadata": {
    "collapsed": false
   },
   "outputs": [
    {
     "data": {
      "text/plain": [
       "Counter({'a': 1})"
      ]
     },
     "execution_count": 189,
     "metadata": {},
     "output_type": "execute_result"
    }
   ],
   "source": [
    "c"
   ]
  },
  {
   "cell_type": "code",
   "execution_count": 190,
   "metadata": {
    "collapsed": false
   },
   "outputs": [
    {
     "data": {
      "text/plain": [
       "Counter({'a': 1})"
      ]
     },
     "execution_count": 190,
     "metadata": {},
     "output_type": "execute_result"
    }
   ],
   "source": [
    "c"
   ]
  },
  {
   "cell_type": "code",
   "execution_count": 191,
   "metadata": {
    "collapsed": false
   },
   "outputs": [
    {
     "data": {
      "text/plain": [
       "dict_keys(['a'])"
      ]
     },
     "execution_count": 191,
     "metadata": {},
     "output_type": "execute_result"
    }
   ],
   "source": [
    "c.keys()"
   ]
  },
  {
   "cell_type": "code",
   "execution_count": 206,
   "metadata": {
    "collapsed": true
   },
   "outputs": [],
   "source": [
    "ingredient_sets = {}\n",
    "for ing in ingredient_counts:\n",
    "    ingredient_sets[string2words(ing[0])] = ing"
   ]
  },
  {
   "cell_type": "code",
   "execution_count": 228,
   "metadata": {
    "collapsed": true
   },
   "outputs": [],
   "source": [
    "def find_set(ingredient, ingredient_sets):\n",
    "    \"\"\"\n",
    "    ingredient: a set\n",
    "    \"\"\"\n",
    "    c = Counter()\n",
    "    current_len = 0\n",
    "    for current_set in ingredient_sets:\n",
    "        intersection = ingredient & current_set\n",
    "        if ingredient != intersection:\n",
    "            if len(intersection) > current_len:\n",
    "                c = Counter()\n",
    "                current_len = len(intersection)\n",
    "            if len(intersection) == current_len:\n",
    "                c[intersection] += 1\n",
    "    if \"\".join(c.most_common(1)[0][0]) != \"\":\n",
    "        return ingredient_sets[c.most_common(1)[0][0]][0]\n",
    "    else:\n",
    "        return \"\""
   ]
  },
  {
   "cell_type": "code",
   "execution_count": 229,
   "metadata": {
    "collapsed": false
   },
   "outputs": [
    {
     "data": {
      "text/plain": [
       "'coconut'"
      ]
     },
     "execution_count": 229,
     "metadata": {},
     "output_type": "execute_result"
    }
   ],
   "source": [
    "find_set(string2words('creamed coconut'), ingredient_sets)"
   ]
  },
  {
   "cell_type": "code",
   "execution_count": 230,
   "metadata": {
    "collapsed": false
   },
   "outputs": [
    {
     "data": {
      "text/plain": [
       "''"
      ]
     },
     "execution_count": 230,
     "metadata": {},
     "output_type": "execute_result"
    }
   ],
   "source": [
    "find_set(string2words('aleppo'), ingredient_sets)"
   ]
  },
  {
   "cell_type": "code",
   "execution_count": 231,
   "metadata": {
    "collapsed": false
   },
   "outputs": [
    {
     "data": {
      "text/plain": [
       "'coconut milk'"
      ]
     },
     "execution_count": 231,
     "metadata": {},
     "output_type": "execute_result"
    }
   ],
   "source": [
    "find_set(string2words('unsweetened coconut milk'), ingredient_sets)"
   ]
  },
  {
   "cell_type": "code",
   "execution_count": 234,
   "metadata": {
    "collapsed": false
   },
   "outputs": [
    {
     "ename": "KeyError",
     "evalue": "frozenset({'boneless', 'skinless', 'chicken', 'breast'})",
     "output_type": "error",
     "traceback": [
      "\u001b[0;31m---------------------------------------------------------------------------\u001b[0m",
      "\u001b[0;31mKeyError\u001b[0m                                  Traceback (most recent call last)",
      "\u001b[0;32m<ipython-input-234-2a6a8e63eaf1>\u001b[0m in \u001b[0;36m<module>\u001b[0;34m()\u001b[0m\n\u001b[1;32m      1\u001b[0m \u001b[0;32mfor\u001b[0m \u001b[0mingredient\u001b[0m \u001b[0;32min\u001b[0m \u001b[0mingredient_df\u001b[0m\u001b[0;34m[\u001b[0m\u001b[0mingredient_df\u001b[0m\u001b[0;34m.\u001b[0m\u001b[0moccurences\u001b[0m \u001b[0;34m==\u001b[0m \u001b[0;36m1\u001b[0m\u001b[0;34m]\u001b[0m\u001b[0;34m.\u001b[0m\u001b[0mingredient\u001b[0m\u001b[0;34m:\u001b[0m\u001b[0;34m\u001b[0m\u001b[0m\n\u001b[0;32m----> 2\u001b[0;31m     \u001b[0mprint\u001b[0m\u001b[0;34m(\u001b[0m\u001b[0mingredient\u001b[0m\u001b[0;34m,\u001b[0m \u001b[0;34m':'\u001b[0m\u001b[0;34m,\u001b[0m \u001b[0mfind_set\u001b[0m\u001b[0;34m(\u001b[0m\u001b[0mstring2words\u001b[0m\u001b[0;34m(\u001b[0m\u001b[0mingredient\u001b[0m\u001b[0;34m)\u001b[0m\u001b[0;34m,\u001b[0m \u001b[0mingredient_sets\u001b[0m\u001b[0;34m)\u001b[0m\u001b[0;34m)\u001b[0m\u001b[0;34m\u001b[0m\u001b[0m\n\u001b[0m",
      "\u001b[0;32m<ipython-input-228-2c0126c373a7>\u001b[0m in \u001b[0;36mfind_set\u001b[0;34m(ingredient, ingredient_sets)\u001b[0m\n\u001b[1;32m     14\u001b[0m                 \u001b[0mc\u001b[0m\u001b[0;34m[\u001b[0m\u001b[0mintersection\u001b[0m\u001b[0;34m]\u001b[0m \u001b[0;34m+=\u001b[0m \u001b[0;36m1\u001b[0m\u001b[0;34m\u001b[0m\u001b[0m\n\u001b[1;32m     15\u001b[0m     \u001b[0;32mif\u001b[0m \u001b[0;34m\"\"\u001b[0m\u001b[0;34m.\u001b[0m\u001b[0mjoin\u001b[0m\u001b[0;34m(\u001b[0m\u001b[0mc\u001b[0m\u001b[0;34m.\u001b[0m\u001b[0mmost_common\u001b[0m\u001b[0;34m(\u001b[0m\u001b[0;36m1\u001b[0m\u001b[0;34m)\u001b[0m\u001b[0;34m[\u001b[0m\u001b[0;36m0\u001b[0m\u001b[0;34m]\u001b[0m\u001b[0;34m[\u001b[0m\u001b[0;36m0\u001b[0m\u001b[0;34m]\u001b[0m\u001b[0;34m)\u001b[0m \u001b[0;34m!=\u001b[0m \u001b[0;34m\"\"\u001b[0m\u001b[0;34m:\u001b[0m\u001b[0;34m\u001b[0m\u001b[0m\n\u001b[0;32m---> 16\u001b[0;31m         \u001b[0;32mreturn\u001b[0m \u001b[0mingredient_sets\u001b[0m\u001b[0;34m[\u001b[0m\u001b[0mc\u001b[0m\u001b[0;34m.\u001b[0m\u001b[0mmost_common\u001b[0m\u001b[0;34m(\u001b[0m\u001b[0;36m1\u001b[0m\u001b[0;34m)\u001b[0m\u001b[0;34m[\u001b[0m\u001b[0;36m0\u001b[0m\u001b[0;34m]\u001b[0m\u001b[0;34m[\u001b[0m\u001b[0;36m0\u001b[0m\u001b[0;34m]\u001b[0m\u001b[0;34m]\u001b[0m\u001b[0;34m[\u001b[0m\u001b[0;36m0\u001b[0m\u001b[0;34m]\u001b[0m\u001b[0;34m\u001b[0m\u001b[0m\n\u001b[0m\u001b[1;32m     17\u001b[0m     \u001b[0;32melse\u001b[0m\u001b[0;34m:\u001b[0m\u001b[0;34m\u001b[0m\u001b[0m\n\u001b[1;32m     18\u001b[0m         \u001b[0;32mreturn\u001b[0m \u001b[0;34m\"\"\u001b[0m\u001b[0;34m\u001b[0m\u001b[0m\n",
      "\u001b[0;31mKeyError\u001b[0m: frozenset({'boneless', 'skinless', 'chicken', 'breast'})"
     ]
    }
   ],
   "source": [
    "for ingredient in ingredient_df[ingredient_df.occurences == 1].ingredient:\n",
    "    print(ingredient, ':', find_set(string2words(ingredient), ingredient_sets))"
   ]
  },
  {
   "cell_type": "code",
   "execution_count": null,
   "metadata": {
    "collapsed": false
   },
   "outputs": [
    {
     "name": "stdout",
     "output_type": "stream",
     "text": [
      "> \u001b[0;32m<ipython-input-228-2c0126c373a7>\u001b[0m(16)\u001b[0;36mfind_set\u001b[0;34m()\u001b[0m\n",
      "\u001b[0;32m     15 \u001b[0;31m    \u001b[0;32mif\u001b[0m \u001b[0;34m\"\"\u001b[0m\u001b[0;34m.\u001b[0m\u001b[0mjoin\u001b[0m\u001b[0;34m(\u001b[0m\u001b[0mc\u001b[0m\u001b[0;34m.\u001b[0m\u001b[0mmost_common\u001b[0m\u001b[0;34m(\u001b[0m\u001b[0;36m1\u001b[0m\u001b[0;34m)\u001b[0m\u001b[0;34m[\u001b[0m\u001b[0;36m0\u001b[0m\u001b[0;34m]\u001b[0m\u001b[0;34m[\u001b[0m\u001b[0;36m0\u001b[0m\u001b[0;34m]\u001b[0m\u001b[0;34m)\u001b[0m \u001b[0;34m!=\u001b[0m \u001b[0;34m\"\"\u001b[0m\u001b[0;34m:\u001b[0m\u001b[0;34m\u001b[0m\u001b[0m\n",
      "\u001b[0m\u001b[0;32m---> 16 \u001b[0;31m        \u001b[0;32mreturn\u001b[0m \u001b[0mingredient_sets\u001b[0m\u001b[0;34m[\u001b[0m\u001b[0mc\u001b[0m\u001b[0;34m.\u001b[0m\u001b[0mmost_common\u001b[0m\u001b[0;34m(\u001b[0m\u001b[0;36m1\u001b[0m\u001b[0;34m)\u001b[0m\u001b[0;34m[\u001b[0m\u001b[0;36m0\u001b[0m\u001b[0;34m]\u001b[0m\u001b[0;34m[\u001b[0m\u001b[0;36m0\u001b[0m\u001b[0;34m]\u001b[0m\u001b[0;34m]\u001b[0m\u001b[0;34m[\u001b[0m\u001b[0;36m0\u001b[0m\u001b[0;34m]\u001b[0m\u001b[0;34m\u001b[0m\u001b[0m\n",
      "\u001b[0m\u001b[0;32m     17 \u001b[0;31m    \u001b[0;32melse\u001b[0m\u001b[0;34m:\u001b[0m\u001b[0;34m\u001b[0m\u001b[0m\n",
      "\u001b[0m\n",
      "ipdb> p c\n",
      "Counter({frozenset({'boneless', 'skinless', 'chicken', 'breast'}): 1})\n",
      "ipdb> p ingredient_sets[c.most_common(1)[0][0]]\n",
      "*** KeyError: frozenset({'boneless', 'skinless', 'chicken', 'breast'})\n"
     ]
    }
   ],
   "source": [
    "%debug"
   ]
  },
  {
   "cell_type": "code",
   "execution_count": 199,
   "metadata": {
    "collapsed": false
   },
   "outputs": [
    {
     "data": {
      "text/html": [
       "<div>\n",
       "<table border=\"1\" class=\"dataframe\">\n",
       "  <thead>\n",
       "    <tr style=\"text-align: right;\">\n",
       "      <th></th>\n",
       "      <th>ingredient</th>\n",
       "      <th>occurences</th>\n",
       "    </tr>\n",
       "  </thead>\n",
       "  <tbody>\n",
       "    <tr>\n",
       "      <th>100</th>\n",
       "      <td>aleppo</td>\n",
       "      <td>1</td>\n",
       "    </tr>\n",
       "    <tr>\n",
       "      <th>4588</th>\n",
       "      <td>aleppo pepper</td>\n",
       "      <td>12</td>\n",
       "    </tr>\n",
       "  </tbody>\n",
       "</table>\n",
       "</div>"
      ],
      "text/plain": [
       "         ingredient  occurences\n",
       "100          aleppo           1\n",
       "4588  aleppo pepper          12"
      ]
     },
     "execution_count": 199,
     "metadata": {},
     "output_type": "execute_result"
    }
   ],
   "source": [
    "ingredient_df[ingredient_df.ingredient.str.contains('aleppo')]"
   ]
  },
  {
   "cell_type": "code",
   "execution_count": null,
   "metadata": {
    "collapsed": true
   },
   "outputs": [],
   "source": []
  }
 ],
 "metadata": {
  "kernelspec": {
   "display_name": "Python 3",
   "language": "python",
   "name": "python3"
  },
  "language_info": {
   "codemirror_mode": {
    "name": "ipython",
    "version": 3
   },
   "file_extension": ".py",
   "mimetype": "text/x-python",
   "name": "python",
   "nbconvert_exporter": "python",
   "pygments_lexer": "ipython3",
   "version": "3.4.3"
  }
 },
 "nbformat": 4,
 "nbformat_minor": 0
}
