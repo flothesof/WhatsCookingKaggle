{
 "cells": [
  {
   "cell_type": "markdown",
   "metadata": {},
   "source": [
    "Reading the input data:"
   ]
  },
  {
   "cell_type": "code",
   "execution_count": 15,
   "metadata": {
    "collapsed": true
   },
   "outputs": [],
   "source": [
    "import pandas as pd"
   ]
  },
  {
   "cell_type": "code",
   "execution_count": 16,
   "metadata": {
    "collapsed": true
   },
   "outputs": [],
   "source": [
    "df_train = pd.read_json(\"train.json\")"
   ]
  },
  {
   "cell_type": "markdown",
   "metadata": {},
   "source": [
    "Creating a widget:"
   ]
  },
  {
   "cell_type": "code",
   "execution_count": 37,
   "metadata": {
    "collapsed": false
   },
   "outputs": [],
   "source": [
    "from IPython.html.widgets import Text"
   ]
  },
  {
   "cell_type": "code",
   "execution_count": 194,
   "metadata": {
    "collapsed": true
   },
   "outputs": [],
   "source": [
    "from IPython.html.widgets import Button, Box, HTML\n",
    "from IPython.display import display"
   ]
  },
  {
   "cell_type": "code",
   "execution_count": 29,
   "metadata": {
    "collapsed": true
   },
   "outputs": [],
   "source": [
    "import numpy as np"
   ]
  },
  {
   "cell_type": "code",
   "execution_count": 212,
   "metadata": {
    "collapsed": false
   },
   "outputs": [],
   "source": [
    "class DisplayWidget():\n",
    "    def __init__(self, df):\n",
    "        self.df = df.copy()\n",
    "        self.buttons = []\n",
    "        \n",
    "        h = HTML(value='Recipe')\n",
    "        h.font_size = 24\n",
    "        h.height = 100\n",
    "        h.background_color = 'yellow'\n",
    "        self.buttons.append(h)\n",
    "        for cuisine in self.df.cuisine.unique():\n",
    "            b = Button(description=cuisine)\n",
    "            b.on_click(self.color_button)\n",
    "            self.buttons.append(b)\n",
    "        \n",
    "        b = Button(description='Solve!')\n",
    "        b.background_color = 'red'\n",
    "        b.on_click(lambda b: self.solve_riddle())\n",
    "        self.buttons.append(b)\n",
    "        \n",
    "        b = Button(description='Next!')\n",
    "        b.background_color = 'red'\n",
    "        b.on_click(lambda b: self.clear_formatting() or self.select_new_recipe())\n",
    "        self.buttons.append(b)\n",
    "        \n",
    "        # container\n",
    "        self.box = Box()\n",
    "        self.box.children = self.buttons\n",
    "        \n",
    "        self.select_new_recipe()\n",
    "        \n",
    "    def display(self):\n",
    "        display(self.box)\n",
    "        \n",
    "    def color_button(self, b):\n",
    "        if b.description == self.current_cuisine:\n",
    "            b.background_color = 'green'\n",
    "        else:\n",
    "            b.background_color = 'red'\n",
    "        \n",
    "    def select_new_recipe(self):\n",
    "        self.current_loc = np.random.choice(np.arange(self.df.shape[0]))\n",
    "        self.current_cuisine = self.df['cuisine'][self.current_loc]\n",
    "        self.buttons[0].value = \"<p>{}</p>\".format(\"; \".join(self.df.ingredients[self.current_loc]))\n",
    "        \n",
    "    def solve_riddle(self):\n",
    "        self.buttons[1 + list(self.df.cuisine.unique()).index(self.current_cuisine)].background_color = 'green'\n",
    "        \n",
    "    def clear_formatting(self):\n",
    "        for b in self.buttons[1:-2]:\n",
    "            b.background_color = 'white'"
   ]
  },
  {
   "cell_type": "markdown",
   "metadata": {},
   "source": [
    "Now we can use our widget!"
   ]
  },
  {
   "cell_type": "code",
   "execution_count": 213,
   "metadata": {
    "collapsed": false
   },
   "outputs": [],
   "source": [
    "dw = DisplayWidget(df_train[['ingredients', 'cuisine']])\n",
    "dw.display()"
   ]
  },
  {
   "cell_type": "code",
   "execution_count": null,
   "metadata": {
    "collapsed": true
   },
   "outputs": [],
   "source": []
  },
  {
   "cell_type": "code",
   "execution_count": null,
   "metadata": {
    "collapsed": true
   },
   "outputs": [],
   "source": []
  }
 ],
 "metadata": {
  "kernelspec": {
   "display_name": "Python 3",
   "language": "python",
   "name": "python3"
  },
  "language_info": {
   "codemirror_mode": {
    "name": "ipython",
    "version": 3
   },
   "file_extension": ".py",
   "mimetype": "text/x-python",
   "name": "python",
   "nbconvert_exporter": "python",
   "pygments_lexer": "ipython3",
   "version": "3.4.3"
  }
 },
 "nbformat": 4,
 "nbformat_minor": 0
}
