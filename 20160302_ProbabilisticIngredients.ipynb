{
 "cells": [
  {
   "cell_type": "markdown",
   "metadata": {},
   "source": [
    "In this notebook, we'll turn again to a problem that arose when I was working on the Kaggle What's Cooking challenge (see my previous posts on the subject [here](http://flothesof.github.io/kaggle-whatscooking-bokeh-plots.html) and [here](http://flothesof.github.io/kaggle-whats-cooking-machine-learning.html)). In this challenge, the data, which consists of recipes, contained quite a few quirks that made some of it useless.\n",
    "For example, the data may contain names of brands that are not useful to a human working on this problem (\"knorr garlic minicub\"). Or mentions weights and quantities that should have been cleaned up beforehand (\"(10 oz.) frozen chopped spinach, thawed and squeezed dry\").\n",
    "\n",
    "The goal of this notebook is therefore to develop a probabilistic model for finding better ingredient names in an automatic way.\n",
    "\n",
    "We will first look at some overall statistics about the data and then develop a probabilistic model inspired by the principle behind spellcheckers and google auto-correct as explained by [Peter Norvig](http://norvig.com/spell-correct.html)."
   ]
  },
  {
   "cell_type": "markdown",
   "metadata": {},
   "source": [
    "# Statistics about the data, at ingredient and word level"
   ]
  },
  {
   "cell_type": "markdown",
   "metadata": {},
   "source": [
    "First, let's load the data."
   ]
  },
  {
   "cell_type": "code",
   "execution_count": 1,
   "metadata": {
    "collapsed": true
   },
   "outputs": [],
   "source": [
    "import pandas as pd"
   ]
  },
  {
   "cell_type": "code",
   "execution_count": 2,
   "metadata": {
    "collapsed": true
   },
   "outputs": [],
   "source": [
    "df_train = pd.read_json('train.json')"
   ]
  },
  {
   "cell_type": "markdown",
   "metadata": {},
   "source": [
    "We will build a single list with all the ingredients found in the dataset."
   ]
  },
  {
   "cell_type": "code",
   "execution_count": 3,
   "metadata": {
    "collapsed": false
   },
   "outputs": [],
   "source": [
    "all_ingredients_text = []\n",
    "for ingredient_list in df_train.ingredients:\n",
    "    all_ingredients_text += [ing.lower() for ing in ingredient_list]"
   ]
  },
  {
   "cell_type": "markdown",
   "metadata": {},
   "source": [
    "Let's have a look at the stats. We have the following number of ingredients in our recipes:"
   ]
  },
  {
   "cell_type": "code",
   "execution_count": 4,
   "metadata": {
    "collapsed": false
   },
   "outputs": [
    {
     "data": {
      "text/plain": [
       "428275"
      ]
     },
     "execution_count": 4,
     "metadata": {},
     "output_type": "execute_result"
    }
   ],
   "source": [
    "len(all_ingredients_text)"
   ]
  },
  {
   "cell_type": "markdown",
   "metadata": {},
   "source": [
    "Among those, there are unique ingredients:"
   ]
  },
  {
   "cell_type": "code",
   "execution_count": 5,
   "metadata": {
    "collapsed": false
   },
   "outputs": [
    {
     "data": {
      "text/plain": [
       "6703"
      ]
     },
     "execution_count": 5,
     "metadata": {},
     "output_type": "execute_result"
    }
   ],
   "source": [
    "len(set(all_ingredients_text))"
   ]
  },
  {
   "cell_type": "markdown",
   "metadata": {},
   "source": [
    "How about looking at the word level? We can split each ingredient at a word boundary using a regexp:"
   ]
  },
  {
   "cell_type": "code",
   "execution_count": 6,
   "metadata": {
    "collapsed": false
   },
   "outputs": [
    {
     "data": {
      "text/plain": [
       "['KRAFT',\n",
       " 'Shredded',\n",
       " 'Pepper',\n",
       " 'Jack',\n",
       " 'Cheese',\n",
       " 'with',\n",
       " 'a',\n",
       " 'TOUCH',\n",
       " 'OF',\n",
       " 'PHILADELPHIA']"
      ]
     },
     "execution_count": 6,
     "metadata": {},
     "output_type": "execute_result"
    }
   ],
   "source": [
    "import re\n",
    "re.split(re.compile('[,. ]+'), 'KRAFT Shredded Pepper Jack Cheese with a TOUCH OF PHILADELPHIA')"
   ]
  },
  {
   "cell_type": "markdown",
   "metadata": {},
   "source": [
    "Let's do that and compute the number of words and then the unique words:"
   ]
  },
  {
   "cell_type": "code",
   "execution_count": 7,
   "metadata": {
    "collapsed": true
   },
   "outputs": [],
   "source": [
    "splitter = re.compile('[,. ]+')\n",
    "all_words = []\n",
    "for ingredient in all_ingredients_text:\n",
    "    all_words += re.split(splitter, ingredient)"
   ]
  },
  {
   "cell_type": "code",
   "execution_count": 8,
   "metadata": {
    "collapsed": false
   },
   "outputs": [
    {
     "data": {
      "text/plain": [
       "807802"
      ]
     },
     "execution_count": 8,
     "metadata": {},
     "output_type": "execute_result"
    }
   ],
   "source": [
    "len(all_words)"
   ]
  },
  {
   "cell_type": "markdown",
   "metadata": {},
   "source": [
    "How about unique ones?"
   ]
  },
  {
   "cell_type": "code",
   "execution_count": 9,
   "metadata": {
    "collapsed": false
   },
   "outputs": [
    {
     "data": {
      "text/plain": [
       "3152"
      ]
     },
     "execution_count": 9,
     "metadata": {},
     "output_type": "execute_result"
    }
   ],
   "source": [
    "len(set(all_words))"
   ]
  },
  {
   "cell_type": "markdown",
   "metadata": {},
   "source": [
    "So to conclude, our dataset consists of:\n",
    "\n",
    "- 428275 ingredients\n",
    "- among which 6714 are unique\n",
    "- all these ingredients are made of 807802 words\n",
    "- among which 3554 are unique\n",
    "\n",
    "\n",
    "Let's now turn to the problem found within the ingredients."
   ]
  },
  {
   "cell_type": "markdown",
   "metadata": {},
   "source": [
    "# An example of why ingredients are not always the right ones "
   ]
  },
  {
   "cell_type": "markdown",
   "metadata": {},
   "source": [
    "The ten longest ingredient names found in the dataset are:"
   ]
  },
  {
   "cell_type": "code",
   "execution_count": 10,
   "metadata": {
    "collapsed": false
   },
   "outputs": [
    {
     "data": {
      "text/plain": [
       "['pillsburyâ„¢ crescent recipe creationsâ® refrigerated seamless dough sheet',\n",
       " 'kraft mexican style shredded four cheese with a touch of philadelphia',\n",
       " 'bertolli vineyard premium collect marinara with burgundi wine sauc',\n",
       " 'hidden valleyâ® original ranch saladâ® dressing & seasoning mix',\n",
       " 'hidden valleyâ® farmhouse originals italian with herbs dressing',\n",
       " 'hellmannã¢â‚¬â„¢ or best food canola cholesterol free mayonnais',\n",
       " 'kraft shredded pepper jack cheese with a touch of philadelphia',\n",
       " 'condensed reduced fat reduced sodium cream of mushroom soup',\n",
       " 'condensed reduced fat reduced sodium cream of chicken soup',\n",
       " \"i can't believ it' not butter! made with olive oil spread\",\n",
       " '(10 oz.) frozen chopped spinach, thawed and squeezed dry',\n",
       " 'wish-bone light asian sesame ginger vinaigrette dressing',\n",
       " 'kraft shredded low-moisture part-skim mozzarella cheese',\n",
       " 'kraft mexican style 2% milk finely shredded four cheese',\n",
       " 'reduced fat reduced sodium tomato and herb pasta sauce',\n",
       " 'hurst family harvest chipotle lime black bean soup mix',\n",
       " 'frozen orange juice concentrate, thawed and undiluted',\n",
       " 'hidden valleyâ® original ranchâ® spicy ranch dressing',\n",
       " 'crystal farms reduced fat shredded marble jack cheese',\n",
       " \"i can't believe it's not butter!â® all purpose sticks\",\n",
       " 'sargentoâ® traditional cut shredded mozzarella cheese',\n",
       " 'hidden valleyâ® greek yogurt original ranchâ® dip mix',\n",
       " 'lipton sparkling diet green tea with strawberry kiwi',\n",
       " 'sargentoâ® artisan blendsâ® shredded parmesan cheese',\n",
       " 'sargentoâ® traditional cut shredded 4 cheese mexican',\n",
       " 'honeysuckle whiteâ® hot italian turkey sausage links',\n",
       " 'conimex woksaus specials vietnamese gember knoflook',\n",
       " 'ragu old world style sweet tomato basil pasta sauc',\n",
       " 'reduced sodium reduced fat cream of mushroom soup',\n",
       " 'frozen lemonade concentrate, thawed and undiluted',\n",
       " 'reduced fat reduced sodium cream of mushroom soup',\n",
       " 'condensed reduced fat reduced sodium tomato soup',\n",
       " 'shredded reduced fat reduced sodium swiss cheese',\n",
       " \"frank'sâ® redhotâ® original cayenne pepper sauce\",\n",
       " 'taco bellâ® home originalsâ® taco seasoning mix',\n",
       " 'soy vayâ® veri veri teriyakiâ® marinade & sauce',\n",
       " 'frozen chopped spinach, thawed and squeezed dry',\n",
       " 'kraft mexican style finely shredded four cheese',\n",
       " 'knorr reduc sodium chicken flavor bouillon cube',\n",
       " 'pillsburyâ„¢ refrigerated crescent dinner rolls',\n",
       " 'hidden valleyâ® original ranchâ® light dressing',\n",
       " '2 1/2 to 3 lb. chicken, cut into serving pieces',\n",
       " 'knorr tomato bouillon with chicken flavor cube',\n",
       " 'foster farms boneless skinless chicken breasts',\n",
       " 'pompeian canola oil and extra virgin olive oil',\n",
       " 'reduced sodium condensed cream of chicken soup',\n",
       " \"uncle ben's ready rice whole grain brown rice\",\n",
       " 'soy vayâ® toasted sesame dressing & marinade',\n",
       " 'reduced sodium italian style stewed tomatoes',\n",
       " 'kraft reduced fat shredded mozzarella cheese']"
      ]
     },
     "execution_count": 10,
     "metadata": {},
     "output_type": "execute_result"
    }
   ],
   "source": [
    "sorted(set(all_ingredients_text), key=len, reverse=True)[:50]"
   ]
  },
  {
   "cell_type": "markdown",
   "metadata": {},
   "source": [
    "What's going on here? The longest names are often not ingredient names a human would choose for describing properly the ingredients, because:\n",
    "\n",
    "- they feature brand names (for instance KRAFT, Pillsbury, Hidden Valley)\n",
    "- they are a sentence of english words instead of ingredients (\"i can't believ it' not butter! made with olive oil spread\")\n",
    "\n",
    "Ideally, we want a function that returns the human version of these ingredients. For example:\n",
    "\n",
    "```python \n",
    ">>> correct_ingredient('Pillsburyâ„¢ Crescent Recipe CreationsÂ® refrigerated seamless dough sheet')\n",
    ">>> 'Refrigerated seamless dough sheet'\n",
    "```\n",
    "\n",
    "Or\n",
    "\n",
    "```python \n",
    ">>> correct_ingredient('reduced fat reduced sodium tomato and herb pasta sauce')\n",
    ">>> 'tomato and herb pasta sauce'\n",
    "```"
   ]
  },
  {
   "cell_type": "markdown",
   "metadata": {},
   "source": [
    "# Building a simple model "
   ]
  },
  {
   "cell_type": "markdown",
   "metadata": {},
   "source": [
    "## Theory "
   ]
  },
  {
   "cell_type": "markdown",
   "metadata": {},
   "source": [
    "Judging if a part of an ingredient is useful or not is difficult. We basically want to build a language model. We can be inspired by [Peter Norvig's approach on spell correcting](http://norvig.com/spell-correct.html). I also found these good slides at Cornell University explaining the principle behind this approach, called Naive Bayes: <https://courses.cit.cornell.edu/info4300_2011fa/slides/25.pdf>.\n",
    "\n",
    "We want our correction to have the biggest probability given our input ingredient:\n",
    "\n",
    "$$\n",
    "\\DeclareMathOperator*{\\argmax}{arg\\,max}\n",
    "\\argmax_{\\text{c}}P\\left({\\text{c}\\mid\\text{ingredient}}\\right)\n",
    "$$\n",
    "\n",
    "We transform it into the following expression, according to Bayes Rule (following Peter Norvig):\n",
    "\n",
    "$$\n",
    "\\DeclareMathOperator*{\\argmax}{arg\\,max}\n",
    "\\argmax_{\\text{c}}P\\left({\\text{ingredient}\\mid\\text{c}}\\right) P(c)\n",
    "$$\n",
    "\n",
    "This leaves us with three things: \n",
    "\n",
    "- the probability of occurence of ingredient in our data $P(c)$ (this will favor commonly used ingredients)\n",
    "- the error model, which says how likely it is that the ingredient is a modified version of the correct c\n",
    "- the argmax, our control mechanism, which chooses the c that gives the best combined probability score\n"
   ]
  },
  {
   "cell_type": "markdown",
   "metadata": {},
   "source": [
    "Our error model will be that we can only delete words from our ingredient. So what we need is to generate a list of possible ingredients based on our original ingredient by substracting words. Also, we will assume that word order doesn't matter, so we can represent an ingredient by a set. So what we need to do is:"
   ]
  },
  {
   "cell_type": "markdown",
   "metadata": {},
   "source": [
    "## Modelling objects "
   ]
  },
  {
   "cell_type": "markdown",
   "metadata": {},
   "source": [
    "**Ingredients** contain a fixed number of words. We will therefore model them as **frozensets** of **words**. This will allow us to manipulate them more easily in the remaining document."
   ]
  },
  {
   "cell_type": "markdown",
   "metadata": {},
   "source": [
    "Let's define a function that creates an ingredient from a text string:"
   ]
  },
  {
   "cell_type": "code",
   "execution_count": 11,
   "metadata": {
    "collapsed": true
   },
   "outputs": [],
   "source": [
    "import re\n",
    "\n",
    "def to_ingredient(text):\n",
    "    \"Transforms text into an ingredient.\"\n",
    "    return frozenset(re.split(re.compile('[,. ]+'), text))"
   ]
  },
  {
   "cell_type": "markdown",
   "metadata": {},
   "source": [
    "Let's build a list of all our ingredients using this function:"
   ]
  },
  {
   "cell_type": "code",
   "execution_count": 12,
   "metadata": {
    "collapsed": false
   },
   "outputs": [],
   "source": [
    "all_ingredients = [to_ingredient(text) for text in all_ingredients_text]"
   ]
  },
  {
   "cell_type": "code",
   "execution_count": 13,
   "metadata": {
    "collapsed": false
   },
   "outputs": [
    {
     "data": {
      "text/plain": [
       "[frozenset({'lettuce', 'romaine'}),\n",
       " frozenset({'black', 'olives'}),\n",
       " frozenset({'grape', 'tomatoes'}),\n",
       " frozenset({'garlic'}),\n",
       " frozenset({'pepper'}),\n",
       " frozenset({'onion', 'purple'}),\n",
       " frozenset({'seasoning'}),\n",
       " frozenset({'beans', 'garbanzo'}),\n",
       " frozenset({'cheese', 'crumbles', 'feta'}),\n",
       " frozenset({'flour', 'plain'})]"
      ]
     },
     "execution_count": 13,
     "metadata": {},
     "output_type": "execute_result"
    }
   ],
   "source": [
    "all_ingredients[:10]"
   ]
  },
  {
   "cell_type": "markdown",
   "metadata": {},
   "source": [
    "Let's now implement our algorithm given our model of an ingredient."
   ]
  },
  {
   "cell_type": "markdown",
   "metadata": {},
   "source": [
    "## Implementation "
   ]
  },
  {
   "cell_type": "markdown",
   "metadata": {},
   "source": [
    "We can now write a function that generates all possible candidate ingredients that can be built from a starting ingredient, using combinations."
   ]
  },
  {
   "cell_type": "code",
   "execution_count": 14,
   "metadata": {
    "collapsed": true
   },
   "outputs": [],
   "source": [
    "import itertools\n",
    "\n",
    "def candidates(ingredient):\n",
    "    \"Returns a list of candidate ingredients obtained from the original ingredient by keeping at least one of them.\"\n",
    "    n = len(ingredient)\n",
    "    possible = []\n",
    "    for i in range(1, n + 1):\n",
    "        possible += [frozenset(combi) for combi in itertools.combinations(ingredient, i)]\n",
    "    return possible"
   ]
  },
  {
   "cell_type": "markdown",
   "metadata": {},
   "source": [
    "Let's see how this works on examples:"
   ]
  },
  {
   "cell_type": "code",
   "execution_count": 15,
   "metadata": {
    "collapsed": false
   },
   "outputs": [
    {
     "data": {
      "text/plain": [
       "[frozenset({'and'}),\n",
       " frozenset({'tomato'}),\n",
       " frozenset({'herb'}),\n",
       " frozenset({'sauce'}),\n",
       " frozenset({'pasta'}),\n",
       " frozenset({'and', 'tomato'}),\n",
       " frozenset({'and', 'herb'}),\n",
       " frozenset({'and', 'sauce'}),\n",
       " frozenset({'and', 'pasta'}),\n",
       " frozenset({'herb', 'tomato'}),\n",
       " frozenset({'sauce', 'tomato'}),\n",
       " frozenset({'pasta', 'tomato'}),\n",
       " frozenset({'herb', 'sauce'}),\n",
       " frozenset({'herb', 'pasta'}),\n",
       " frozenset({'pasta', 'sauce'}),\n",
       " frozenset({'and', 'herb', 'tomato'}),\n",
       " frozenset({'and', 'sauce', 'tomato'}),\n",
       " frozenset({'and', 'pasta', 'tomato'}),\n",
       " frozenset({'and', 'herb', 'sauce'}),\n",
       " frozenset({'and', 'herb', 'pasta'}),\n",
       " frozenset({'and', 'pasta', 'sauce'}),\n",
       " frozenset({'herb', 'sauce', 'tomato'}),\n",
       " frozenset({'herb', 'pasta', 'tomato'}),\n",
       " frozenset({'pasta', 'sauce', 'tomato'}),\n",
       " frozenset({'herb', 'pasta', 'sauce'}),\n",
       " frozenset({'and', 'herb', 'sauce', 'tomato'}),\n",
       " frozenset({'and', 'herb', 'pasta', 'tomato'}),\n",
       " frozenset({'and', 'pasta', 'sauce', 'tomato'}),\n",
       " frozenset({'and', 'herb', 'pasta', 'sauce'}),\n",
       " frozenset({'herb', 'pasta', 'sauce', 'tomato'}),\n",
       " frozenset({'and', 'herb', 'pasta', 'sauce', 'tomato'})]"
      ]
     },
     "execution_count": 15,
     "metadata": {},
     "output_type": "execute_result"
    }
   ],
   "source": [
    "candidates(to_ingredient(\"tomato and herb pasta sauce\"))"
   ]
  },
  {
   "cell_type": "code",
   "execution_count": 16,
   "metadata": {
    "collapsed": false
   },
   "outputs": [
    {
     "data": {
      "text/plain": [
       "[frozenset({'knorr'}),\n",
       " frozenset({'flavor'}),\n",
       " frozenset({'bouillon'}),\n",
       " frozenset({'chicken'}),\n",
       " frozenset({'cube'}),\n",
       " frozenset({'flavor', 'knorr'}),\n",
       " frozenset({'bouillon', 'knorr'}),\n",
       " frozenset({'chicken', 'knorr'}),\n",
       " frozenset({'cube', 'knorr'}),\n",
       " frozenset({'bouillon', 'flavor'}),\n",
       " frozenset({'chicken', 'flavor'}),\n",
       " frozenset({'cube', 'flavor'}),\n",
       " frozenset({'bouillon', 'chicken'}),\n",
       " frozenset({'bouillon', 'cube'}),\n",
       " frozenset({'chicken', 'cube'}),\n",
       " frozenset({'bouillon', 'flavor', 'knorr'}),\n",
       " frozenset({'chicken', 'flavor', 'knorr'}),\n",
       " frozenset({'cube', 'flavor', 'knorr'}),\n",
       " frozenset({'bouillon', 'chicken', 'knorr'}),\n",
       " frozenset({'bouillon', 'cube', 'knorr'}),\n",
       " frozenset({'chicken', 'cube', 'knorr'}),\n",
       " frozenset({'bouillon', 'chicken', 'flavor'}),\n",
       " frozenset({'bouillon', 'cube', 'flavor'}),\n",
       " frozenset({'chicken', 'cube', 'flavor'}),\n",
       " frozenset({'bouillon', 'chicken', 'cube'}),\n",
       " frozenset({'bouillon', 'chicken', 'flavor', 'knorr'}),\n",
       " frozenset({'bouillon', 'cube', 'flavor', 'knorr'}),\n",
       " frozenset({'chicken', 'cube', 'flavor', 'knorr'}),\n",
       " frozenset({'bouillon', 'chicken', 'cube', 'knorr'}),\n",
       " frozenset({'bouillon', 'chicken', 'cube', 'flavor'}),\n",
       " frozenset({'bouillon', 'chicken', 'cube', 'flavor', 'knorr'})]"
      ]
     },
     "execution_count": 16,
     "metadata": {},
     "output_type": "execute_result"
    }
   ],
   "source": [
    "candidates(to_ingredient('knorr chicken flavor bouillon cube'))"
   ]
  },
  {
   "cell_type": "markdown",
   "metadata": {},
   "source": [
    "The final step is to compute probabilities of candidate words. This is done using a counter of ingredients: the higher the count, the higher its probability."
   ]
  },
  {
   "cell_type": "code",
   "execution_count": 17,
   "metadata": {
    "collapsed": false
   },
   "outputs": [
    {
     "data": {
      "text/plain": [
       "[(frozenset({'salt'}), 18049),\n",
       " (frozenset({'oil', 'olive'}), 7972),\n",
       " (frozenset({'onions'}), 7972),\n",
       " (frozenset({'water'}), 7457),\n",
       " (frozenset({'garlic'}), 7380),\n",
       " (frozenset({'sugar'}), 6434),\n",
       " (frozenset({'cloves', 'garlic'}), 6237),\n",
       " (frozenset({'butter'}), 4848),\n",
       " (frozenset({'black', 'ground', 'pepper'}), 4785),\n",
       " (frozenset({'all-purpose', 'flour'}), 4632)]"
      ]
     },
     "execution_count": 17,
     "metadata": {},
     "output_type": "execute_result"
    }
   ],
   "source": [
    "from collections import Counter\n",
    "\n",
    "c = Counter(all_ingredients)\n",
    "\n",
    "c.most_common(10)"
   ]
  },
  {
   "cell_type": "markdown",
   "metadata": {},
   "source": [
    "Now we're all set to compute the best candidate for a given input.\n",
    "\n",
    "First, let's build the probability evaluation for a possible ingredient using a default dict (so that we don't end up asking for an ingredient that doesn't exist):"
   ]
  },
  {
   "cell_type": "code",
   "execution_count": 18,
   "metadata": {
    "collapsed": false
   },
   "outputs": [],
   "source": [
    "from collections import defaultdict\n",
    "probability = defaultdict(lambda: 1, c.most_common())"
   ]
  },
  {
   "cell_type": "markdown",
   "metadata": {},
   "source": [
    "Let's test the probability:"
   ]
  },
  {
   "cell_type": "code",
   "execution_count": 19,
   "metadata": {
    "collapsed": false
   },
   "outputs": [
    {
     "data": {
      "text/plain": [
       "1"
      ]
     },
     "execution_count": 19,
     "metadata": {},
     "output_type": "execute_result"
    }
   ],
   "source": [
    "probability[to_ingredient('pasta and herb')]"
   ]
  },
  {
   "cell_type": "code",
   "execution_count": 20,
   "metadata": {
    "collapsed": false
   },
   "outputs": [
    {
     "data": {
      "text/plain": [
       "867"
      ]
     },
     "execution_count": 20,
     "metadata": {},
     "output_type": "execute_result"
    }
   ],
   "source": [
    "probability[to_ingredient('tomato sauce')]"
   ]
  },
  {
   "cell_type": "markdown",
   "metadata": {},
   "source": [
    "Seems like what we expect: tomato sauce has a higher probability than pasta and herb, which doesn't appear in our initial words."
   ]
  },
  {
   "cell_type": "markdown",
   "metadata": {},
   "source": [
    "Let's now write the function that yields the most probable replacement ingredient among all possible candidates."
   ]
  },
  {
   "cell_type": "code",
   "execution_count": 21,
   "metadata": {
    "collapsed": true
   },
   "outputs": [],
   "source": [
    "def best_replacement(ingredient):\n",
    "    \"Computes best replacement ingredient for a given input.\"\n",
    "    return max(candidates(ingredient), key=lambda c: probability[c])"
   ]
  },
  {
   "cell_type": "markdown",
   "metadata": {},
   "source": [
    "Let's now look at some examples:"
   ]
  },
  {
   "cell_type": "code",
   "execution_count": 22,
   "metadata": {
    "collapsed": false
   },
   "outputs": [
    {
     "data": {
      "text/plain": [
       "frozenset({'sauce', 'tomato'})"
      ]
     },
     "execution_count": 22,
     "metadata": {},
     "output_type": "execute_result"
    }
   ],
   "source": [
    "best_replacement(to_ingredient(\"tomato sauce\"))"
   ]
  },
  {
   "cell_type": "code",
   "execution_count": 23,
   "metadata": {
    "collapsed": false
   },
   "outputs": [
    {
     "data": {
      "text/plain": [
       "frozenset({'pasta'})"
      ]
     },
     "execution_count": 23,
     "metadata": {},
     "output_type": "execute_result"
    }
   ],
   "source": [
    "best_replacement(to_ingredient(\"pasta and herb\"))"
   ]
  },
  {
   "cell_type": "code",
   "execution_count": 24,
   "metadata": {
    "collapsed": false
   },
   "outputs": [
    {
     "data": {
      "text/plain": [
       "frozenset({'cheese'})"
      ]
     },
     "execution_count": 24,
     "metadata": {},
     "output_type": "execute_result"
    }
   ],
   "source": [
    "best_replacement(to_ingredient(\"kraft mexican style shredded four cheese with a touch of philadelphia\"))"
   ]
  },
  {
   "cell_type": "markdown",
   "metadata": {},
   "source": [
    "These examples all look good. What about the less frequent ingredients we had in our data?"
   ]
  },
  {
   "cell_type": "code",
   "execution_count": 25,
   "metadata": {
    "collapsed": true
   },
   "outputs": [],
   "source": [
    "def frozen_repr(fs):\n",
    "    \"Better represenation for a frozenset of strings.\"\n",
    "    return \" \".join(fs)"
   ]
  },
  {
   "cell_type": "code",
   "execution_count": 26,
   "metadata": {
    "collapsed": false
   },
   "outputs": [
    {
     "name": "stdout",
     "output_type": "stream",
     "text": [
      "original: pillsburyâ„¢ crescent recipe creationsâ® refrigerated seamless dough sheet, better: dough\n",
      "original: kraft mexican style shredded four cheese with a touch of philadelphia, better: cheese\n",
      "original: bertolli vineyard premium collect marinara with burgundi wine sauc, better: wine\n",
      "original: hidden valleyâ® original ranch saladâ® dressing & seasoning mix, better: seasoning\n",
      "original: hidden valleyâ® farmhouse originals italian with herbs dressing, better: herbs\n",
      "original: hellmannã¢â‚¬â„¢ or best food canola cholesterol free mayonnais, better: canola\n",
      "original: kraft shredded pepper jack cheese with a touch of philadelphia, better: pepper\n",
      "original: condensed reduced fat reduced sodium cream of mushroom soup, better: cream\n",
      "original: condensed reduced fat reduced sodium cream of chicken soup, better: chicken\n",
      "original: i can't believ it' not butter! made with olive oil spread, better: olive oil\n",
      "original: (10 oz.) frozen chopped spinach, thawed and squeezed dry, better: spinach\n",
      "original: wish-bone light asian sesame ginger vinaigrette dressing, better: ginger\n",
      "original: kraft shredded low-moisture part-skim mozzarella cheese, better: cheese mozzarella shredded\n",
      "original: kraft mexican style 2% milk finely shredded four cheese, better: milk\n",
      "original: reduced fat reduced sodium tomato and herb pasta sauce, better: tomato sauce\n",
      "original: hurst family harvest chipotle lime black bean soup mix, better: lime\n",
      "original: frozen orange juice concentrate, thawed and undiluted, better: orange\n",
      "original: hidden valleyâ® original ranchâ® spicy ranch dressing, better: ranch dressing\n",
      "original: crystal farms reduced fat shredded marble jack cheese, better: cheese\n",
      "original: i can't believe it's not butter!â® all purpose sticks, better: can't i believe sticks it's purpose butter!â® all not\n",
      "original: sargentoâ® traditional cut shredded mozzarella cheese, better: cheese mozzarella shredded\n",
      "original: hidden valleyâ® greek yogurt original ranchâ® dip mix, better: greek yogurt\n",
      "original: lipton sparkling diet green tea with strawberry kiwi, better: kiwi\n",
      "original: sargentoâ® artisan blendsâ® shredded parmesan cheese, better: cheese parmesan\n",
      "original: sargentoâ® traditional cut shredded 4 cheese mexican, better: cheese\n",
      "original: honeysuckle whiteâ® hot italian turkey sausage links, better: italian sausage\n",
      "original: conimex woksaus specials vietnamese gember knoflook, better: gember\n",
      "original: ragu old world style sweet tomato basil pasta sauc, better: pasta\n",
      "original: reduced sodium reduced fat cream of mushroom soup, better: cream\n",
      "original: frozen lemonade concentrate, thawed and undiluted, better: concentrate lemonade frozen\n",
      "original: reduced fat reduced sodium cream of mushroom soup, better: cream\n",
      "original: condensed reduced fat reduced sodium tomato soup, better: fat\n",
      "original: shredded reduced fat reduced sodium swiss cheese, better: cheese\n",
      "original: frank'sâ® redhotâ® original cayenne pepper sauce, better: pepper\n",
      "original: taco bellâ® home originalsâ® taco seasoning mix, better: seasoning taco\n",
      "original: soy vayâ® veri veri teriyakiâ® marinade & sauce, better: soy sauce\n",
      "original: frozen chopped spinach, thawed and squeezed dry, better: spinach\n",
      "original: kraft mexican style finely shredded four cheese, better: cheese\n",
      "original: knorr reduc sodium chicken flavor bouillon cube, better: chicken\n",
      "original: pillsburyâ„¢ refrigerated crescent dinner rolls, better: rolls\n",
      "original: hidden valleyâ® original ranchâ® light dressing, better: dressing\n",
      "original: 2 1/2 to 3 lb. chicken, cut into serving pieces, better: chicken\n",
      "original: knorr tomato bouillon with chicken flavor cube, better: chicken\n",
      "original: foster farms boneless skinless chicken breasts, better: skinless breasts boneless chicken\n",
      "original: pompeian canola oil and extra virgin olive oil, better: olive oil\n",
      "original: reduced sodium condensed cream of chicken soup, better: chicken\n",
      "original: uncle ben's ready rice whole grain brown rice, better: rice\n",
      "original: soy vayâ® toasted sesame dressing & marinade, better: marinade\n",
      "original: reduced sodium italian style stewed tomatoes, better: tomatoes\n",
      "original: kraft reduced fat shredded mozzarella cheese, better: cheese mozzarella shredded\n"
     ]
    }
   ],
   "source": [
    "for text in sorted(set(all_ingredients_text), key=len, reverse=True)[:50]:\n",
    "    print(\"original: {}, better: {}\".format(text, \" \".join(best_replacement(to_ingredient(text)))))"
   ]
  },
  {
   "cell_type": "markdown",
   "metadata": {},
   "source": [
    "This is interesting: a lot of the ingredients get well simplified, which is exactly what we want."
   ]
  },
  {
   "cell_type": "markdown",
   "metadata": {},
   "source": [
    "However, this model fails to take into account one thing: if we leave out too many ingredients in our replacement ingredient, the distance to the original ingredient increases. This is analogous to Peter Norvig's spell checker, where he first considers words that have only one modification, then two modifications, then three compared to the original word. Obviously this approach also has flaws, but let's try it on our ingredients."
   ]
  },
  {
   "cell_type": "markdown",
   "metadata": {},
   "source": [
    "# Building a slightly more elaborate model"
   ]
  },
  {
   "cell_type": "markdown",
   "metadata": {},
   "source": [
    "The only thing we have to change is the way our candidates function works. Instead of generating all possibilites it should return only the ones that exist in our vocabulary of recipes with the least possible number of modifications. Here the modifications can be thought of leaving out a given number of words."
   ]
  },
  {
   "cell_type": "code",
   "execution_count": 27,
   "metadata": {
    "collapsed": true
   },
   "outputs": [],
   "source": [
    "def candidates_sorted(ingredient, vocabulary):\n",
    "    \"Returns candidate ingredients obtained from the original ingredient by substraction, largest number of ingredients first.\"\n",
    "    n = len(ingredient)\n",
    "    for i in range(n - 1, 1, -1):\n",
    "        possible = [frozenset(combi) for combi in itertools.combinations(ingredient, i) \n",
    "                    if frozenset(combi) in vocabulary]\n",
    "        if len(possible) > 0:\n",
    "            return possible\n",
    "    return [ingredient]"
   ]
  },
  {
   "cell_type": "markdown",
   "metadata": {},
   "source": [
    "We will define our vocabulary by the already existing counted ingredients:"
   ]
  },
  {
   "cell_type": "code",
   "execution_count": 28,
   "metadata": {
    "collapsed": true
   },
   "outputs": [],
   "source": [
    "vocabulary = dict(c.most_common())"
   ]
  },
  {
   "cell_type": "code",
   "execution_count": 29,
   "metadata": {
    "collapsed": false
   },
   "outputs": [
    {
     "data": {
      "text/plain": [
       "[frozenset({'cheddar', 'mature'}),\n",
       " frozenset({'halibut'}),\n",
       " frozenset({'jeera', 'shahi'}),\n",
       " frozenset({'fat', 'low', 'natural', 'yoghurt'}),\n",
       " frozenset({'salt', 'seasoning'}),\n",
       " frozenset({'comfort', 'southern'}),\n",
       " frozenset({'grape', 'leaves'}),\n",
       " frozenset({'pasta', 'shells', 'wheat', 'whole'}),\n",
       " frozenset({'grain', 'mustard', 'whole'}),\n",
       " frozenset({'knorr', 'leek', 'mix', 'recip'})]"
      ]
     },
     "execution_count": 29,
     "metadata": {},
     "output_type": "execute_result"
    }
   ],
   "source": [
    "list(vocabulary.keys())[:10]"
   ]
  },
  {
   "cell_type": "markdown",
   "metadata": {},
   "source": [
    "Let's test our function on a few examples:"
   ]
  },
  {
   "cell_type": "code",
   "execution_count": 30,
   "metadata": {
    "collapsed": false
   },
   "outputs": [
    {
     "data": {
      "text/plain": [
       "[frozenset({'clam', 'juice'})]"
      ]
     },
     "execution_count": 30,
     "metadata": {},
     "output_type": "execute_result"
    }
   ],
   "source": [
    "candidates_sorted(to_ingredient(\"bottled clam juice\"), vocabulary)"
   ]
  },
  {
   "cell_type": "code",
   "execution_count": 31,
   "metadata": {
    "collapsed": false
   },
   "outputs": [
    {
     "data": {
      "text/plain": [
       "[frozenset({'bouillon', 'chicken', 'flavor', 'knorr', 'reduc', 'sodium'})]"
      ]
     },
     "execution_count": 31,
     "metadata": {},
     "output_type": "execute_result"
    }
   ],
   "source": [
    "candidates_sorted(to_ingredient('knorr reduc sodium chicken flavor bouillon cube'), vocabulary)"
   ]
  },
  {
   "cell_type": "code",
   "execution_count": 32,
   "metadata": {
    "collapsed": false
   },
   "outputs": [
    {
     "data": {
      "text/plain": [
       "[frozenset({'dressing', 'ranch'})]"
      ]
     },
     "execution_count": 32,
     "metadata": {},
     "output_type": "execute_result"
    }
   ],
   "source": [
    "candidates_sorted(to_ingredient('hidden valley original ranch spicy ranch dressing'), vocabulary)"
   ]
  },
  {
   "cell_type": "markdown",
   "metadata": {},
   "source": [
    "As we see, there are a couple of improvements in the sense that some words have been discarded, while keeping the biggest number of words."
   ]
  },
  {
   "cell_type": "markdown",
   "metadata": {},
   "source": [
    "Let's now write a new function for computing the best replacement:"
   ]
  },
  {
   "cell_type": "code",
   "execution_count": 33,
   "metadata": {
    "collapsed": true
   },
   "outputs": [],
   "source": [
    "def best_replacement_sorted(ingredient, vocabulary):\n",
    "    \"Computes best replacement ingredient for a given input.\"\n",
    "    return max(candidates_sorted(ingredient, vocabulary), key=lambda w: vocabulary[w])"
   ]
  },
  {
   "cell_type": "markdown",
   "metadata": {},
   "source": [
    "And let's apply this to our lesser used ingredients:"
   ]
  },
  {
   "cell_type": "code",
   "execution_count": 34,
   "metadata": {
    "collapsed": false
   },
   "outputs": [
    {
     "name": "stdout",
     "output_type": "stream",
     "text": [
      "original: pillsburyâ„¢ crescent recipe creationsâ® refrigerated seamless dough sheet, better: refrigerated seamless crescent dough\n",
      "original: kraft mexican style shredded four cheese with a touch of philadelphia, better: cheese shredded\n",
      "original: bertolli vineyard premium collect marinara with burgundi wine sauc, better: marinara premium vineyard burgundi collect bertolli wine sauc with\n",
      "original: hidden valleyâ® original ranch saladâ® dressing & seasoning mix, better: ranch dressing\n",
      "original: hidden valleyâ® farmhouse originals italian with herbs dressing, better: herbs italian\n",
      "original: hellmannã¢â‚¬â„¢ or best food canola cholesterol free mayonnais, better: mayonnais canola free food hellmannã¢â‚¬â„¢ or cholesterol best\n",
      "original: kraft shredded pepper jack cheese with a touch of philadelphia, better: kraft shredded pepper cheese jack\n",
      "original: condensed reduced fat reduced sodium cream of mushroom soup, better: cream sodium soup mushroom of fat reduced\n",
      "original: condensed reduced fat reduced sodium cream of chicken soup, better: cream sodium chicken soup of reduced condensed\n",
      "original: i can't believ it' not butter! made with olive oil spread, better: olive oil\n",
      "original: (10 oz.) frozen chopped spinach, thawed and squeezed dry, better: squeezed and thawed dry frozen chopped spinach\n",
      "original: wish-bone light asian sesame ginger vinaigrette dressing, better: vinaigrette dressing\n",
      "original: kraft shredded low-moisture part-skim mozzarella cheese, better: kraft shredded mozzarella cheese\n",
      "original: kraft mexican style 2% milk finely shredded four cheese, better: kraft finely mexican style four cheese shredded\n",
      "original: reduced fat reduced sodium tomato and herb pasta sauce, better: tomato sauce\n",
      "original: hurst family harvest chipotle lime black bean soup mix, better: mix soup bean\n",
      "original: frozen orange juice concentrate, thawed and undiluted, better: orange concentrate juice frozen\n",
      "original: hidden valleyâ® original ranchâ® spicy ranch dressing, better: valleyâ® hidden ranchâ® original dressing\n",
      "original: crystal farms reduced fat shredded marble jack cheese, better: cheese fat reduced shredded\n",
      "original: i can't believe it's not butter!â® all purpose sticks, better: can't i believe it's sticks purpose butter!â® all not\n",
      "original: sargentoâ® traditional cut shredded mozzarella cheese, better: cheese mozzarella shredded\n",
      "original: hidden valleyâ® greek yogurt original ranchâ® dip mix, better: greek yogurt\n",
      "original: lipton sparkling diet green tea with strawberry kiwi, better: tea green\n",
      "original: sargentoâ® artisan blendsâ® shredded parmesan cheese, better: cheese shredded parmesan\n",
      "original: sargentoâ® traditional cut shredded 4 cheese mexican, better: cheese shredded\n",
      "original: honeysuckle whiteâ® hot italian turkey sausage links, better: links turkey italian hot sausage\n",
      "original: conimex woksaus specials vietnamese gember knoflook, better: gember woksaus knoflook vietnamese specials conimex\n",
      "original: ragu old world style sweet tomato basil pasta sauc, better: old pasta world ragu style sauc\n",
      "original: reduced sodium reduced fat cream of mushroom soup, better: cream sodium soup mushroom of reduced\n",
      "original: frozen lemonade concentrate, thawed and undiluted, better: concentrate lemonade frozen\n",
      "original: reduced fat reduced sodium cream of mushroom soup, better: cream sodium soup mushroom of reduced\n",
      "original: condensed reduced fat reduced sodium tomato soup, better: tomato soup condensed\n",
      "original: shredded reduced fat reduced sodium swiss cheese, better: cheese fat swiss reduced\n",
      "original: frank'sâ® redhotâ® original cayenne pepper sauce, better: cayenne pepper sauce\n",
      "original: taco bellâ® home originalsâ® taco seasoning mix, better: seasoning taco mix\n",
      "original: soy vayâ® veri veri teriyakiâ® marinade & sauce, better: soy sauce\n",
      "original: frozen chopped spinach, thawed and squeezed dry, better: frozen chopped spinach\n",
      "original: kraft mexican style finely shredded four cheese, better: cheese shredded\n",
      "original: knorr reduc sodium chicken flavor bouillon cube, better: sodium chicken knorr flavor bouillon reduc\n",
      "original: pillsburyâ„¢ refrigerated crescent dinner rolls, better: refrigerated rolls crescent\n",
      "original: hidden valleyâ® original ranchâ® light dressing, better: valleyâ® hidden ranchâ® original dressing\n",
      "original: 2 1/2 to 3 lb. chicken, cut into serving pieces, better: pieces chicken\n",
      "original: knorr tomato bouillon with chicken flavor cube, better: chicken knorr flavor bouillon tomato with\n",
      "original: foster farms boneless skinless chicken breasts, better: skinless breasts boneless chicken\n",
      "original: pompeian canola oil and extra virgin olive oil, better: olive oil virgin\n",
      "original: reduced sodium condensed cream of chicken soup, better: cream of soup chicken condensed\n",
      "original: uncle ben's ready rice whole grain brown rice, better: whole rice grain\n",
      "original: soy vayâ® toasted sesame dressing & marinade, better: marinade soy\n",
      "original: reduced sodium italian style stewed tomatoes, better: style italian stewed tomatoes\n",
      "original: kraft reduced fat shredded mozzarella cheese, better: cheese fat reduced shredded\n"
     ]
    }
   ],
   "source": [
    "for text in sorted(set(all_ingredients_text), key=len, reverse=True)[:50]:\n",
    "    print(\"original: {}, better: {}\".format(text, \" \".join(best_replacement_sorted(to_ingredient(text), vocabulary))))"
   ]
  },
  {
   "cell_type": "markdown",
   "metadata": {},
   "source": [
    "This result is interesting: the refined labels given here are much better than the originals. Hopefully, this leads us to a better ingredient names, leading to better classification. To assert this, we'll train again on the dataset and see if we can expect some improvement compared to our previous model."
   ]
  },
  {
   "cell_type": "markdown",
   "metadata": {},
   "source": [
    "# Training a machine learning model"
   ]
  },
  {
   "cell_type": "markdown",
   "metadata": {},
   "source": [
    "First, let's train the [previous model](http://flothesof.github.io/kaggle-whats-cooking-machine-learning.html):"
   ]
  },
  {
   "cell_type": "code",
   "execution_count": 35,
   "metadata": {
    "collapsed": false
   },
   "outputs": [],
   "source": [
    "df_train['all_ingredients'] = df_train['ingredients'].map(\";\".join)\n",
    "from sklearn.feature_extraction.text import CountVectorizer\n",
    "cv = CountVectorizer()\n",
    "X = cv.fit_transform(df_train['all_ingredients'].values)\n",
    "from sklearn.preprocessing import LabelEncoder\n",
    "enc = LabelEncoder()\n",
    "y = enc.fit_transform(df_train.cuisine)\n",
    "from sklearn.cross_validation import train_test_split\n",
    "X_train, X_test, y_train, y_test = train_test_split(X, y, test_size=0.2)"
   ]
  },
  {
   "cell_type": "markdown",
   "metadata": {},
   "source": [
    "Let's evaluate the accuracy of our model by doing a K-fold cross validation (training the model several times and check the error each time)."
   ]
  },
  {
   "cell_type": "code",
   "execution_count": 36,
   "metadata": {
    "collapsed": true
   },
   "outputs": [],
   "source": [
    "from sklearn.cross_validation import cross_val_score, KFold\n",
    "from scipy.stats import sem\n",
    "import numpy as np\n",
    "def evaluate_cross_validation(clf, X, y, K):\n",
    "    # create a k-fold cross validation iterator\n",
    "    cv = KFold(len(y), K, shuffle=True, random_state=0)\n",
    "    # by default the score used is the one returned by score method of the estimator (accuracy)\n",
    "    scores = cross_val_score(clf, X, y, cv=cv)\n",
    "    print (scores)\n",
    "    print (\"Mean score: {0:.3f} (+/-{1:.3f})\".format(\n",
    "        np.mean(scores), sem(scores)))"
   ]
  },
  {
   "cell_type": "code",
   "execution_count": 37,
   "metadata": {
    "collapsed": false
   },
   "outputs": [
    {
     "name": "stdout",
     "output_type": "stream",
     "text": [
      "[ 0.79145192  0.78868636  0.78252671  0.79044626  0.78124214]\n",
      "Mean score: 0.787 (+/-0.002)\n"
     ]
    }
   ],
   "source": [
    "from sklearn.linear_model import LogisticRegression\n",
    "logistic = LogisticRegression()\n",
    "evaluate_cross_validation(logistic, X, y, 5)"
   ]
  },
  {
   "cell_type": "markdown",
   "metadata": {
    "collapsed": true
   },
   "source": [
    "Now that we have an initial evaluation of our algorithm, let's feed it our better vectors. All we have to do is rebuild the X matrix using our new feature ingredients:"
   ]
  },
  {
   "cell_type": "code",
   "execution_count": 47,
   "metadata": {
    "collapsed": false
   },
   "outputs": [],
   "source": [
    "def improve_ingredients(ingredient_list):\n",
    "    \"Improves the list of ingredients given as input.\"\n",
    "    better_ingredients = []\n",
    "    for ingredient in ingredient_list:\n",
    "        better_ingredients.append(\" \".join(best_replacement_sorted(to_ingredient(ingredient.lower()), vocabulary)))\n",
    "    return \";\".join(better_ingredients)"
   ]
  },
  {
   "cell_type": "code",
   "execution_count": 48,
   "metadata": {
    "collapsed": false
   },
   "outputs": [],
   "source": [
    "df_train['better_ingredients'] = df_train['ingredients'].map(improve_ingredients)"
   ]
  },
  {
   "cell_type": "code",
   "execution_count": 53,
   "metadata": {
    "collapsed": false
   },
   "outputs": [
    {
     "data": {
      "text/html": [
       "<div>\n",
       "<table border=\"1\" class=\"dataframe\">\n",
       "  <thead>\n",
       "    <tr style=\"text-align: right;\">\n",
       "      <th></th>\n",
       "      <th>cuisine</th>\n",
       "      <th>id</th>\n",
       "      <th>ingredients</th>\n",
       "      <th>all_ingredients</th>\n",
       "      <th>better_ingredients</th>\n",
       "    </tr>\n",
       "  </thead>\n",
       "  <tbody>\n",
       "    <tr>\n",
       "      <th>0</th>\n",
       "      <td>greek</td>\n",
       "      <td>10259</td>\n",
       "      <td>[romaine lettuce, black olives, grape tomatoes...</td>\n",
       "      <td>romaine lettuce;black olives;grape tomatoes;ga...</td>\n",
       "      <td>romaine lettuce;olives black;grape tomatoes;ga...</td>\n",
       "    </tr>\n",
       "    <tr>\n",
       "      <th>1</th>\n",
       "      <td>southern_us</td>\n",
       "      <td>25693</td>\n",
       "      <td>[plain flour, ground pepper, salt, tomatoes, g...</td>\n",
       "      <td>plain flour;ground pepper;salt;tomatoes;ground...</td>\n",
       "      <td>flour plain;pepper ground;salt;tomatoes;pepper...</td>\n",
       "    </tr>\n",
       "    <tr>\n",
       "      <th>2</th>\n",
       "      <td>filipino</td>\n",
       "      <td>20130</td>\n",
       "      <td>[eggs, pepper, salt, mayonaise, cooking oil, g...</td>\n",
       "      <td>eggs;pepper;salt;mayonaise;cooking oil;green c...</td>\n",
       "      <td>eggs;pepper;salt;mayonaise;oil cooking;green c...</td>\n",
       "    </tr>\n",
       "    <tr>\n",
       "      <th>3</th>\n",
       "      <td>indian</td>\n",
       "      <td>22213</td>\n",
       "      <td>[water, vegetable oil, wheat, salt]</td>\n",
       "      <td>water;vegetable oil;wheat;salt</td>\n",
       "      <td>water;oil vegetable;wheat;salt</td>\n",
       "    </tr>\n",
       "    <tr>\n",
       "      <th>4</th>\n",
       "      <td>indian</td>\n",
       "      <td>13162</td>\n",
       "      <td>[black pepper, shallots, cornflour, cayenne pe...</td>\n",
       "      <td>black pepper;shallots;cornflour;cayenne pepper...</td>\n",
       "      <td>pepper black;shallots;cornflour;cayenne pepper...</td>\n",
       "    </tr>\n",
       "    <tr>\n",
       "      <th>5</th>\n",
       "      <td>jamaican</td>\n",
       "      <td>6602</td>\n",
       "      <td>[plain flour, sugar, butter, eggs, fresh ginge...</td>\n",
       "      <td>plain flour;sugar;butter;eggs;fresh ginger roo...</td>\n",
       "      <td>flour plain;sugar;butter;eggs;fresh ginger;sal...</td>\n",
       "    </tr>\n",
       "    <tr>\n",
       "      <th>6</th>\n",
       "      <td>spanish</td>\n",
       "      <td>42779</td>\n",
       "      <td>[olive oil, salt, medium shrimp, pepper, garli...</td>\n",
       "      <td>olive oil;salt;medium shrimp;pepper;garlic;cho...</td>\n",
       "      <td>olive oil;salt;shrimp medium;pepper;garlic;cho...</td>\n",
       "    </tr>\n",
       "    <tr>\n",
       "      <th>7</th>\n",
       "      <td>italian</td>\n",
       "      <td>3735</td>\n",
       "      <td>[sugar, pistachio nuts, white almond bark, flo...</td>\n",
       "      <td>sugar;pistachio nuts;white almond bark;flour;v...</td>\n",
       "      <td>sugar;nuts pistachio;bark almond white;flour;e...</td>\n",
       "    </tr>\n",
       "    <tr>\n",
       "      <th>8</th>\n",
       "      <td>mexican</td>\n",
       "      <td>16903</td>\n",
       "      <td>[olive oil, purple onion, fresh pineapple, por...</td>\n",
       "      <td>olive oil;purple onion;fresh pineapple;pork;po...</td>\n",
       "      <td>olive oil;purple onion;fresh pineapple;pork;pe...</td>\n",
       "    </tr>\n",
       "    <tr>\n",
       "      <th>9</th>\n",
       "      <td>italian</td>\n",
       "      <td>12734</td>\n",
       "      <td>[chopped tomatoes, fresh basil, garlic, extra-...</td>\n",
       "      <td>chopped tomatoes;fresh basil;garlic;extra-virg...</td>\n",
       "      <td>chopped tomatoes;fresh basil;garlic;olive oil;...</td>\n",
       "    </tr>\n",
       "  </tbody>\n",
       "</table>\n",
       "</div>"
      ],
      "text/plain": [
       "       cuisine     id                                        ingredients  \\\n",
       "0        greek  10259  [romaine lettuce, black olives, grape tomatoes...   \n",
       "1  southern_us  25693  [plain flour, ground pepper, salt, tomatoes, g...   \n",
       "2     filipino  20130  [eggs, pepper, salt, mayonaise, cooking oil, g...   \n",
       "3       indian  22213                [water, vegetable oil, wheat, salt]   \n",
       "4       indian  13162  [black pepper, shallots, cornflour, cayenne pe...   \n",
       "5     jamaican   6602  [plain flour, sugar, butter, eggs, fresh ginge...   \n",
       "6      spanish  42779  [olive oil, salt, medium shrimp, pepper, garli...   \n",
       "7      italian   3735  [sugar, pistachio nuts, white almond bark, flo...   \n",
       "8      mexican  16903  [olive oil, purple onion, fresh pineapple, por...   \n",
       "9      italian  12734  [chopped tomatoes, fresh basil, garlic, extra-...   \n",
       "\n",
       "                                     all_ingredients  \\\n",
       "0  romaine lettuce;black olives;grape tomatoes;ga...   \n",
       "1  plain flour;ground pepper;salt;tomatoes;ground...   \n",
       "2  eggs;pepper;salt;mayonaise;cooking oil;green c...   \n",
       "3                     water;vegetable oil;wheat;salt   \n",
       "4  black pepper;shallots;cornflour;cayenne pepper...   \n",
       "5  plain flour;sugar;butter;eggs;fresh ginger roo...   \n",
       "6  olive oil;salt;medium shrimp;pepper;garlic;cho...   \n",
       "7  sugar;pistachio nuts;white almond bark;flour;v...   \n",
       "8  olive oil;purple onion;fresh pineapple;pork;po...   \n",
       "9  chopped tomatoes;fresh basil;garlic;extra-virg...   \n",
       "\n",
       "                                  better_ingredients  \n",
       "0  romaine lettuce;olives black;grape tomatoes;ga...  \n",
       "1  flour plain;pepper ground;salt;tomatoes;pepper...  \n",
       "2  eggs;pepper;salt;mayonaise;oil cooking;green c...  \n",
       "3                     water;oil vegetable;wheat;salt  \n",
       "4  pepper black;shallots;cornflour;cayenne pepper...  \n",
       "5  flour plain;sugar;butter;eggs;fresh ginger;sal...  \n",
       "6  olive oil;salt;shrimp medium;pepper;garlic;cho...  \n",
       "7  sugar;nuts pistachio;bark almond white;flour;e...  \n",
       "8  olive oil;purple onion;fresh pineapple;pork;pe...  \n",
       "9  chopped tomatoes;fresh basil;garlic;olive oil;...  "
      ]
     },
     "execution_count": 53,
     "metadata": {},
     "output_type": "execute_result"
    }
   ],
   "source": [
    "df_train.head(10)"
   ]
  },
  {
   "cell_type": "markdown",
   "metadata": {},
   "source": [
    "Let's now see the performance of this new version of the ingredients."
   ]
  },
  {
   "cell_type": "code",
   "execution_count": 63,
   "metadata": {
    "collapsed": true
   },
   "outputs": [],
   "source": [
    "X = cv.fit_transform(df_train['better_ingredients'].values)"
   ]
  },
  {
   "cell_type": "code",
   "execution_count": 52,
   "metadata": {
    "collapsed": false
   },
   "outputs": [
    {
     "name": "stdout",
     "output_type": "stream",
     "text": [
      "[ 0.78680075  0.7859208   0.7840352   0.78378378  0.7760875 ]\n",
      "Mean score: 0.783 (+/-0.002)\n"
     ]
    }
   ],
   "source": [
    "evaluate_cross_validation(logistic, X, y, 5)"
   ]
  },
  {
   "cell_type": "markdown",
   "metadata": {},
   "source": [
    "Well that's too bad... Our \"clever\" ingredients don't improve our score on the test set. Still let's try to submit a solution given that the test data might have some other issues (unknown ingredients that our method can simplify...)."
   ]
  },
  {
   "cell_type": "code",
   "execution_count": 54,
   "metadata": {
    "collapsed": true
   },
   "outputs": [],
   "source": [
    "df_test = pd.read_json('test.json')"
   ]
  },
  {
   "cell_type": "code",
   "execution_count": 55,
   "metadata": {
    "collapsed": false
   },
   "outputs": [
    {
     "ename": "KeyError",
     "evalue": "frozenset({'japanese', 'greens'})",
     "output_type": "error",
     "traceback": [
      "\u001b[1;31m---------------------------------------------------------------------------\u001b[0m",
      "\u001b[1;31mKeyError\u001b[0m                                  Traceback (most recent call last)",
      "\u001b[1;32m<ipython-input-55-2d7af2cb481c>\u001b[0m in \u001b[0;36m<module>\u001b[1;34m()\u001b[0m\n\u001b[1;32m----> 1\u001b[1;33m \u001b[0mdf_test\u001b[0m\u001b[1;33m[\u001b[0m\u001b[1;34m'better_ingredients'\u001b[0m\u001b[1;33m]\u001b[0m \u001b[1;33m=\u001b[0m \u001b[0mdf_test\u001b[0m\u001b[1;33m[\u001b[0m\u001b[1;34m'ingredients'\u001b[0m\u001b[1;33m]\u001b[0m\u001b[1;33m.\u001b[0m\u001b[0mmap\u001b[0m\u001b[1;33m(\u001b[0m\u001b[0mimprove_ingredients\u001b[0m\u001b[1;33m)\u001b[0m\u001b[1;33m\u001b[0m\u001b[0m\n\u001b[0m",
      "\u001b[1;32mC:\\Anaconda3\\lib\\site-packages\\pandas\\core\\series.py\u001b[0m in \u001b[0;36mmap\u001b[1;34m(self, arg, na_action)\u001b[0m\n\u001b[0;32m   2052\u001b[0m                                      index=self.index).__finalize__(self)\n\u001b[0;32m   2053\u001b[0m         \u001b[1;32melse\u001b[0m\u001b[1;33m:\u001b[0m\u001b[1;33m\u001b[0m\u001b[0m\n\u001b[1;32m-> 2054\u001b[1;33m             \u001b[0mmapped\u001b[0m \u001b[1;33m=\u001b[0m \u001b[0mmap_f\u001b[0m\u001b[1;33m(\u001b[0m\u001b[0mvalues\u001b[0m\u001b[1;33m,\u001b[0m \u001b[0marg\u001b[0m\u001b[1;33m)\u001b[0m\u001b[1;33m\u001b[0m\u001b[0m\n\u001b[0m\u001b[0;32m   2055\u001b[0m             return self._constructor(mapped,\n\u001b[0;32m   2056\u001b[0m                                      index=self.index).__finalize__(self)\n",
      "\u001b[1;32mpandas\\src\\inference.pyx\u001b[0m in \u001b[0;36mpandas.lib.map_infer (pandas\\lib.c:62578)\u001b[1;34m()\u001b[0m\n",
      "\u001b[1;32m<ipython-input-47-f1863bc0252f>\u001b[0m in \u001b[0;36mimprove_ingredients\u001b[1;34m(ingredient_list)\u001b[0m\n\u001b[0;32m      3\u001b[0m     \u001b[0mbetter_ingredients\u001b[0m \u001b[1;33m=\u001b[0m \u001b[1;33m[\u001b[0m\u001b[1;33m]\u001b[0m\u001b[1;33m\u001b[0m\u001b[0m\n\u001b[0;32m      4\u001b[0m     \u001b[1;32mfor\u001b[0m \u001b[0mingredient\u001b[0m \u001b[1;32min\u001b[0m \u001b[0mingredient_list\u001b[0m\u001b[1;33m:\u001b[0m\u001b[1;33m\u001b[0m\u001b[0m\n\u001b[1;32m----> 5\u001b[1;33m         \u001b[0mbetter_ingredients\u001b[0m\u001b[1;33m.\u001b[0m\u001b[0mappend\u001b[0m\u001b[1;33m(\u001b[0m\u001b[1;34m\" \"\u001b[0m\u001b[1;33m.\u001b[0m\u001b[0mjoin\u001b[0m\u001b[1;33m(\u001b[0m\u001b[0mbest_replacement_sorted\u001b[0m\u001b[1;33m(\u001b[0m\u001b[0mto_ingredient\u001b[0m\u001b[1;33m(\u001b[0m\u001b[0mingredient\u001b[0m\u001b[1;33m.\u001b[0m\u001b[0mlower\u001b[0m\u001b[1;33m(\u001b[0m\u001b[1;33m)\u001b[0m\u001b[1;33m)\u001b[0m\u001b[1;33m,\u001b[0m \u001b[0mvocabulary\u001b[0m\u001b[1;33m)\u001b[0m\u001b[1;33m)\u001b[0m\u001b[1;33m)\u001b[0m\u001b[1;33m\u001b[0m\u001b[0m\n\u001b[0m\u001b[0;32m      6\u001b[0m     \u001b[1;32mreturn\u001b[0m \u001b[1;34m\";\"\u001b[0m\u001b[1;33m.\u001b[0m\u001b[0mjoin\u001b[0m\u001b[1;33m(\u001b[0m\u001b[0mbetter_ingredients\u001b[0m\u001b[1;33m)\u001b[0m\u001b[1;33m\u001b[0m\u001b[0m\n",
      "\u001b[1;32m<ipython-input-33-6590fe40948b>\u001b[0m in \u001b[0;36mbest_replacement_sorted\u001b[1;34m(ingredient, vocabulary)\u001b[0m\n\u001b[0;32m      1\u001b[0m \u001b[1;32mdef\u001b[0m \u001b[0mbest_replacement_sorted\u001b[0m\u001b[1;33m(\u001b[0m\u001b[0mingredient\u001b[0m\u001b[1;33m,\u001b[0m \u001b[0mvocabulary\u001b[0m\u001b[1;33m)\u001b[0m\u001b[1;33m:\u001b[0m\u001b[1;33m\u001b[0m\u001b[0m\n\u001b[0;32m      2\u001b[0m     \u001b[1;34m\"Computes best replacement ingredient for a given input.\"\u001b[0m\u001b[1;33m\u001b[0m\u001b[0m\n\u001b[1;32m----> 3\u001b[1;33m     \u001b[1;32mreturn\u001b[0m \u001b[0mmax\u001b[0m\u001b[1;33m(\u001b[0m\u001b[0mcandidates_sorted\u001b[0m\u001b[1;33m(\u001b[0m\u001b[0mingredient\u001b[0m\u001b[1;33m,\u001b[0m \u001b[0mvocabulary\u001b[0m\u001b[1;33m)\u001b[0m\u001b[1;33m,\u001b[0m \u001b[0mkey\u001b[0m\u001b[1;33m=\u001b[0m\u001b[1;32mlambda\u001b[0m \u001b[0mw\u001b[0m\u001b[1;33m:\u001b[0m \u001b[0mvocabulary\u001b[0m\u001b[1;33m[\u001b[0m\u001b[0mw\u001b[0m\u001b[1;33m]\u001b[0m\u001b[1;33m)\u001b[0m\u001b[1;33m\u001b[0m\u001b[0m\n\u001b[0m",
      "\u001b[1;32m<ipython-input-33-6590fe40948b>\u001b[0m in \u001b[0;36m<lambda>\u001b[1;34m(w)\u001b[0m\n\u001b[0;32m      1\u001b[0m \u001b[1;32mdef\u001b[0m \u001b[0mbest_replacement_sorted\u001b[0m\u001b[1;33m(\u001b[0m\u001b[0mingredient\u001b[0m\u001b[1;33m,\u001b[0m \u001b[0mvocabulary\u001b[0m\u001b[1;33m)\u001b[0m\u001b[1;33m:\u001b[0m\u001b[1;33m\u001b[0m\u001b[0m\n\u001b[0;32m      2\u001b[0m     \u001b[1;34m\"Computes best replacement ingredient for a given input.\"\u001b[0m\u001b[1;33m\u001b[0m\u001b[0m\n\u001b[1;32m----> 3\u001b[1;33m     \u001b[1;32mreturn\u001b[0m \u001b[0mmax\u001b[0m\u001b[1;33m(\u001b[0m\u001b[0mcandidates_sorted\u001b[0m\u001b[1;33m(\u001b[0m\u001b[0mingredient\u001b[0m\u001b[1;33m,\u001b[0m \u001b[0mvocabulary\u001b[0m\u001b[1;33m)\u001b[0m\u001b[1;33m,\u001b[0m \u001b[0mkey\u001b[0m\u001b[1;33m=\u001b[0m\u001b[1;32mlambda\u001b[0m \u001b[0mw\u001b[0m\u001b[1;33m:\u001b[0m \u001b[0mvocabulary\u001b[0m\u001b[1;33m[\u001b[0m\u001b[0mw\u001b[0m\u001b[1;33m]\u001b[0m\u001b[1;33m)\u001b[0m\u001b[1;33m\u001b[0m\u001b[0m\n\u001b[0m",
      "\u001b[1;31mKeyError\u001b[0m: frozenset({'japanese', 'greens'})"
     ]
    }
   ],
   "source": [
    "df_test['better_ingredients'] = df_test['ingredients'].map(improve_ingredients)"
   ]
  },
  {
   "cell_type": "markdown",
   "metadata": {},
   "source": [
    "We get a KeyError, due to the absence of an item in our vocabulary. No problem, let's build a better vocabulary by using the test dataset also."
   ]
  },
  {
   "cell_type": "code",
   "execution_count": 57,
   "metadata": {
    "collapsed": false
   },
   "outputs": [],
   "source": [
    "all_ingredients_text = []\n",
    "for df in [df_train, df_test]:\n",
    "    for ingredient_list in df.ingredients:\n",
    "        all_ingredients_text += [ing.lower() for ing in ingredient_list]\n",
    "all_ingredients = [to_ingredient(text) for text in all_ingredients_text]\n",
    "c = Counter(all_ingredients)\n",
    "vocabulary = dict(c.most_common())"
   ]
  },
  {
   "cell_type": "markdown",
   "metadata": {},
   "source": [
    "Let's run the above line again to build our test set:"
   ]
  },
  {
   "cell_type": "code",
   "execution_count": 58,
   "metadata": {
    "collapsed": true
   },
   "outputs": [],
   "source": [
    "df_test['better_ingredients'] = df_test['ingredients'].map(improve_ingredients)"
   ]
  },
  {
   "cell_type": "markdown",
   "metadata": {},
   "source": [
    "And now, let's build our feature matrix:"
   ]
  },
  {
   "cell_type": "code",
   "execution_count": 64,
   "metadata": {
    "collapsed": true
   },
   "outputs": [],
   "source": [
    "X_submit = cv.transform(df_test['better_ingredients'].values)"
   ]
  },
  {
   "cell_type": "code",
   "execution_count": 65,
   "metadata": {
    "collapsed": false
   },
   "outputs": [
    {
     "data": {
      "text/plain": [
       "LogisticRegression(C=1.0, class_weight=None, dual=False, fit_intercept=True,\n",
       "          intercept_scaling=1, max_iter=100, multi_class='ovr', n_jobs=1,\n",
       "          penalty='l2', random_state=None, solver='liblinear', tol=0.0001,\n",
       "          verbose=0, warm_start=False)"
      ]
     },
     "execution_count": 65,
     "metadata": {},
     "output_type": "execute_result"
    }
   ],
   "source": [
    "logistic.fit(X, y)"
   ]
  },
  {
   "cell_type": "code",
   "execution_count": 66,
   "metadata": {
    "collapsed": false
   },
   "outputs": [],
   "source": [
    "y_submit = logistic.predict(X_submit)"
   ]
  },
  {
   "cell_type": "code",
   "execution_count": 67,
   "metadata": {
    "collapsed": true
   },
   "outputs": [],
   "source": [
    "cuisines = [u'greek', u'southern_us', u'filipino', u'indian', u'jamaican',\n",
    "       u'spanish', u'italian', u'mexican', u'chinese', u'british', u'thai',\n",
    "       u'vietnamese', u'cajun_creole', u'brazilian', u'french',\n",
    "       u'japanese', u'irish', u'korean', u'moroccan', u'russian']"
   ]
  },
  {
   "cell_type": "code",
   "execution_count": 72,
   "metadata": {
    "collapsed": false
   },
   "outputs": [],
   "source": [
    "with open(\"submission_better_words.csv\", 'w') as f:\n",
    "    f.write(\"id,cuisine\\n\")\n",
    "    for i, cuisine in zip(df_test.id, enc.inverse_transform(y_submit)):\n",
    "        f.write(\"{},{}\\n\".format(i, cuisine))"
   ]
  },
  {
   "cell_type": "markdown",
   "metadata": {},
   "source": [
    "# Conclusion "
   ]
  },
  {
   "cell_type": "markdown",
   "metadata": {},
   "source": [
    "My submission (to the already closed contest) achieves a ranking of 618th, nothing to frill about. That's too bad. I would have hoped it would somehow improve my score, even though the K-fold had shown worse performance. Nevertheless, I think what is valuable here is that we have devised a way to improve a given text feature vector by using simple probability. This technique might be useful in other machine learning settings, when one can't trust the absolute reliability of the data. As demonstrated on the most exotic ingredients found in the dataset, this method can perform very well and transform an ingredient that is quite exotic into something that still makes sense."
   ]
  }
 ],
 "metadata": {
  "kernelspec": {
   "display_name": "Python 3",
   "language": "python",
   "name": "python3"
  },
  "language_info": {
   "codemirror_mode": {
    "name": "ipython",
    "version": 3
   },
   "file_extension": ".py",
   "mimetype": "text/x-python",
   "name": "python",
   "nbconvert_exporter": "python",
   "pygments_lexer": "ipython3",
   "version": "3.5.1"
  }
 },
 "nbformat": 4,
 "nbformat_minor": 0
}
